{
 "cells": [
  {
   "cell_type": "code",
   "execution_count": 2,
   "metadata": {},
   "outputs": [],
   "source": [
    "import numpy as np\n",
    "import pandas as pd\n",
    "import seaborn as sbn\n",
    "import pylab as plt\n",
    "import scipy.stats as st\n",
    "import pdir as dir"
   ]
  },
  {
   "cell_type": "code",
   "execution_count": 3,
   "metadata": {},
   "outputs": [
    {
     "data": {
      "text/plain": [
       "0.6288852513235018"
      ]
     },
     "execution_count": 3,
     "metadata": {},
     "output_type": "execute_result"
    }
   ],
   "source": [
    "import random\n",
    "\n",
    "random.random()"
   ]
  },
  {
   "cell_type": "markdown",
   "metadata": {},
   "source": [
    "## The linear congruential generator"
   ]
  },
  {
   "cell_type": "code",
   "execution_count": 4,
   "metadata": {},
   "outputs": [],
   "source": [
    "# values from the numerical recipies\n",
    "m = 2**32\n",
    "a = 1664525\n",
    "c = 1013904223"
   ]
  },
  {
   "cell_type": "code",
   "execution_count": 5,
   "metadata": {},
   "outputs": [
    {
     "data": {
      "text/plain": [
       "1020562323"
      ]
     },
     "execution_count": 5,
     "metadata": {},
     "output_type": "execute_result"
    }
   ],
   "source": [
    "R0 = 4\n",
    "R1 = (a*R0+c)%m\n",
    "R1"
   ]
  },
  {
   "cell_type": "code",
   "execution_count": 6,
   "metadata": {},
   "outputs": [
    {
     "name": "stdout",
     "output_type": "stream",
     "text": [
      "0.2376181825529784\n",
      "0.6413819692097604\n",
      "0.5583668493200094\n",
      "0.8159323614090681\n",
      "0.04994240193627775\n"
     ]
    }
   ],
   "source": [
    "for i in range(5):\n",
    "    print(R1/m)\n",
    "    R1 = (a*R1+c)%m"
   ]
  },
  {
   "cell_type": "code",
   "execution_count": 7,
   "metadata": {},
   "outputs": [],
   "source": [
    "results = []\n",
    "for i in range(5000):\n",
    "    results.append(R1/m)\n",
    "    R1 = (a*R1+c)%m"
   ]
  },
  {
   "cell_type": "code",
   "execution_count": 8,
   "metadata": {},
   "outputs": [
    {
     "data": {
      "text/plain": [
       "(array([494., 457., 480., 518., 511., 502., 503., 507., 507., 521.]),\n",
       " array([2.93839024e-04, 1.00261839e-01, 2.00229839e-01, 3.00197840e-01,\n",
       "        4.00165840e-01, 5.00133840e-01, 6.00101840e-01, 7.00069841e-01,\n",
       "        8.00037841e-01, 9.00005841e-01, 9.99973841e-01]),\n",
       " <a list of 10 Patch objects>)"
      ]
     },
     "execution_count": 8,
     "metadata": {},
     "output_type": "execute_result"
    },
    {
     "data": {
      "image/png": "[encoded data removed]",
      "text/plain": [
       "<Figure size 432x288 with 1 Axes>"
      ]
     },
     "metadata": {
      "needs_background": "light"
     },
     "output_type": "display_data"
    }
   ],
   "source": [
    "plt.hist(results)"
   ]
  },
  {
   "cell_type": "markdown",
   "metadata": {},
   "source": [
    "# Random Modules"
   ]
  },
  {
   "cell_type": "markdown",
   "metadata": {},
   "source": [
    "## Defult Python random module"
   ]
  },
  {
   "cell_type": "code",
   "execution_count": 9,
   "metadata": {},
   "outputs": [
    {
     "data": {
      "text/plain": [
       "\u001b[0;35mproperty:\u001b[0m\n",
       "    \u001b[1;34mBPF\u001b[0m\u001b[1;34m, \u001b[0m\u001b[1;34mLOG4\u001b[0m\u001b[1;34m, \u001b[0m\u001b[1;34mNV_MAGICCONST\u001b[0m\u001b[1;34m, \u001b[0m\u001b[1;34mRECIP_BPF\u001b[0m\u001b[1;34m, \u001b[0m\u001b[1;34mSG_MAGICCONST\u001b[0m\u001b[1;34m, \u001b[0m\u001b[1;34mTWOPI\u001b[0m\n",
       "\u001b[0;35mclass:\u001b[0m\n",
       "    \u001b[1;34mRandom\u001b[0m\u001b[1;34m: \u001b[0m\u001b[1;30mRandom number generator base class used by bound module functions.\u001b[0m\n",
       "    \u001b[1;34mSystemRandom\u001b[0m\u001b[1;34m: \u001b[0m\u001b[1;30mAlternate random number generator using sources provided\u001b[0m\n",
       "\u001b[0;35mfunction:\u001b[0m\n",
       "    \u001b[1;34mbetavariate\u001b[0m\u001b[1;34m: \u001b[0m\u001b[1;30mBeta distribution.\u001b[0m\n",
       "    \u001b[1;34mchoice\u001b[0m\u001b[1;34m: \u001b[0m\u001b[1;30mChoose a random element from a non-empty sequence.\u001b[0m\n",
       "    \u001b[1;34mchoices\u001b[0m\u001b[1;34m: \u001b[0m\u001b[1;30mReturn a k sized list of population elements chosen with replacement.\u001b[0m\n",
       "    \u001b[1;34mexpovariate\u001b[0m\u001b[1;34m: \u001b[0m\u001b[1;30mExponential distribution.\u001b[0m\n",
       "    \u001b[1;34mgammavariate\u001b[0m\u001b[1;34m: \u001b[0m\u001b[1;30mGamma distribution.  Not the gamma function!\u001b[0m\n",
       "    \u001b[1;34mgauss\u001b[0m\u001b[1;34m: \u001b[0m\u001b[1;30mGaussian distribution.\u001b[0m\n",
       "    \u001b[1;34mgetrandbits\u001b[0m\u001b[1;34m: \u001b[0m\u001b[1;30mgetrandbits(k) -> x.  Generates an int with k random bits.\u001b[0m\n",
       "    \u001b[1;34mgetstate\u001b[0m\u001b[1;34m: \u001b[0m\u001b[1;30mReturn internal state; can be passed to setstate() later.\u001b[0m\n",
       "    \u001b[1;34mlognormvariate\u001b[0m\u001b[1;34m: \u001b[0m\u001b[1;30mLog normal distribution.\u001b[0m\n",
       "    \u001b[1;34mnormalvariate\u001b[0m\u001b[1;34m: \u001b[0m\u001b[1;30mNormal distribution.\u001b[0m\n",
       "    \u001b[1;34mparetovariate\u001b[0m\u001b[1;34m: \u001b[0m\u001b[1;30mPareto distribution.  alpha is the shape parameter.\u001b[0m\n",
       "    \u001b[1;34mrandint\u001b[0m\u001b[1;34m: \u001b[0m\u001b[1;30mReturn random integer in range [a, b], including both end points.\u001b[0m\n",
       "    \u001b[1;34mrandom\u001b[0m\u001b[1;34m: \u001b[0m\u001b[1;30mrandom() -> x in the interval [0, 1).\u001b[0m\n",
       "    \u001b[1;34mrandrange\u001b[0m\u001b[1;34m: \u001b[0m\u001b[1;30mChoose a random item from range(start, stop[, step]).\u001b[0m\n",
       "    \u001b[1;34msample\u001b[0m\u001b[1;34m: \u001b[0m\u001b[1;30mChooses k unique random elements from a population sequence or set.\u001b[0m\n",
       "    \u001b[1;34mseed\u001b[0m\u001b[1;34m: \u001b[0m\u001b[1;30mInitialize internal state from hashable object.\u001b[0m\n",
       "    \u001b[1;34msetstate\u001b[0m\u001b[1;34m: \u001b[0m\u001b[1;30mRestore internal state from object returned by getstate().\u001b[0m\n",
       "    \u001b[1;34mshuffle\u001b[0m\u001b[1;34m: \u001b[0m\u001b[1;30mShuffle list x in place, and return None.\u001b[0m\n",
       "    \u001b[1;34mtriangular\u001b[0m\u001b[1;34m: \u001b[0m\u001b[1;30mTriangular distribution.\u001b[0m\n",
       "    \u001b[1;34muniform\u001b[0m\u001b[1;34m: \u001b[0m\u001b[1;30mGet a random number in the range [a, b) or [a, b] depending on rounding.\u001b[0m\n",
       "    \u001b[1;34mvonmisesvariate\u001b[0m\u001b[1;34m: \u001b[0m\u001b[1;30mCircular data distribution.\u001b[0m\n",
       "    \u001b[1;34mweibullvariate\u001b[0m\u001b[1;34m: \u001b[0m\u001b[1;30mWeibull distribution.\u001b[0m"
      ]
     },
     "execution_count": 9,
     "metadata": {},
     "output_type": "execute_result"
    }
   ],
   "source": [
    "import random as rn\n",
    "dir(rn).public"
   ]
  },
  {
   "cell_type": "code",
   "execution_count": 10,
   "metadata": {},
   "outputs": [
    {
     "data": {
      "text/plain": [
       "['betavariate',\n",
       " 'expovariate',\n",
       " 'gammavariate',\n",
       " 'lognormvariate',\n",
       " 'normalvariate',\n",
       " 'paretovariate',\n",
       " 'vonmisesvariate',\n",
       " 'weibullvariate']"
      ]
     },
     "execution_count": 10,
     "metadata": {},
     "output_type": "execute_result"
    }
   ],
   "source": [
    "[f for f in dir(rn) if f.endswith('variate')]\n",
    "#Nice way to extract substrings "
   ]
  },
  {
   "cell_type": "markdown",
   "metadata": {},
   "source": [
    "## Numpy (np) random module"
   ]
  },
  {
   "cell_type": "code",
   "execution_count": 11,
   "metadata": {},
   "outputs": [
    {
     "data": {
      "text/plain": [
       "\u001b[0;35mproperty:\u001b[0m\n",
       "    \u001b[1;34mabsolute_import\u001b[0m\u001b[1;34m, \u001b[0m\u001b[1;34mdivision\u001b[0m\u001b[1;34m, \u001b[0m\u001b[1;34minfo\u001b[0m\u001b[1;34m, \u001b[0m\u001b[1;34mmtrand\u001b[0m\u001b[1;34m, \u001b[0m\u001b[1;34mnp\u001b[0m\u001b[1;34m, \u001b[0m\u001b[1;34moperator\u001b[0m\u001b[1;34m, \u001b[0m\u001b[1;34mprint_function\u001b[0m\u001b[1;34m, \u001b[0m\u001b[1;34mtest\u001b[0m\u001b[1;34m, \u001b[0m\u001b[1;34mwarnings\u001b[0m\n",
       "\u001b[0;35mclass:\u001b[0m\n",
       "    \u001b[1;34mRandomState\u001b[0m\u001b[1;34m: \u001b[0m\u001b[1;30mRandomState(seed=None)\u001b[0m\n",
       "\u001b[0;35mfunction:\u001b[0m\n",
       "    \u001b[1;34mLock\u001b[0m\u001b[1;34m: \u001b[0m\u001b[1;30mallocate_lock() -> lock object\u001b[0m\n",
       "    \u001b[1;34mbeta\u001b[0m\u001b[1;34m: \u001b[0m\u001b[1;30mbeta(a, b, size=None)\u001b[0m\n",
       "    \u001b[1;34mbinomial\u001b[0m\u001b[1;34m: \u001b[0m\u001b[1;30mbinomial(n, p, size=None)\u001b[0m\n",
       "    \u001b[1;34mbytes\u001b[0m\u001b[1;34m: \u001b[0m\u001b[1;30mbytes(length)\u001b[0m\n",
       "    \u001b[1;34mchisquare\u001b[0m\u001b[1;34m: \u001b[0m\u001b[1;30mchisquare(df, size=None)\u001b[0m\n",
       "    \u001b[1;34mchoice\u001b[0m\u001b[1;34m: \u001b[0m\u001b[1;30mchoice(a, size=None, replace=True, p=None)\u001b[0m\n",
       "    \u001b[1;34mdirichlet\u001b[0m\u001b[1;34m: \u001b[0m\u001b[1;30mdirichlet(alpha, size=None)\u001b[0m\n",
       "    \u001b[1;34mexponential\u001b[0m\u001b[1;34m: \u001b[0m\u001b[1;30mexponential(scale=1.0, size=None)\u001b[0m\n",
       "    \u001b[1;34mf\u001b[0m\u001b[1;34m: \u001b[0m\u001b[1;30mf(dfnum, dfden, size=None)\u001b[0m\n",
       "    \u001b[1;34mgamma\u001b[0m\u001b[1;34m: \u001b[0m\u001b[1;30mgamma(shape, scale=1.0, size=None)\u001b[0m\n",
       "    \u001b[1;34mgeometric\u001b[0m\u001b[1;34m: \u001b[0m\u001b[1;30mgeometric(p, size=None)\u001b[0m\n",
       "    \u001b[1;34mget_state\u001b[0m\u001b[1;34m: \u001b[0m\u001b[1;30mget_state()\u001b[0m\n",
       "    \u001b[1;34mgumbel\u001b[0m\u001b[1;34m: \u001b[0m\u001b[1;30mgumbel(loc=0.0, scale=1.0, size=None)\u001b[0m\n",
       "    \u001b[1;34mhypergeometric\u001b[0m\u001b[1;34m: \u001b[0m\u001b[1;30mhypergeometric(ngood, nbad, nsample, size=None)\u001b[0m\n",
       "    \u001b[1;34mlaplace\u001b[0m\u001b[1;34m: \u001b[0m\u001b[1;30mlaplace(loc=0.0, scale=1.0, size=None)\u001b[0m\n",
       "    \u001b[1;34mlogistic\u001b[0m\u001b[1;34m: \u001b[0m\u001b[1;30mlogistic(loc=0.0, scale=1.0, size=None)\u001b[0m\n",
       "    \u001b[1;34mlognormal\u001b[0m\u001b[1;34m: \u001b[0m\u001b[1;30mlognormal(mean=0.0, sigma=1.0, size=None)\u001b[0m\n",
       "    \u001b[1;34mlogseries\u001b[0m\u001b[1;34m: \u001b[0m\u001b[1;30mlogseries(p, size=None)\u001b[0m\n",
       "    \u001b[1;34mmultinomial\u001b[0m\u001b[1;34m: \u001b[0m\u001b[1;30mmultinomial(n, pvals, size=None)\u001b[0m\n",
       "    \u001b[1;34mmultivariate_normal\u001b[0m\u001b[1;34m: \u001b[0m\u001b[1;30mmultivariate_normal(mean, cov[, size, check_valid, tol])\u001b[0m\n",
       "    \u001b[1;34mnegative_binomial\u001b[0m\u001b[1;34m: \u001b[0m\u001b[1;30mnegative_binomial(n, p, size=None)\u001b[0m\n",
       "    \u001b[1;34mnoncentral_chisquare\u001b[0m\u001b[1;34m: \u001b[0m\u001b[1;30mnoncentral_chisquare(df, nonc, size=None)\u001b[0m\n",
       "    \u001b[1;34mnoncentral_f\u001b[0m\u001b[1;34m: \u001b[0m\u001b[1;30mnoncentral_f(dfnum, dfden, nonc, size=None)\u001b[0m\n",
       "    \u001b[1;34mnormal\u001b[0m\u001b[1;34m: \u001b[0m\u001b[1;30mnormal(loc=0.0, scale=1.0, size=None)\u001b[0m\n",
       "    \u001b[1;34mpareto\u001b[0m\u001b[1;34m: \u001b[0m\u001b[1;30mpareto(a, size=None)\u001b[0m\n",
       "    \u001b[1;34mpermutation\u001b[0m\u001b[1;34m: \u001b[0m\u001b[1;30mpermutation(x)\u001b[0m\n",
       "    \u001b[1;34mpoisson\u001b[0m\u001b[1;34m: \u001b[0m\u001b[1;30mpoisson(lam=1.0, size=None)\u001b[0m\n",
       "    \u001b[1;34mpower\u001b[0m\u001b[1;34m: \u001b[0m\u001b[1;30mpower(a, size=None)\u001b[0m\n",
       "    \u001b[1;34mrand\u001b[0m\u001b[1;34m: \u001b[0m\u001b[1;30mrand(d0, d1, ..., dn)\u001b[0m\n",
       "    \u001b[1;34mrandint\u001b[0m\u001b[1;34m: \u001b[0m\u001b[1;30mrandint(low, high=None, size=None, dtype='l')\u001b[0m\n",
       "    \u001b[1;34mrandn\u001b[0m\u001b[1;34m: \u001b[0m\u001b[1;30mrandn(d0, d1, ..., dn)\u001b[0m\n",
       "    \u001b[1;34mrandom\u001b[0m\u001b[1;34m: \u001b[0m\u001b[1;30mrandom_sample(size=None)\u001b[0m\n",
       "    \u001b[1;34mrandom_integers\u001b[0m\u001b[1;34m: \u001b[0m\u001b[1;30mrandom_integers(low, high=None, size=None)\u001b[0m\n",
       "    \u001b[1;34mrandom_sample\u001b[0m\u001b[1;34m: \u001b[0m\u001b[1;30mrandom_sample(size=None)\u001b[0m\n",
       "    \u001b[1;34mranf\u001b[0m\u001b[1;34m: \u001b[0m\u001b[1;30mrandom_sample(size=None)\u001b[0m\n",
       "    \u001b[1;34mrayleigh\u001b[0m\u001b[1;34m: \u001b[0m\u001b[1;30mrayleigh(scale=1.0, size=None)\u001b[0m\n",
       "    \u001b[1;34msample\u001b[0m\u001b[1;34m: \u001b[0m\u001b[1;30mrandom_sample(size=None)\u001b[0m\n",
       "    \u001b[1;34mseed\u001b[0m\u001b[1;34m: \u001b[0m\u001b[1;30mseed(seed=None)\u001b[0m\n",
       "    \u001b[1;34mset_state\u001b[0m\u001b[1;34m: \u001b[0m\u001b[1;30mset_state(state)\u001b[0m\n",
       "    \u001b[1;34mshuffle\u001b[0m\u001b[1;34m: \u001b[0m\u001b[1;30mshuffle(x)\u001b[0m\n",
       "    \u001b[1;34mstandard_cauchy\u001b[0m\u001b[1;34m: \u001b[0m\u001b[1;30mstandard_cauchy(size=None)\u001b[0m\n",
       "    \u001b[1;34mstandard_exponential\u001b[0m\u001b[1;34m: \u001b[0m\u001b[1;30mstandard_exponential(size=None)\u001b[0m\n",
       "    \u001b[1;34mstandard_gamma\u001b[0m\u001b[1;34m: \u001b[0m\u001b[1;30mstandard_gamma(shape, size=None)\u001b[0m\n",
       "    \u001b[1;34mstandard_normal\u001b[0m\u001b[1;34m: \u001b[0m\u001b[1;30mstandard_normal(size=None)\u001b[0m\n",
       "    \u001b[1;34mstandard_t\u001b[0m\u001b[1;34m: \u001b[0m\u001b[1;30mstandard_t(df, size=None)\u001b[0m\n",
       "    \u001b[1;34mtriangular\u001b[0m\u001b[1;34m: \u001b[0m\u001b[1;30mtriangular(left, mode, right, size=None)\u001b[0m\n",
       "    \u001b[1;34muniform\u001b[0m\u001b[1;34m: \u001b[0m\u001b[1;30muniform(low=0.0, high=1.0, size=None)\u001b[0m\n",
       "    \u001b[1;34mvonmises\u001b[0m\u001b[1;34m: \u001b[0m\u001b[1;30mvonmises(mu, kappa, size=None)\u001b[0m\n",
       "    \u001b[1;34mwald\u001b[0m\u001b[1;34m: \u001b[0m\u001b[1;30mwald(mean, scale, size=None)\u001b[0m\n",
       "    \u001b[1;34mweibull\u001b[0m\u001b[1;34m: \u001b[0m\u001b[1;30mweibull(a, size=None)\u001b[0m\n",
       "    \u001b[1;34mzipf\u001b[0m\u001b[1;34m: \u001b[0m\u001b[1;30mzipf(a, size=None)\u001b[0m"
      ]
     },
     "execution_count": 11,
     "metadata": {},
     "output_type": "execute_result"
    }
   ],
   "source": [
    "import numpy as np\n",
    "dir(np.random).public"
   ]
  },
  {
   "cell_type": "markdown",
   "metadata": {},
   "source": [
    "## Scipy.stat (st) random and statistics module"
   ]
  },
  {
   "cell_type": "code",
   "execution_count": 14,
   "metadata": {
    "collapsed": true
   },
   "outputs": [
    {
     "data": {
      "text/plain": [
       "\u001b[0;35mproperty:\u001b[0m\n",
       "    \u001b[1;34mabsolute_import\u001b[0m\u001b[1;34m, \u001b[0m\u001b[1;34malpha\u001b[0m\u001b[1;34m, \u001b[0m\u001b[1;34manglit\u001b[0m\u001b[1;34m, \u001b[0m\u001b[1;34marcsine\u001b[0m\u001b[1;34m, \u001b[0m\u001b[1;34margus\u001b[0m\u001b[1;34m, \u001b[0m\u001b[1;34mbernoulli\u001b[0m\u001b[1;34m, \u001b[0m\u001b[1;34mbeta\u001b[0m\u001b[1;34m, \u001b[0m\u001b[1;34mbetaprime\u001b[0m\u001b[1;34m, \u001b[0m\u001b[1;34mbinom\u001b[0m\u001b[1;34m, \u001b[0m\u001b[1;34mboltzmann\u001b[0m\u001b[1;34m, \u001b[0m\u001b[1;34mbradford\u001b[0m\u001b[1;34m, \u001b[0m\u001b[1;34mburr\u001b[0m\u001b[1;34m, \u001b[0m\u001b[1;34mburr12\u001b[0m\u001b[1;34m, \u001b[0m\u001b[1;34mcauchy\u001b[0m\u001b[1;34m, \u001b[0m\u001b[1;34mchi\u001b[0m\u001b[1;34m, \u001b[0m\u001b[1;34mchi2\u001b[0m\u001b[1;34m, \u001b[0m\u001b[1;34mcontingency\u001b[0m\u001b[1;34m, \u001b[0m\u001b[1;34mcosine\u001b[0m\u001b[1;34m, \u001b[0m\u001b[1;34mcrystalball\u001b[0m\u001b[1;34m, \u001b[0m\u001b[1;34mdgamma\u001b[0m\u001b[1;34m, \u001b[0m\u001b[1;34mdirichlet\u001b[0m\u001b[1;34m, \u001b[0m\u001b[1;34mdistributions\u001b[0m\u001b[1;34m, \u001b[0m\u001b[1;34mdivision\u001b[0m\u001b[1;34m, \u001b[0m\u001b[1;34mdlaplace\u001b[0m\u001b[1;34m, \u001b[0m\u001b[1;34mdweibull\u001b[0m\u001b[1;34m, \u001b[0m\u001b[1;34merlang\u001b[0m\u001b[1;34m, \u001b[0m\u001b[1;34mexpon\u001b[0m\u001b[1;34m, \u001b[0m\u001b[1;34mexponnorm\u001b[0m\u001b[1;34m, \u001b[0m\u001b[1;34mexponpow\u001b[0m\u001b[1;34m, \u001b[0m\u001b[1;34mexponweib\u001b[0m\u001b[1;34m, \u001b[0m\u001b[1;34mf\u001b[0m\u001b[1;34m, \u001b[0m\u001b[1;34mfatiguelife\u001b[0m\u001b[1;34m, \u001b[0m\u001b[1;34mfisk\u001b[0m\u001b[1;34m, \u001b[0m\u001b[1;34mfoldcauchy\u001b[0m\u001b[1;34m, \u001b[0m\u001b[1;34mfoldnorm\u001b[0m\u001b[1;34m, \u001b[0m\u001b[1;34mfrechet_l\u001b[0m\u001b[1;34m, \u001b[0m\u001b[1;34mfrechet_r\u001b[0m\u001b[1;34m, \u001b[0m\u001b[1;34mgamma\u001b[0m\u001b[1;34m, \u001b[0m\u001b[1;34mgausshyper\u001b[0m\u001b[1;34m, \u001b[0m\u001b[1;34mgenexpon\u001b[0m\u001b[1;34m, \u001b[0m\u001b[1;34mgenextreme\u001b[0m\u001b[1;34m, \u001b[0m\u001b[1;34mgengamma\u001b[0m\u001b[1;34m, \u001b[0m\u001b[1;34mgenhalflogistic\u001b[0m\u001b[1;34m, \u001b[0m\u001b[1;34mgenlogistic\u001b[0m\u001b[1;34m, \u001b[0m\u001b[1;34mgennorm\u001b[0m\u001b[1;34m, \u001b[0m\u001b[1;34mgenpareto\u001b[0m\u001b[1;34m, \u001b[0m\u001b[1;34mgeom\u001b[0m\u001b[1;34m, \u001b[0m\u001b[1;34mgilbrat\u001b[0m\u001b[1;34m, \u001b[0m\u001b[1;34mgompertz\u001b[0m\u001b[1;34m, \u001b[0m\u001b[1;34mgumbel_l\u001b[0m\u001b[1;34m, \u001b[0m\u001b[1;34mgumbel_r\u001b[0m\u001b[1;34m, \u001b[0m\u001b[1;34mhalfcauchy\u001b[0m\u001b[1;34m, \u001b[0m\u001b[1;34mhalfgennorm\u001b[0m\u001b[1;34m, \u001b[0m\u001b[1;34mhalflogistic\u001b[0m\u001b[1;34m, \u001b[0m\u001b[1;34mhalfnorm\u001b[0m\u001b[1;34m, \u001b[0m\u001b[1;34mhypergeom\u001b[0m\u001b[1;34m, \u001b[0m\u001b[1;34mhypsecant\u001b[0m\u001b[1;34m, \u001b[0m\u001b[1;34minvgamma\u001b[0m\u001b[1;34m, \u001b[0m\u001b[1;34minvgauss\u001b[0m\u001b[1;34m, \u001b[0m\u001b[1;34minvweibull\u001b[0m\u001b[1;34m, \u001b[0m\u001b[1;34minvwishart\u001b[0m\u001b[1;34m, \u001b[0m\u001b[1;34mjohnsonsb\u001b[0m\u001b[1;34m, \u001b[0m\u001b[1;34mjohnsonsu\u001b[0m\u001b[1;34m, \u001b[0m\u001b[1;34mkappa3\u001b[0m\u001b[1;34m, \u001b[0m\u001b[1;34mkappa4\u001b[0m\u001b[1;34m, \u001b[0m\u001b[1;34mkde\u001b[0m\u001b[1;34m, \u001b[0m\u001b[1;34mksone\u001b[0m\u001b[1;34m, \u001b[0m\u001b[1;34mkstwobign\u001b[0m\u001b[1;34m, \u001b[0m\u001b[1;34mlaplace\u001b[0m\u001b[1;34m, \u001b[0m\u001b[1;34mlevy\u001b[0m\u001b[1;34m, \u001b[0m\u001b[1;34mlevy_l\u001b[0m\u001b[1;34m, \u001b[0m\u001b[1;34mlevy_stable\u001b[0m\u001b[1;34m, \u001b[0m\u001b[1;34mloggamma\u001b[0m\u001b[1;34m, \u001b[0m\u001b[1;34mlogistic\u001b[0m\u001b[1;34m, \u001b[0m\u001b[1;34mloglaplace\u001b[0m\u001b[1;34m, \u001b[0m\u001b[1;34mlognorm\u001b[0m\u001b[1;34m, \u001b[0m\u001b[1;34mlogser\u001b[0m\u001b[1;34m, \u001b[0m\u001b[1;34mlomax\u001b[0m\u001b[1;34m, \u001b[0m\u001b[1;34mmatrix_normal\u001b[0m\u001b[1;34m, \u001b[0m\u001b[1;34mmaxwell\u001b[0m\u001b[1;34m, \u001b[0m\u001b[1;34mmielke\u001b[0m\u001b[1;34m, \u001b[0m\u001b[1;34mmorestats\u001b[0m\u001b[1;34m, \u001b[0m\u001b[1;34mmoyal\u001b[0m\u001b[1;34m, \u001b[0m\u001b[1;34mmstats\u001b[0m\u001b[1;34m, \u001b[0m\u001b[1;34mmstats_basic\u001b[0m\u001b[1;34m, \u001b[0m\u001b[1;34mmstats_extras\u001b[0m\u001b[1;34m, \u001b[0m\u001b[1;34mmultinomial\u001b[0m\u001b[1;34m, \u001b[0m\u001b[1;34mmultivariate_normal\u001b[0m\u001b[1;34m, \u001b[0m\u001b[1;34mmvn\u001b[0m\u001b[1;34m, \u001b[0m\u001b[1;34mnakagami\u001b[0m\u001b[1;34m, \u001b[0m\u001b[1;34mnbinom\u001b[0m\u001b[1;34m, \u001b[0m\u001b[1;34mncf\u001b[0m\u001b[1;34m, \u001b[0m\u001b[1;34mnct\u001b[0m\u001b[1;34m, \u001b[0m\u001b[1;34mncx2\u001b[0m\u001b[1;34m, \u001b[0m\u001b[1;34mnorm\u001b[0m\u001b[1;34m, \u001b[0m\u001b[1;34mnorminvgauss\u001b[0m\u001b[1;34m, \u001b[0m\u001b[1;34mortho_group\u001b[0m\u001b[1;34m, \u001b[0m\u001b[1;34mpareto\u001b[0m\u001b[1;34m, \u001b[0m\u001b[1;34mpearson3\u001b[0m\u001b[1;34m, \u001b[0m\u001b[1;34mplanck\u001b[0m\u001b[1;34m, \u001b[0m\u001b[1;34mpoisson\u001b[0m\u001b[1;34m, \u001b[0m\u001b[1;34mpowerlaw\u001b[0m\u001b[1;34m, \u001b[0m\u001b[1;34mpowerlognorm\u001b[0m\u001b[1;34m, \u001b[0m\u001b[1;34mpowernorm\u001b[0m\u001b[1;34m, \u001b[0m\u001b[1;34mprint_function\u001b[0m\u001b[1;34m, \u001b[0m\u001b[1;34mrandint\u001b[0m\u001b[1;34m, \u001b[0m\u001b[1;34mrandom_correlation\u001b[0m\u001b[1;34m, \u001b[0m\u001b[1;34mrayleigh\u001b[0m\u001b[1;34m, \u001b[0m\u001b[1;34mrdist\u001b[0m\u001b[1;34m, \u001b[0m\u001b[1;34mrecipinvgauss\u001b[0m\u001b[1;34m, \u001b[0m\u001b[1;34mreciprocal\u001b[0m\u001b[1;34m, \u001b[0m\u001b[1;34mrice\u001b[0m\u001b[1;34m, \u001b[0m\u001b[1;34msemicircular\u001b[0m\u001b[1;34m, \u001b[0m\u001b[1;34mskellam\u001b[0m\u001b[1;34m, \u001b[0m\u001b[1;34mskewnorm\u001b[0m\u001b[1;34m, \u001b[0m\u001b[1;34mspecial_ortho_group\u001b[0m\u001b[1;34m, \u001b[0m\u001b[1;34mstatlib\u001b[0m\u001b[1;34m, \u001b[0m\u001b[1;34mstats\u001b[0m\u001b[1;34m, \u001b[0m\u001b[1;34mt\u001b[0m\u001b[1;34m, \u001b[0m\u001b[1;34mtest\u001b[0m\u001b[1;34m, \u001b[0m\u001b[1;34mtrapz\u001b[0m\u001b[1;34m, \u001b[0m\u001b[1;34mtriang\u001b[0m\u001b[1;34m, \u001b[0m\u001b[1;34mtruncexpon\u001b[0m\u001b[1;34m, \u001b[0m\u001b[1;34mtruncnorm\u001b[0m\u001b[1;34m, \u001b[0m\u001b[1;34mtukeylambda\u001b[0m\u001b[1;34m, \u001b[0m\u001b[1;34muniform\u001b[0m\u001b[1;34m, \u001b[0m\u001b[1;34munitary_group\u001b[0m\u001b[1;34m, \u001b[0m\u001b[1;34mvonmises\u001b[0m\u001b[1;34m, \u001b[0m\u001b[1;34mvonmises_line\u001b[0m\u001b[1;34m, \u001b[0m\u001b[1;34mwald\u001b[0m\u001b[1;34m, \u001b[0m\u001b[1;34mweibull_max\u001b[0m\u001b[1;34m, \u001b[0m\u001b[1;34mweibull_min\u001b[0m\u001b[1;34m, \u001b[0m\u001b[1;34mwishart\u001b[0m\u001b[1;34m, \u001b[0m\u001b[1;34mwrapcauchy\u001b[0m\u001b[1;34m, \u001b[0m\u001b[1;34mzipf\u001b[0m"
      ]
     },
     "execution_count": 14,
     "metadata": {},
     "output_type": "execute_result"
    }
   ],
   "source": [
    "import scipy.stats as st\n",
    "dir(st).properties.public"
   ]
  },
  {
   "cell_type": "code",
   "execution_count": 15,
   "metadata": {
    "collapsed": true
   },
   "outputs": [
    {
     "data": {
      "text/plain": [
       "\u001b[0;35mproperty:\u001b[0m\n",
       "    \u001b[1;34ma\u001b[0m\u001b[1;34m, \u001b[0m\u001b[1;34mb\u001b[0m\u001b[1;34m, \u001b[0m\u001b[1;34mbadvalue\u001b[0m\u001b[1;34m, \u001b[0m\u001b[1;34mextradoc\u001b[0m\u001b[1;34m, \u001b[0m\u001b[1;34mgeneric_moment\u001b[0m\u001b[1;34m, \u001b[0m\u001b[1;34mmoment_type\u001b[0m\u001b[1;34m, \u001b[0m\u001b[1;34mname\u001b[0m\u001b[1;34m, \u001b[0m\u001b[1;34mnumargs\u001b[0m\u001b[1;34m, \u001b[0m\u001b[1;34mshapes\u001b[0m\u001b[1;34m, \u001b[0m\u001b[1;34mvecentropy\u001b[0m\u001b[1;34m, \u001b[0m\u001b[1;34mxtol\u001b[0m\n",
       "\u001b[0;35mdescriptor:\u001b[0m\n",
       "    \u001b[1;34mrandom_state\u001b[0m\u001b[1;34m: \u001b[0m\u001b[1;30m@property with getter, setter, Get or set the RandomState object for generating random variates.\u001b[0m\n",
       "\u001b[0;35mfunction:\u001b[0m\n",
       "    \u001b[1;34mcdf\u001b[0m\u001b[1;34m: \u001b[0m\u001b[1;30mCumulative distribution function of the given RV.\u001b[0m\n",
       "    \u001b[1;34mentropy\u001b[0m\u001b[1;34m: \u001b[0m\u001b[1;30mDifferential entropy of the RV.\u001b[0m\n",
       "    \u001b[1;34mexpect\u001b[0m\u001b[1;34m: \u001b[0m\u001b[1;30mCalculate expected value of a function with respect to the\u001b[0m\n",
       "    \u001b[1;34mfit\u001b[0m\u001b[1;34m: \u001b[0m\u001b[1;30mReturn MLEs for shape (if applicable), location, and scale\u001b[0m\n",
       "    \u001b[1;34mfit_loc_scale\u001b[0m\u001b[1;34m: \u001b[0m\u001b[1;30mEstimate loc and scale parameters from data using 1st and 2nd moments.\u001b[0m\n",
       "    \u001b[1;34mfreeze\u001b[0m\u001b[1;34m: \u001b[0m\u001b[1;30mFreeze the distribution for the given arguments.\u001b[0m\n",
       "    \u001b[1;34minterval\u001b[0m\u001b[1;34m: \u001b[0m\u001b[1;30mConfidence interval with equal areas around the median.\u001b[0m\n",
       "    \u001b[1;34misf\u001b[0m\u001b[1;34m: \u001b[0m\u001b[1;30mInverse survival function (inverse of `sf`) at q of the given RV.\u001b[0m\n",
       "    \u001b[1;34mlogcdf\u001b[0m\u001b[1;34m: \u001b[0m\u001b[1;30mLog of the cumulative distribution function at x of the given RV.\u001b[0m\n",
       "    \u001b[1;34mlogpdf\u001b[0m\u001b[1;34m: \u001b[0m\u001b[1;30mLog of the probability density function at x of the given RV.\u001b[0m\n",
       "    \u001b[1;34mlogsf\u001b[0m\u001b[1;34m: \u001b[0m\u001b[1;30mLog of the survival function of the given RV.\u001b[0m\n",
       "    \u001b[1;34mmean\u001b[0m\u001b[1;34m: \u001b[0m\u001b[1;30mMean of the distribution.\u001b[0m\n",
       "    \u001b[1;34mmedian\u001b[0m\u001b[1;34m: \u001b[0m\u001b[1;30mMedian of the distribution.\u001b[0m\n",
       "    \u001b[1;34mmoment\u001b[0m\u001b[1;34m: \u001b[0m\u001b[1;30mn-th order non-central moment of distribution.\u001b[0m\n",
       "    \u001b[1;34mnnlf\u001b[0m\u001b[1;34m: \u001b[0m\u001b[1;30mReturn negative loglikelihood function.\u001b[0m\n",
       "    \u001b[1;34mpdf\u001b[0m\u001b[1;34m: \u001b[0m\u001b[1;30mProbability density function at x of the given RV.\u001b[0m\n",
       "    \u001b[1;34mppf\u001b[0m\u001b[1;34m: \u001b[0m\u001b[1;30mPercent point function (inverse of `cdf`) at q of the given RV.\u001b[0m\n",
       "    \u001b[1;34mrvs\u001b[0m\u001b[1;34m: \u001b[0m\u001b[1;30mRandom variates of given type.\u001b[0m\n",
       "    \u001b[1;34msf\u001b[0m\u001b[1;34m: \u001b[0m\u001b[1;30mSurvival function (1 - `cdf`) at x of the given RV.\u001b[0m\n",
       "    \u001b[1;34mstats\u001b[0m\u001b[1;34m: \u001b[0m\u001b[1;30mSome statistics of the given RV.\u001b[0m\n",
       "    \u001b[1;34mstd\u001b[0m\u001b[1;34m: \u001b[0m\u001b[1;30mStandard deviation of the distribution.\u001b[0m\n",
       "    \u001b[1;34mvar\u001b[0m\u001b[1;34m: \u001b[0m\u001b[1;30mVariance of the distribution.\u001b[0m"
      ]
     },
     "execution_count": 15,
     "metadata": {},
     "output_type": "execute_result"
    }
   ],
   "source": [
    "dir(st.gamma).public"
   ]
  },
  {
   "cell_type": "code",
   "execution_count": 17,
   "metadata": {
    "collapsed": true
   },
   "outputs": [
    {
     "name": "stdout",
     "output_type": "stream",
     "text": [
      "Help on norm_gen in module scipy.stats._continuous_distns object:\n",
      "\n",
      "class norm_gen(scipy.stats._distn_infrastructure.rv_continuous)\n",
      " |  norm_gen(momtype=1, a=None, b=None, xtol=1e-14, badvalue=None, name=None, longname=None, shapes=None, extradoc=None, seed=None)\n",
      " |  \n",
      " |  A normal continuous random variable.\n",
      " |  \n",
      " |  The location (loc) keyword specifies the mean.\n",
      " |  The scale (scale) keyword specifies the standard deviation.\n",
      " |  \n",
      " |  %(before_notes)s\n",
      " |  \n",
      " |  Notes\n",
      " |  -----\n",
      " |  The probability density function for `norm` is:\n",
      " |  \n",
      " |  .. math::\n",
      " |  \n",
      " |      f(x) = \\frac{\\exp(-x^2/2)}{\\sqrt{2\\pi}}\n",
      " |  \n",
      " |  The survival function, ``norm.sf``, is also referred to as the\n",
      " |  Q-function in some contexts (see, e.g.,\n",
      " |  `Wikipedia's <https://en.wikipedia.org/wiki/Q-function>`_ definition).\n",
      " |  \n",
      " |  %(after_notes)s\n",
      " |  \n",
      " |  %(example)s\n",
      " |  \n",
      " |  Method resolution order:\n",
      " |      norm_gen\n",
      " |      scipy.stats._distn_infrastructure.rv_continuous\n",
      " |      scipy.stats._distn_infrastructure.rv_generic\n",
      " |      builtins.object\n",
      " |  \n",
      " |  Methods defined here:\n",
      " |  \n",
      " |  fit(self, data, **kwds)\n",
      " |      Return MLEs for shape (if applicable), location, and scale\n",
      " |      parameters from data.\n",
      " |      \n",
      " |      MLE stands for Maximum Likelihood Estimate.  Starting estimates for\n",
      " |      the fit are given by input arguments; for any arguments not provided\n",
      " |      with starting estimates, ``self._fitstart(data)`` is called to generate\n",
      " |      such.\n",
      " |      \n",
      " |      One can hold some parameters fixed to specific values by passing in\n",
      " |      keyword arguments ``f0``, ``f1``, ..., ``fn`` (for shape parameters)\n",
      " |      and ``floc`` and ``fscale`` (for location and scale parameters,\n",
      " |      respectively).\n",
      " |      \n",
      " |      Parameters\n",
      " |      ----------\n",
      " |      data : array_like\n",
      " |          Data to use in calculating the MLEs.\n",
      " |      args : floats, optional\n",
      " |          Starting value(s) for any shape-characterizing arguments (those not\n",
      " |          provided will be determined by a call to ``_fitstart(data)``).\n",
      " |          No default value.\n",
      " |      kwds : floats, optional\n",
      " |          Starting values for the location and scale parameters; no default.\n",
      " |          Special keyword arguments are recognized as holding certain\n",
      " |          parameters fixed:\n",
      " |      \n",
      " |          - f0...fn : hold respective shape parameters fixed.\n",
      " |            Alternatively, shape parameters to fix can be specified by name.\n",
      " |            For example, if ``self.shapes == \"a, b\"``, ``fa``and ``fix_a``\n",
      " |            are equivalent to ``f0``, and ``fb`` and ``fix_b`` are\n",
      " |            equivalent to ``f1``.\n",
      " |      \n",
      " |          - floc : hold location parameter fixed to specified value.\n",
      " |      \n",
      " |          - fscale : hold scale parameter fixed to specified value.\n",
      " |      \n",
      " |          - optimizer : The optimizer to use.  The optimizer must take ``func``,\n",
      " |            and starting position as the first two arguments,\n",
      " |            plus ``args`` (for extra arguments to pass to the\n",
      " |            function to be optimized) and ``disp=0`` to suppress\n",
      " |            output as keyword arguments.\n",
      " |      \n",
      " |      Returns\n",
      " |      -------\n",
      " |      mle_tuple : tuple of floats\n",
      " |          MLEs for any shape parameters (if applicable), followed by those\n",
      " |          for location and scale. For most random variables, shape statistics\n",
      " |          will be returned, but there are exceptions (e.g. ``norm``).\n",
      " |      \n",
      " |      Notes\n",
      " |      -----\n",
      " |      This function uses explicit formulas for the maximum likelihood\n",
      " |      estimation of the normal distribution parameters, so the\n",
      " |      `optimizer` argument is ignored.\n",
      " |      \n",
      " |      Examples\n",
      " |      --------\n",
      " |      \n",
      " |      Generate some data to fit: draw random variates from the `beta`\n",
      " |      distribution\n",
      " |      \n",
      " |      >>> from scipy.stats import beta\n",
      " |      >>> a, b = 1., 2.\n",
      " |      >>> x = beta.rvs(a, b, size=1000)\n",
      " |      \n",
      " |      Now we can fit all four parameters (``a``, ``b``, ``loc`` and ``scale``):\n",
      " |      \n",
      " |      >>> a1, b1, loc1, scale1 = beta.fit(x)\n",
      " |      \n",
      " |      We can also use some prior knowledge about the dataset: let's keep\n",
      " |      ``loc`` and ``scale`` fixed:\n",
      " |      \n",
      " |      >>> a1, b1, loc1, scale1 = beta.fit(x, floc=0, fscale=1)\n",
      " |      >>> loc1, scale1\n",
      " |      (0, 1)\n",
      " |      \n",
      " |      We can also keep shape parameters fixed by using ``f``-keywords. To\n",
      " |      keep the zero-th shape parameter ``a`` equal 1, use ``f0=1`` or,\n",
      " |      equivalently, ``fa=1``:\n",
      " |      \n",
      " |      >>> a1, b1, loc1, scale1 = beta.fit(x, fa=1, floc=0, fscale=1)\n",
      " |      >>> a1\n",
      " |      1\n",
      " |      \n",
      " |      Not all distributions return estimates for the shape parameters.\n",
      " |      ``norm`` for example just returns estimates for location and scale:\n",
      " |      \n",
      " |      >>> from scipy.stats import norm\n",
      " |      >>> x = norm.rvs(a, b, size=1000, random_state=123)\n",
      " |      >>> loc1, scale1 = norm.fit(x)\n",
      " |      >>> loc1, scale1\n",
      " |      (0.92087172783841631, 2.0015750750324668)\n",
      " |  \n",
      " |  ----------------------------------------------------------------------\n",
      " |  Methods inherited from scipy.stats._distn_infrastructure.rv_continuous:\n",
      " |  \n",
      " |  __init__(self, momtype=1, a=None, b=None, xtol=1e-14, badvalue=None, name=None, longname=None, shapes=None, extradoc=None, seed=None)\n",
      " |      Initialize self.  See help(type(self)) for accurate signature.\n",
      " |  \n",
      " |  cdf(self, x, *args, **kwds)\n",
      " |      Cumulative distribution function of the given RV.\n",
      " |      \n",
      " |      Parameters\n",
      " |      ----------\n",
      " |      x : array_like\n",
      " |          quantiles\n",
      " |      arg1, arg2, arg3,... : array_like\n",
      " |          The shape parameter(s) for the distribution (see docstring of the\n",
      " |          instance object for more information)\n",
      " |      loc : array_like, optional\n",
      " |          location parameter (default=0)\n",
      " |      scale : array_like, optional\n",
      " |          scale parameter (default=1)\n",
      " |      \n",
      " |      Returns\n",
      " |      -------\n",
      " |      cdf : ndarray\n",
      " |          Cumulative distribution function evaluated at `x`\n",
      " |  \n",
      " |  expect(self, func=None, args=(), loc=0, scale=1, lb=None, ub=None, conditional=False, **kwds)\n",
      " |      Calculate expected value of a function with respect to the\n",
      " |      distribution.\n",
      " |      \n",
      " |      The expected value of a function ``f(x)`` with respect to a\n",
      " |      distribution ``dist`` is defined as::\n",
      " |      \n",
      " |                  ubound\n",
      " |          E[x] = Integral(f(x) * dist.pdf(x))\n",
      " |                  lbound\n",
      " |      \n",
      " |      Parameters\n",
      " |      ----------\n",
      " |      func : callable, optional\n",
      " |          Function for which integral is calculated. Takes only one argument.\n",
      " |          The default is the identity mapping f(x) = x.\n",
      " |      args : tuple, optional\n",
      " |          Shape parameters of the distribution.\n",
      " |      loc : float, optional\n",
      " |          Location parameter (default=0).\n",
      " |      scale : float, optional\n",
      " |          Scale parameter (default=1).\n",
      " |      lb, ub : scalar, optional\n",
      " |          Lower and upper bound for integration. Default is set to the\n",
      " |          support of the distribution.\n",
      " |      conditional : bool, optional\n",
      " |          If True, the integral is corrected by the conditional probability\n",
      " |          of the integration interval.  The return value is the expectation\n",
      " |          of the function, conditional on being in the given interval.\n",
      " |          Default is False.\n",
      " |      \n",
      " |      Additional keyword arguments are passed to the integration routine.\n",
      " |      \n",
      " |      Returns\n",
      " |      -------\n",
      " |      expect : float\n",
      " |          The calculated expected value.\n",
      " |      \n",
      " |      Notes\n",
      " |      -----\n",
      " |      The integration behavior of this function is inherited from\n",
      " |      `integrate.quad`.\n",
      " |  \n",
      " |  fit_loc_scale(self, data, *args)\n",
      " |      Estimate loc and scale parameters from data using 1st and 2nd moments.\n",
      " |      \n",
      " |      Parameters\n",
      " |      ----------\n",
      " |      data : array_like\n",
      " |          Data to fit.\n",
      " |      arg1, arg2, arg3,... : array_like\n",
      " |          The shape parameter(s) for the distribution (see docstring of the\n",
      " |          instance object for more information).\n",
      " |      \n",
      " |      Returns\n",
      " |      -------\n",
      " |      Lhat : float\n",
      " |          Estimated location parameter for the data.\n",
      " |      Shat : float\n",
      " |          Estimated scale parameter for the data.\n",
      " |  \n",
      " |  isf(self, q, *args, **kwds)\n",
      " |      Inverse survival function (inverse of `sf`) at q of the given RV.\n",
      " |      \n",
      " |      Parameters\n",
      " |      ----------\n",
      " |      q : array_like\n",
      " |          upper tail probability\n",
      " |      arg1, arg2, arg3,... : array_like\n",
      " |          The shape parameter(s) for the distribution (see docstring of the\n",
      " |          instance object for more information)\n",
      " |      loc : array_like, optional\n",
      " |          location parameter (default=0)\n",
      " |      scale : array_like, optional\n",
      " |          scale parameter (default=1)\n",
      " |      \n",
      " |      Returns\n",
      " |      -------\n",
      " |      x : ndarray or scalar\n",
      " |          Quantile corresponding to the upper tail probability q.\n",
      " |  \n",
      " |  logcdf(self, x, *args, **kwds)\n",
      " |      Log of the cumulative distribution function at x of the given RV.\n",
      " |      \n",
      " |      Parameters\n",
      " |      ----------\n",
      " |      x : array_like\n",
      " |          quantiles\n",
      " |      arg1, arg2, arg3,... : array_like\n",
      " |          The shape parameter(s) for the distribution (see docstring of the\n",
      " |          instance object for more information)\n",
      " |      loc : array_like, optional\n",
      " |          location parameter (default=0)\n",
      " |      scale : array_like, optional\n",
      " |          scale parameter (default=1)\n",
      " |      \n",
      " |      Returns\n",
      " |      -------\n",
      " |      logcdf : array_like\n",
      " |          Log of the cumulative distribution function evaluated at x\n",
      " |  \n",
      " |  logpdf(self, x, *args, **kwds)\n",
      " |      Log of the probability density function at x of the given RV.\n",
      " |      \n",
      " |      This uses a more numerically accurate calculation if available.\n",
      " |      \n",
      " |      Parameters\n",
      " |      ----------\n",
      " |      x : array_like\n",
      " |          quantiles\n",
      " |      arg1, arg2, arg3,... : array_like\n",
      " |          The shape parameter(s) for the distribution (see docstring of the\n",
      " |          instance object for more information)\n",
      " |      loc : array_like, optional\n",
      " |          location parameter (default=0)\n",
      " |      scale : array_like, optional\n",
      " |          scale parameter (default=1)\n",
      " |      \n",
      " |      Returns\n",
      " |      -------\n",
      " |      logpdf : array_like\n",
      " |          Log of the probability density function evaluated at x\n",
      " |  \n",
      " |  logsf(self, x, *args, **kwds)\n",
      " |      Log of the survival function of the given RV.\n",
      " |      \n",
      " |      Returns the log of the \"survival function,\" defined as (1 - `cdf`),\n",
      " |      evaluated at `x`.\n",
      " |      \n",
      " |      Parameters\n",
      " |      ----------\n",
      " |      x : array_like\n",
      " |          quantiles\n",
      " |      arg1, arg2, arg3,... : array_like\n",
      " |          The shape parameter(s) for the distribution (see docstring of the\n",
      " |          instance object for more information)\n",
      " |      loc : array_like, optional\n",
      " |          location parameter (default=0)\n",
      " |      scale : array_like, optional\n",
      " |          scale parameter (default=1)\n",
      " |      \n",
      " |      Returns\n",
      " |      -------\n",
      " |      logsf : ndarray\n",
      " |          Log of the survival function evaluated at `x`.\n",
      " |  \n",
      " |  nnlf(self, theta, x)\n",
      " |      Return negative loglikelihood function.\n",
      " |      \n",
      " |      Notes\n",
      " |      -----\n",
      " |      This is ``-sum(log pdf(x, theta), axis=0)`` where `theta` are the\n",
      " |      parameters (including loc and scale).\n",
      " |  \n",
      " |  pdf(self, x, *args, **kwds)\n",
      " |      Probability density function at x of the given RV.\n",
      " |      \n",
      " |      Parameters\n",
      " |      ----------\n",
      " |      x : array_like\n",
      " |          quantiles\n",
      " |      arg1, arg2, arg3,... : array_like\n",
      " |          The shape parameter(s) for the distribution (see docstring of the\n",
      " |          instance object for more information)\n",
      " |      loc : array_like, optional\n",
      " |          location parameter (default=0)\n",
      " |      scale : array_like, optional\n",
      " |          scale parameter (default=1)\n",
      " |      \n",
      " |      Returns\n",
      " |      -------\n",
      " |      pdf : ndarray\n",
      " |          Probability density function evaluated at x\n",
      " |  \n",
      " |  ppf(self, q, *args, **kwds)\n",
      " |      Percent point function (inverse of `cdf`) at q of the given RV.\n",
      " |      \n",
      " |      Parameters\n",
      " |      ----------\n",
      " |      q : array_like\n",
      " |          lower tail probability\n",
      " |      arg1, arg2, arg3,... : array_like\n",
      " |          The shape parameter(s) for the distribution (see docstring of the\n",
      " |          instance object for more information)\n",
      " |      loc : array_like, optional\n",
      " |          location parameter (default=0)\n",
      " |      scale : array_like, optional\n",
      " |          scale parameter (default=1)\n",
      " |      \n",
      " |      Returns\n",
      " |      -------\n",
      " |      x : array_like\n",
      " |          quantile corresponding to the lower tail probability q.\n",
      " |  \n",
      " |  sf(self, x, *args, **kwds)\n",
      " |      Survival function (1 - `cdf`) at x of the given RV.\n",
      " |      \n",
      " |      Parameters\n",
      " |      ----------\n",
      " |      x : array_like\n",
      " |          quantiles\n",
      " |      arg1, arg2, arg3,... : array_like\n",
      " |          The shape parameter(s) for the distribution (see docstring of the\n",
      " |          instance object for more information)\n",
      " |      loc : array_like, optional\n",
      " |          location parameter (default=0)\n",
      " |      scale : array_like, optional\n",
      " |          scale parameter (default=1)\n",
      " |      \n",
      " |      Returns\n",
      " |      -------\n",
      " |      sf : array_like\n",
      " |          Survival function evaluated at x\n",
      " |  \n",
      " |  ----------------------------------------------------------------------\n",
      " |  Methods inherited from scipy.stats._distn_infrastructure.rv_generic:\n",
      " |  \n",
      " |  __call__(self, *args, **kwds)\n",
      " |      Freeze the distribution for the given arguments.\n",
      " |      \n",
      " |      Parameters\n",
      " |      ----------\n",
      " |      arg1, arg2, arg3,... : array_like\n",
      " |          The shape parameter(s) for the distribution.  Should include all\n",
      " |          the non-optional arguments, may include ``loc`` and ``scale``.\n",
      " |      \n",
      " |      Returns\n",
      " |      -------\n",
      " |      rv_frozen : rv_frozen instance\n",
      " |          The frozen distribution.\n",
      " |  \n",
      " |  __getstate__(self)\n",
      " |  \n",
      " |  __setstate__(self, state)\n",
      " |  \n",
      " |  entropy(self, *args, **kwds)\n",
      " |      Differential entropy of the RV.\n",
      " |      \n",
      " |      Parameters\n",
      " |      ----------\n",
      " |      arg1, arg2, arg3,... : array_like\n",
      " |          The shape parameter(s) for the distribution (see docstring of the\n",
      " |          instance object for more information).\n",
      " |      loc : array_like, optional\n",
      " |          Location parameter (default=0).\n",
      " |      scale : array_like, optional  (continuous distributions only).\n",
      " |          Scale parameter (default=1).\n",
      " |      \n",
      " |      Notes\n",
      " |      -----\n",
      " |      Entropy is defined base `e`:\n",
      " |      \n",
      " |      >>> drv = rv_discrete(values=((0, 1), (0.5, 0.5)))\n",
      " |      >>> np.allclose(drv.entropy(), np.log(2.0))\n",
      " |      True\n",
      " |  \n",
      " |  freeze(self, *args, **kwds)\n",
      " |      Freeze the distribution for the given arguments.\n",
      " |      \n",
      " |      Parameters\n",
      " |      ----------\n",
      " |      arg1, arg2, arg3,... : array_like\n",
      " |          The shape parameter(s) for the distribution.  Should include all\n",
      " |          the non-optional arguments, may include ``loc`` and ``scale``.\n",
      " |      \n",
      " |      Returns\n",
      " |      -------\n",
      " |      rv_frozen : rv_frozen instance\n",
      " |          The frozen distribution.\n",
      " |  \n",
      " |  interval(self, alpha, *args, **kwds)\n",
      " |      Confidence interval with equal areas around the median.\n",
      " |      \n",
      " |      Parameters\n",
      " |      ----------\n",
      " |      alpha : array_like of float\n",
      " |          Probability that an rv will be drawn from the returned range.\n",
      " |          Each value should be in the range [0, 1].\n",
      " |      arg1, arg2, ... : array_like\n",
      " |          The shape parameter(s) for the distribution (see docstring of the\n",
      " |          instance object for more information).\n",
      " |      loc : array_like, optional\n",
      " |          location parameter, Default is 0.\n",
      " |      scale : array_like, optional\n",
      " |          scale parameter, Default is 1.\n",
      " |      \n",
      " |      Returns\n",
      " |      -------\n",
      " |      a, b : ndarray of float\n",
      " |          end-points of range that contain ``100 * alpha %`` of the rv's\n",
      " |          possible values.\n",
      " |  \n",
      " |  mean(self, *args, **kwds)\n",
      " |      Mean of the distribution.\n",
      " |      \n",
      " |      Parameters\n",
      " |      ----------\n",
      " |      arg1, arg2, arg3,... : array_like\n",
      " |          The shape parameter(s) for the distribution (see docstring of the\n",
      " |          instance object for more information)\n",
      " |      loc : array_like, optional\n",
      " |          location parameter (default=0)\n",
      " |      scale : array_like, optional\n",
      " |          scale parameter (default=1)\n",
      " |      \n",
      " |      Returns\n",
      " |      -------\n",
      " |      mean : float\n",
      " |          the mean of the distribution\n",
      " |  \n",
      " |  median(self, *args, **kwds)\n",
      " |      Median of the distribution.\n",
      " |      \n",
      " |      Parameters\n",
      " |      ----------\n",
      " |      arg1, arg2, arg3,... : array_like\n",
      " |          The shape parameter(s) for the distribution (see docstring of the\n",
      " |          instance object for more information)\n",
      " |      loc : array_like, optional\n",
      " |          Location parameter, Default is 0.\n",
      " |      scale : array_like, optional\n",
      " |          Scale parameter, Default is 1.\n",
      " |      \n",
      " |      Returns\n",
      " |      -------\n",
      " |      median : float\n",
      " |          The median of the distribution.\n",
      " |      \n",
      " |      See Also\n",
      " |      --------\n",
      " |      stats.distributions.rv_discrete.ppf\n",
      " |          Inverse of the CDF\n",
      " |  \n",
      " |  moment(self, n, *args, **kwds)\n",
      " |      n-th order non-central moment of distribution.\n",
      " |      \n",
      " |      Parameters\n",
      " |      ----------\n",
      " |      n : int, n >= 1\n",
      " |          Order of moment.\n",
      " |      arg1, arg2, arg3,... : float\n",
      " |          The shape parameter(s) for the distribution (see docstring of the\n",
      " |          instance object for more information).\n",
      " |      loc : array_like, optional\n",
      " |          location parameter (default=0)\n",
      " |      scale : array_like, optional\n",
      " |          scale parameter (default=1)\n",
      " |  \n",
      " |  rvs(self, *args, **kwds)\n",
      " |      Random variates of given type.\n",
      " |      \n",
      " |      Parameters\n",
      " |      ----------\n",
      " |      arg1, arg2, arg3,... : array_like\n",
      " |          The shape parameter(s) for the distribution (see docstring of the\n",
      " |          instance object for more information).\n",
      " |      loc : array_like, optional\n",
      " |          Location parameter (default=0).\n",
      " |      scale : array_like, optional\n",
      " |          Scale parameter (default=1).\n",
      " |      size : int or tuple of ints, optional\n",
      " |          Defining number of random variates (default is 1).\n",
      " |      random_state : None or int or ``np.random.RandomState`` instance, optional\n",
      " |          If int or RandomState, use it for drawing the random variates.\n",
      " |          If None, rely on ``self.random_state``.\n",
      " |          Default is None.\n",
      " |      \n",
      " |      Returns\n",
      " |      -------\n",
      " |      rvs : ndarray or scalar\n",
      " |          Random variates of given `size`.\n",
      " |  \n",
      " |  stats(self, *args, **kwds)\n",
      " |      Some statistics of the given RV.\n",
      " |      \n",
      " |      Parameters\n",
      " |      ----------\n",
      " |      arg1, arg2, arg3,... : array_like\n",
      " |          The shape parameter(s) for the distribution (see docstring of the\n",
      " |          instance object for more information)\n",
      " |      loc : array_like, optional\n",
      " |          location parameter (default=0)\n",
      " |      scale : array_like, optional (continuous RVs only)\n",
      " |          scale parameter (default=1)\n",
      " |      moments : str, optional\n",
      " |          composed of letters ['mvsk'] defining which moments to compute:\n",
      " |          'm' = mean,\n",
      " |          'v' = variance,\n",
      " |          's' = (Fisher's) skew,\n",
      " |          'k' = (Fisher's) kurtosis.\n",
      " |          (default is 'mv')\n",
      " |      \n",
      " |      Returns\n",
      " |      -------\n",
      " |      stats : sequence\n",
      " |          of requested moments.\n",
      " |  \n",
      " |  std(self, *args, **kwds)\n",
      " |      Standard deviation of the distribution.\n",
      " |      \n",
      " |      Parameters\n",
      " |      ----------\n",
      " |      arg1, arg2, arg3,... : array_like\n",
      " |          The shape parameter(s) for the distribution (see docstring of the\n",
      " |          instance object for more information)\n",
      " |      loc : array_like, optional\n",
      " |          location parameter (default=0)\n",
      " |      scale : array_like, optional\n",
      " |          scale parameter (default=1)\n",
      " |      \n",
      " |      Returns\n",
      " |      -------\n",
      " |      std : float\n",
      " |          standard deviation of the distribution\n",
      " |  \n",
      " |  var(self, *args, **kwds)\n",
      " |      Variance of the distribution.\n",
      " |      \n",
      " |      Parameters\n",
      " |      ----------\n",
      " |      arg1, arg2, arg3,... : array_like\n",
      " |          The shape parameter(s) for the distribution (see docstring of the\n",
      " |          instance object for more information)\n",
      " |      loc : array_like, optional\n",
      " |          location parameter (default=0)\n",
      " |      scale : array_like, optional\n",
      " |          scale parameter (default=1)\n",
      " |      \n",
      " |      Returns\n",
      " |      -------\n",
      " |      var : float\n",
      " |          the variance of the distribution\n",
      " |  \n",
      " |  ----------------------------------------------------------------------\n",
      " |  Data descriptors inherited from scipy.stats._distn_infrastructure.rv_generic:\n",
      " |  \n",
      " |  __dict__\n",
      " |      dictionary for instance variables (if defined)\n",
      " |  \n",
      " |  __weakref__\n",
      " |      list of weak references to the object (if defined)\n",
      " |  \n",
      " |  random_state\n",
      " |      Get or set the RandomState object for generating random variates.\n",
      " |      \n",
      " |      This can be either None or an existing RandomState object.\n",
      " |      \n",
      " |      If None (or np.random), use the RandomState singleton used by np.random.\n",
      " |      If already a RandomState instance, use it.\n",
      " |      If an int, use a new RandomState instance seeded with seed.\n",
      "\n"
     ]
    }
   ],
   "source": [
    "help(st.norm)"
   ]
  },
  {
   "cell_type": "code",
   "execution_count": 19,
   "metadata": {
    "collapsed": true
   },
   "outputs": [
    {
     "data": {
      "text/plain": [
       "\u001b[0;35mproperty:\u001b[0m\n",
       "    \u001b[1;34ma\u001b[0m\u001b[1;34m, \u001b[0m\u001b[1;34mb\u001b[0m\u001b[1;34m, \u001b[0m\u001b[1;34mbadvalue\u001b[0m\u001b[1;34m, \u001b[0m\u001b[1;34mextradoc\u001b[0m\u001b[1;34m, \u001b[0m\u001b[1;34mgeneric_moment\u001b[0m\u001b[1;34m, \u001b[0m\u001b[1;34mmoment_type\u001b[0m\u001b[1;34m, \u001b[0m\u001b[1;34mname\u001b[0m\u001b[1;34m, \u001b[0m\u001b[1;34mnumargs\u001b[0m\u001b[1;34m, \u001b[0m\u001b[1;34mshapes\u001b[0m\u001b[1;34m, \u001b[0m\u001b[1;34mvecentropy\u001b[0m\u001b[1;34m, \u001b[0m\u001b[1;34mxtol\u001b[0m\n",
       "\u001b[0;35mdescriptor:\u001b[0m\n",
       "    \u001b[1;34mrandom_state\u001b[0m\u001b[1;34m: \u001b[0m\u001b[1;30m@property with getter, setter, Get or set the RandomState object for generating random variates.\u001b[0m\n",
       "\u001b[0;35mfunction:\u001b[0m\n",
       "    \u001b[1;34mcdf\u001b[0m\u001b[1;34m: \u001b[0m\u001b[1;30mCumulative distribution function of the given RV.\u001b[0m\n",
       "    \u001b[1;34mentropy\u001b[0m\u001b[1;34m: \u001b[0m\u001b[1;30mDifferential entropy of the RV.\u001b[0m\n",
       "    \u001b[1;34mexpect\u001b[0m\u001b[1;34m: \u001b[0m\u001b[1;30mCalculate expected value of a function with respect to the\u001b[0m\n",
       "    \u001b[1;34mfit\u001b[0m\u001b[1;34m: \u001b[0m\u001b[1;30mReturn MLEs for shape (if applicable), location, and scale\u001b[0m\n",
       "    \u001b[1;34mfit_loc_scale\u001b[0m\u001b[1;34m: \u001b[0m\u001b[1;30mEstimate loc and scale parameters from data using 1st and 2nd moments.\u001b[0m\n",
       "    \u001b[1;34mfreeze\u001b[0m\u001b[1;34m: \u001b[0m\u001b[1;30mFreeze the distribution for the given arguments.\u001b[0m\n",
       "    \u001b[1;34minterval\u001b[0m\u001b[1;34m: \u001b[0m\u001b[1;30mConfidence interval with equal areas around the median.\u001b[0m\n",
       "    \u001b[1;34misf\u001b[0m\u001b[1;34m: \u001b[0m\u001b[1;30mInverse survival function (inverse of `sf`) at q of the given RV.\u001b[0m\n",
       "    \u001b[1;34mlogcdf\u001b[0m\u001b[1;34m: \u001b[0m\u001b[1;30mLog of the cumulative distribution function at x of the given RV.\u001b[0m\n",
       "    \u001b[1;34mlogpdf\u001b[0m\u001b[1;34m: \u001b[0m\u001b[1;30mLog of the probability density function at x of the given RV.\u001b[0m\n",
       "    \u001b[1;34mlogsf\u001b[0m\u001b[1;34m: \u001b[0m\u001b[1;30mLog of the survival function of the given RV.\u001b[0m\n",
       "    \u001b[1;34mmean\u001b[0m\u001b[1;34m: \u001b[0m\u001b[1;30mMean of the distribution.\u001b[0m\n",
       "    \u001b[1;34mmedian\u001b[0m\u001b[1;34m: \u001b[0m\u001b[1;30mMedian of the distribution.\u001b[0m\n",
       "    \u001b[1;34mmoment\u001b[0m\u001b[1;34m: \u001b[0m\u001b[1;30mn-th order non-central moment of distribution.\u001b[0m\n",
       "    \u001b[1;34mnnlf\u001b[0m\u001b[1;34m: \u001b[0m\u001b[1;30mReturn negative loglikelihood function.\u001b[0m\n",
       "    \u001b[1;34mpdf\u001b[0m\u001b[1;34m: \u001b[0m\u001b[1;30mProbability density function at x of the given RV.\u001b[0m\n",
       "    \u001b[1;34mppf\u001b[0m\u001b[1;34m: \u001b[0m\u001b[1;30mPercent point function (inverse of `cdf`) at q of the given RV.\u001b[0m\n",
       "    \u001b[1;34mrvs\u001b[0m\u001b[1;34m: \u001b[0m\u001b[1;30mRandom variates of given type.\u001b[0m\n",
       "    \u001b[1;34msf\u001b[0m\u001b[1;34m: \u001b[0m\u001b[1;30mSurvival function (1 - `cdf`) at x of the given RV.\u001b[0m\n",
       "    \u001b[1;34mstats\u001b[0m\u001b[1;34m: \u001b[0m\u001b[1;30mSome statistics of the given RV.\u001b[0m\n",
       "    \u001b[1;34mstd\u001b[0m\u001b[1;34m: \u001b[0m\u001b[1;30mStandard deviation of the distribution.\u001b[0m\n",
       "    \u001b[1;34mvar\u001b[0m\u001b[1;34m: \u001b[0m\u001b[1;30mVariance of the distribution.\u001b[0m"
      ]
     },
     "execution_count": 19,
     "metadata": {},
     "output_type": "execute_result"
    }
   ],
   "source": [
    "dir(st.norm).public"
   ]
  },
  {
   "cell_type": "code",
   "execution_count": 20,
   "metadata": {
    "collapsed": true
   },
   "outputs": [
    {
     "name": "stdout",
     "output_type": "stream",
     "text": [
      "Help on method rvs in module scipy.stats._distn_infrastructure:\n",
      "\n",
      "rvs(*args, **kwds) method of scipy.stats._continuous_distns.norm_gen instance\n",
      "    Random variates of given type.\n",
      "    \n",
      "    Parameters\n",
      "    ----------\n",
      "    arg1, arg2, arg3,... : array_like\n",
      "        The shape parameter(s) for the distribution (see docstring of the\n",
      "        instance object for more information).\n",
      "    loc : array_like, optional\n",
      "        Location parameter (default=0).\n",
      "    scale : array_like, optional\n",
      "        Scale parameter (default=1).\n",
      "    size : int or tuple of ints, optional\n",
      "        Defining number of random variates (default is 1).\n",
      "    random_state : None or int or ``np.random.RandomState`` instance, optional\n",
      "        If int or RandomState, use it for drawing the random variates.\n",
      "        If None, rely on ``self.random_state``.\n",
      "        Default is None.\n",
      "    \n",
      "    Returns\n",
      "    -------\n",
      "    rvs : ndarray or scalar\n",
      "        Random variates of given `size`.\n",
      "\n"
     ]
    }
   ],
   "source": [
    "help(st.norm.rvs)"
   ]
  },
  {
   "cell_type": "code",
   "execution_count": 16,
   "metadata": {
    "collapsed": true
   },
   "outputs": [
    {
     "name": "stdout",
     "output_type": "stream",
     "text": [
      "Help on method rvs in module scipy.stats._distn_infrastructure:\n",
      "\n",
      "rvs(*args, **kwds) method of scipy.stats._continuous_distns.gamma_gen instance\n",
      "    Random variates of given type.\n",
      "    \n",
      "    Parameters\n",
      "    ----------\n",
      "    arg1, arg2, arg3,... : array_like\n",
      "        The shape parameter(s) for the distribution (see docstring of the\n",
      "        instance object for more information).\n",
      "    loc : array_like, optional\n",
      "        Location parameter (default=0).\n",
      "    scale : array_like, optional\n",
      "        Scale parameter (default=1).\n",
      "    size : int or tuple of ints, optional\n",
      "        Defining number of random variates (default is 1).\n",
      "    random_state : None or int or ``np.random.RandomState`` instance, optional\n",
      "        If int or RandomState, use it for drawing the random variates.\n",
      "        If None, rely on ``self.random_state``.\n",
      "        Default is None.\n",
      "    \n",
      "    Returns\n",
      "    -------\n",
      "    rvs : ndarray or scalar\n",
      "        Random variates of given `size`.\n",
      "\n"
     ]
    }
   ],
   "source": [
    "help(st.gamma.rvs)"
   ]
  },
  {
   "cell_type": "code",
   "execution_count": 38,
   "metadata": {
    "collapsed": true
   },
   "outputs": [
    {
     "name": "stdout",
     "output_type": "stream",
     "text": [
      "Help on gamma_gen in module scipy.stats._continuous_distns object:\n",
      "\n",
      "class gamma_gen(scipy.stats._distn_infrastructure.rv_continuous)\n",
      " |  gamma_gen(momtype=1, a=None, b=None, xtol=1e-14, badvalue=None, name=None, longname=None, shapes=None, extradoc=None, seed=None)\n",
      " |  \n",
      " |  A gamma continuous random variable.\n",
      " |  \n",
      " |  %(before_notes)s\n",
      " |  \n",
      " |  See Also\n",
      " |  --------\n",
      " |  erlang, expon\n",
      " |  \n",
      " |  Notes\n",
      " |  -----\n",
      " |  The probability density function for `gamma` is:\n",
      " |  \n",
      " |  .. math::\n",
      " |  \n",
      " |      f(x, a) = \\frac{x^{a-1} \\exp(-x)}{\\Gamma(a)}\n",
      " |  \n",
      " |  for :math:`x \\ge 0`, :math:`a > 0`. Here :math:`\\Gamma(a)` refers to the\n",
      " |  gamma function.\n",
      " |  \n",
      " |  `gamma` has a shape parameter `a` which needs to be set explicitly.\n",
      " |  \n",
      " |  When :math:`a` is an integer, `gamma` reduces to the Erlang\n",
      " |  distribution, and when :math:`a=1` to the exponential distribution.\n",
      " |  \n",
      " |  %(after_notes)s\n",
      " |  \n",
      " |  %(example)s\n",
      " |  \n",
      " |  Method resolution order:\n",
      " |      gamma_gen\n",
      " |      scipy.stats._distn_infrastructure.rv_continuous\n",
      " |      scipy.stats._distn_infrastructure.rv_generic\n",
      " |      builtins.object\n",
      " |  \n",
      " |  Methods defined here:\n",
      " |  \n",
      " |  fit(self, data, *args, **kwds)\n",
      " |      Return MLEs for shape (if applicable), location, and scale\n",
      " |      parameters from data.\n",
      " |      \n",
      " |      MLE stands for Maximum Likelihood Estimate.  Starting estimates for\n",
      " |      the fit are given by input arguments; for any arguments not provided\n",
      " |      with starting estimates, ``self._fitstart(data)`` is called to generate\n",
      " |      such.\n",
      " |      \n",
      " |      One can hold some parameters fixed to specific values by passing in\n",
      " |      keyword arguments ``f0``, ``f1``, ..., ``fn`` (for shape parameters)\n",
      " |      and ``floc`` and ``fscale`` (for location and scale parameters,\n",
      " |      respectively).\n",
      " |      \n",
      " |      Parameters\n",
      " |      ----------\n",
      " |      data : array_like\n",
      " |          Data to use in calculating the MLEs.\n",
      " |      args : floats, optional\n",
      " |          Starting value(s) for any shape-characterizing arguments (those not\n",
      " |          provided will be determined by a call to ``_fitstart(data)``).\n",
      " |          No default value.\n",
      " |      kwds : floats, optional\n",
      " |          Starting values for the location and scale parameters; no default.\n",
      " |          Special keyword arguments are recognized as holding certain\n",
      " |          parameters fixed:\n",
      " |      \n",
      " |          - f0...fn : hold respective shape parameters fixed.\n",
      " |            Alternatively, shape parameters to fix can be specified by name.\n",
      " |            For example, if ``self.shapes == \"a, b\"``, ``fa``and ``fix_a``\n",
      " |            are equivalent to ``f0``, and ``fb`` and ``fix_b`` are\n",
      " |            equivalent to ``f1``.\n",
      " |      \n",
      " |          - floc : hold location parameter fixed to specified value.\n",
      " |      \n",
      " |          - fscale : hold scale parameter fixed to specified value.\n",
      " |      \n",
      " |          - optimizer : The optimizer to use.  The optimizer must take ``func``,\n",
      " |            and starting position as the first two arguments,\n",
      " |            plus ``args`` (for extra arguments to pass to the\n",
      " |            function to be optimized) and ``disp=0`` to suppress\n",
      " |            output as keyword arguments.\n",
      " |      \n",
      " |      Returns\n",
      " |      -------\n",
      " |      mle_tuple : tuple of floats\n",
      " |          MLEs for any shape parameters (if applicable), followed by those\n",
      " |          for location and scale. For most random variables, shape statistics\n",
      " |          will be returned, but there are exceptions (e.g. ``norm``).\n",
      " |      \n",
      " |      Notes\n",
      " |      -----\n",
      " |      This fit is computed by maximizing a log-likelihood function, with\n",
      " |      penalty applied for samples outside of range of the distribution. The\n",
      " |      returned answer is not guaranteed to be the globally optimal MLE, it\n",
      " |      may only be locally optimal, or the optimization may fail altogether.\n",
      " |      \n",
      " |      When the location is fixed by using the argument `floc`, this\n",
      " |      function uses explicit formulas or solves a simpler numerical\n",
      " |      problem than the full ML optimization problem.  So in that case,\n",
      " |      the `optimizer`, `loc` and `scale` arguments are ignored.\n",
      " |      \n",
      " |      Examples\n",
      " |      --------\n",
      " |      \n",
      " |      Generate some data to fit: draw random variates from the `beta`\n",
      " |      distribution\n",
      " |      \n",
      " |      >>> from scipy.stats import beta\n",
      " |      >>> a, b = 1., 2.\n",
      " |      >>> x = beta.rvs(a, b, size=1000)\n",
      " |      \n",
      " |      Now we can fit all four parameters (``a``, ``b``, ``loc`` and ``scale``):\n",
      " |      \n",
      " |      >>> a1, b1, loc1, scale1 = beta.fit(x)\n",
      " |      \n",
      " |      We can also use some prior knowledge about the dataset: let's keep\n",
      " |      ``loc`` and ``scale`` fixed:\n",
      " |      \n",
      " |      >>> a1, b1, loc1, scale1 = beta.fit(x, floc=0, fscale=1)\n",
      " |      >>> loc1, scale1\n",
      " |      (0, 1)\n",
      " |      \n",
      " |      We can also keep shape parameters fixed by using ``f``-keywords. To\n",
      " |      keep the zero-th shape parameter ``a`` equal 1, use ``f0=1`` or,\n",
      " |      equivalently, ``fa=1``:\n",
      " |      \n",
      " |      >>> a1, b1, loc1, scale1 = beta.fit(x, fa=1, floc=0, fscale=1)\n",
      " |      >>> a1\n",
      " |      1\n",
      " |      \n",
      " |      Not all distributions return estimates for the shape parameters.\n",
      " |      ``norm`` for example just returns estimates for location and scale:\n",
      " |      \n",
      " |      >>> from scipy.stats import norm\n",
      " |      >>> x = norm.rvs(a, b, size=1000, random_state=123)\n",
      " |      >>> loc1, scale1 = norm.fit(x)\n",
      " |      >>> loc1, scale1\n",
      " |      (0.92087172783841631, 2.0015750750324668)\n",
      " |  \n",
      " |  ----------------------------------------------------------------------\n",
      " |  Methods inherited from scipy.stats._distn_infrastructure.rv_continuous:\n",
      " |  \n",
      " |  __init__(self, momtype=1, a=None, b=None, xtol=1e-14, badvalue=None, name=None, longname=None, shapes=None, extradoc=None, seed=None)\n",
      " |      Initialize self.  See help(type(self)) for accurate signature.\n",
      " |  \n",
      " |  cdf(self, x, *args, **kwds)\n",
      " |      Cumulative distribution function of the given RV.\n",
      " |      \n",
      " |      Parameters\n",
      " |      ----------\n",
      " |      x : array_like\n",
      " |          quantiles\n",
      " |      arg1, arg2, arg3,... : array_like\n",
      " |          The shape parameter(s) for the distribution (see docstring of the\n",
      " |          instance object for more information)\n",
      " |      loc : array_like, optional\n",
      " |          location parameter (default=0)\n",
      " |      scale : array_like, optional\n",
      " |          scale parameter (default=1)\n",
      " |      \n",
      " |      Returns\n",
      " |      -------\n",
      " |      cdf : ndarray\n",
      " |          Cumulative distribution function evaluated at `x`\n",
      " |  \n",
      " |  expect(self, func=None, args=(), loc=0, scale=1, lb=None, ub=None, conditional=False, **kwds)\n",
      " |      Calculate expected value of a function with respect to the\n",
      " |      distribution.\n",
      " |      \n",
      " |      The expected value of a function ``f(x)`` with respect to a\n",
      " |      distribution ``dist`` is defined as::\n",
      " |      \n",
      " |                  ubound\n",
      " |          E[x] = Integral(f(x) * dist.pdf(x))\n",
      " |                  lbound\n",
      " |      \n",
      " |      Parameters\n",
      " |      ----------\n",
      " |      func : callable, optional\n",
      " |          Function for which integral is calculated. Takes only one argument.\n",
      " |          The default is the identity mapping f(x) = x.\n",
      " |      args : tuple, optional\n",
      " |          Shape parameters of the distribution.\n",
      " |      loc : float, optional\n",
      " |          Location parameter (default=0).\n",
      " |      scale : float, optional\n",
      " |          Scale parameter (default=1).\n",
      " |      lb, ub : scalar, optional\n",
      " |          Lower and upper bound for integration. Default is set to the\n",
      " |          support of the distribution.\n",
      " |      conditional : bool, optional\n",
      " |          If True, the integral is corrected by the conditional probability\n",
      " |          of the integration interval.  The return value is the expectation\n",
      " |          of the function, conditional on being in the given interval.\n",
      " |          Default is False.\n",
      " |      \n",
      " |      Additional keyword arguments are passed to the integration routine.\n",
      " |      \n",
      " |      Returns\n",
      " |      -------\n",
      " |      expect : float\n",
      " |          The calculated expected value.\n",
      " |      \n",
      " |      Notes\n",
      " |      -----\n",
      " |      The integration behavior of this function is inherited from\n",
      " |      `integrate.quad`.\n",
      " |  \n",
      " |  fit_loc_scale(self, data, *args)\n",
      " |      Estimate loc and scale parameters from data using 1st and 2nd moments.\n",
      " |      \n",
      " |      Parameters\n",
      " |      ----------\n",
      " |      data : array_like\n",
      " |          Data to fit.\n",
      " |      arg1, arg2, arg3,... : array_like\n",
      " |          The shape parameter(s) for the distribution (see docstring of the\n",
      " |          instance object for more information).\n",
      " |      \n",
      " |      Returns\n",
      " |      -------\n",
      " |      Lhat : float\n",
      " |          Estimated location parameter for the data.\n",
      " |      Shat : float\n",
      " |          Estimated scale parameter for the data.\n",
      " |  \n",
      " |  isf(self, q, *args, **kwds)\n",
      " |      Inverse survival function (inverse of `sf`) at q of the given RV.\n",
      " |      \n",
      " |      Parameters\n",
      " |      ----------\n",
      " |      q : array_like\n",
      " |          upper tail probability\n",
      " |      arg1, arg2, arg3,... : array_like\n",
      " |          The shape parameter(s) for the distribution (see docstring of the\n",
      " |          instance object for more information)\n",
      " |      loc : array_like, optional\n",
      " |          location parameter (default=0)\n",
      " |      scale : array_like, optional\n",
      " |          scale parameter (default=1)\n",
      " |      \n",
      " |      Returns\n",
      " |      -------\n",
      " |      x : ndarray or scalar\n",
      " |          Quantile corresponding to the upper tail probability q.\n",
      " |  \n",
      " |  logcdf(self, x, *args, **kwds)\n",
      " |      Log of the cumulative distribution function at x of the given RV.\n",
      " |      \n",
      " |      Parameters\n",
      " |      ----------\n",
      " |      x : array_like\n",
      " |          quantiles\n",
      " |      arg1, arg2, arg3,... : array_like\n",
      " |          The shape parameter(s) for the distribution (see docstring of the\n",
      " |          instance object for more information)\n",
      " |      loc : array_like, optional\n",
      " |          location parameter (default=0)\n",
      " |      scale : array_like, optional\n",
      " |          scale parameter (default=1)\n",
      " |      \n",
      " |      Returns\n",
      " |      -------\n",
      " |      logcdf : array_like\n",
      " |          Log of the cumulative distribution function evaluated at x\n",
      " |  \n",
      " |  logpdf(self, x, *args, **kwds)\n",
      " |      Log of the probability density function at x of the given RV.\n",
      " |      \n",
      " |      This uses a more numerically accurate calculation if available.\n",
      " |      \n",
      " |      Parameters\n",
      " |      ----------\n",
      " |      x : array_like\n",
      " |          quantiles\n",
      " |      arg1, arg2, arg3,... : array_like\n",
      " |          The shape parameter(s) for the distribution (see docstring of the\n",
      " |          instance object for more information)\n",
      " |      loc : array_like, optional\n",
      " |          location parameter (default=0)\n",
      " |      scale : array_like, optional\n",
      " |          scale parameter (default=1)\n",
      " |      \n",
      " |      Returns\n",
      " |      -------\n",
      " |      logpdf : array_like\n",
      " |          Log of the probability density function evaluated at x\n",
      " |  \n",
      " |  logsf(self, x, *args, **kwds)\n",
      " |      Log of the survival function of the given RV.\n",
      " |      \n",
      " |      Returns the log of the \"survival function,\" defined as (1 - `cdf`),\n",
      " |      evaluated at `x`.\n",
      " |      \n",
      " |      Parameters\n",
      " |      ----------\n",
      " |      x : array_like\n",
      " |          quantiles\n",
      " |      arg1, arg2, arg3,... : array_like\n",
      " |          The shape parameter(s) for the distribution (see docstring of the\n",
      " |          instance object for more information)\n",
      " |      loc : array_like, optional\n",
      " |          location parameter (default=0)\n",
      " |      scale : array_like, optional\n",
      " |          scale parameter (default=1)\n",
      " |      \n",
      " |      Returns\n",
      " |      -------\n",
      " |      logsf : ndarray\n",
      " |          Log of the survival function evaluated at `x`.\n",
      " |  \n",
      " |  nnlf(self, theta, x)\n",
      " |      Return negative loglikelihood function.\n",
      " |      \n",
      " |      Notes\n",
      " |      -----\n",
      " |      This is ``-sum(log pdf(x, theta), axis=0)`` where `theta` are the\n",
      " |      parameters (including loc and scale).\n",
      " |  \n",
      " |  pdf(self, x, *args, **kwds)\n",
      " |      Probability density function at x of the given RV.\n",
      " |      \n",
      " |      Parameters\n",
      " |      ----------\n",
      " |      x : array_like\n",
      " |          quantiles\n",
      " |      arg1, arg2, arg3,... : array_like\n",
      " |          The shape parameter(s) for the distribution (see docstring of the\n",
      " |          instance object for more information)\n",
      " |      loc : array_like, optional\n",
      " |          location parameter (default=0)\n",
      " |      scale : array_like, optional\n",
      " |          scale parameter (default=1)\n",
      " |      \n",
      " |      Returns\n",
      " |      -------\n",
      " |      pdf : ndarray\n",
      " |          Probability density function evaluated at x\n",
      " |  \n",
      " |  ppf(self, q, *args, **kwds)\n",
      " |      Percent point function (inverse of `cdf`) at q of the given RV.\n",
      " |      \n",
      " |      Parameters\n",
      " |      ----------\n",
      " |      q : array_like\n",
      " |          lower tail probability\n",
      " |      arg1, arg2, arg3,... : array_like\n",
      " |          The shape parameter(s) for the distribution (see docstring of the\n",
      " |          instance object for more information)\n",
      " |      loc : array_like, optional\n",
      " |          location parameter (default=0)\n",
      " |      scale : array_like, optional\n",
      " |          scale parameter (default=1)\n",
      " |      \n",
      " |      Returns\n",
      " |      -------\n",
      " |      x : array_like\n",
      " |          quantile corresponding to the lower tail probability q.\n",
      " |  \n",
      " |  sf(self, x, *args, **kwds)\n",
      " |      Survival function (1 - `cdf`) at x of the given RV.\n",
      " |      \n",
      " |      Parameters\n",
      " |      ----------\n",
      " |      x : array_like\n",
      " |          quantiles\n",
      " |      arg1, arg2, arg3,... : array_like\n",
      " |          The shape parameter(s) for the distribution (see docstring of the\n",
      " |          instance object for more information)\n",
      " |      loc : array_like, optional\n",
      " |          location parameter (default=0)\n",
      " |      scale : array_like, optional\n",
      " |          scale parameter (default=1)\n",
      " |      \n",
      " |      Returns\n",
      " |      -------\n",
      " |      sf : array_like\n",
      " |          Survival function evaluated at x\n",
      " |  \n",
      " |  ----------------------------------------------------------------------\n",
      " |  Methods inherited from scipy.stats._distn_infrastructure.rv_generic:\n",
      " |  \n",
      " |  __call__(self, *args, **kwds)\n",
      " |      Freeze the distribution for the given arguments.\n",
      " |      \n",
      " |      Parameters\n",
      " |      ----------\n",
      " |      arg1, arg2, arg3,... : array_like\n",
      " |          The shape parameter(s) for the distribution.  Should include all\n",
      " |          the non-optional arguments, may include ``loc`` and ``scale``.\n",
      " |      \n",
      " |      Returns\n",
      " |      -------\n",
      " |      rv_frozen : rv_frozen instance\n",
      " |          The frozen distribution.\n",
      " |  \n",
      " |  __getstate__(self)\n",
      " |  \n",
      " |  __setstate__(self, state)\n",
      " |  \n",
      " |  entropy(self, *args, **kwds)\n",
      " |      Differential entropy of the RV.\n",
      " |      \n",
      " |      Parameters\n",
      " |      ----------\n",
      " |      arg1, arg2, arg3,... : array_like\n",
      " |          The shape parameter(s) for the distribution (see docstring of the\n",
      " |          instance object for more information).\n",
      " |      loc : array_like, optional\n",
      " |          Location parameter (default=0).\n",
      " |      scale : array_like, optional  (continuous distributions only).\n",
      " |          Scale parameter (default=1).\n",
      " |      \n",
      " |      Notes\n",
      " |      -----\n",
      " |      Entropy is defined base `e`:\n",
      " |      \n",
      " |      >>> drv = rv_discrete(values=((0, 1), (0.5, 0.5)))\n",
      " |      >>> np.allclose(drv.entropy(), np.log(2.0))\n",
      " |      True\n",
      " |  \n",
      " |  freeze(self, *args, **kwds)\n",
      " |      Freeze the distribution for the given arguments.\n",
      " |      \n",
      " |      Parameters\n",
      " |      ----------\n",
      " |      arg1, arg2, arg3,... : array_like\n",
      " |          The shape parameter(s) for the distribution.  Should include all\n",
      " |          the non-optional arguments, may include ``loc`` and ``scale``.\n",
      " |      \n",
      " |      Returns\n",
      " |      -------\n",
      " |      rv_frozen : rv_frozen instance\n",
      " |          The frozen distribution.\n",
      " |  \n",
      " |  interval(self, alpha, *args, **kwds)\n",
      " |      Confidence interval with equal areas around the median.\n",
      " |      \n",
      " |      Parameters\n",
      " |      ----------\n",
      " |      alpha : array_like of float\n",
      " |          Probability that an rv will be drawn from the returned range.\n",
      " |          Each value should be in the range [0, 1].\n",
      " |      arg1, arg2, ... : array_like\n",
      " |          The shape parameter(s) for the distribution (see docstring of the\n",
      " |          instance object for more information).\n",
      " |      loc : array_like, optional\n",
      " |          location parameter, Default is 0.\n",
      " |      scale : array_like, optional\n",
      " |          scale parameter, Default is 1.\n",
      " |      \n",
      " |      Returns\n",
      " |      -------\n",
      " |      a, b : ndarray of float\n",
      " |          end-points of range that contain ``100 * alpha %`` of the rv's\n",
      " |          possible values.\n",
      " |  \n",
      " |  mean(self, *args, **kwds)\n",
      " |      Mean of the distribution.\n",
      " |      \n",
      " |      Parameters\n",
      " |      ----------\n",
      " |      arg1, arg2, arg3,... : array_like\n",
      " |          The shape parameter(s) for the distribution (see docstring of the\n",
      " |          instance object for more information)\n",
      " |      loc : array_like, optional\n",
      " |          location parameter (default=0)\n",
      " |      scale : array_like, optional\n",
      " |          scale parameter (default=1)\n",
      " |      \n",
      " |      Returns\n",
      " |      -------\n",
      " |      mean : float\n",
      " |          the mean of the distribution\n",
      " |  \n",
      " |  median(self, *args, **kwds)\n",
      " |      Median of the distribution.\n",
      " |      \n",
      " |      Parameters\n",
      " |      ----------\n",
      " |      arg1, arg2, arg3,... : array_like\n",
      " |          The shape parameter(s) for the distribution (see docstring of the\n",
      " |          instance object for more information)\n",
      " |      loc : array_like, optional\n",
      " |          Location parameter, Default is 0.\n",
      " |      scale : array_like, optional\n",
      " |          Scale parameter, Default is 1.\n",
      " |      \n",
      " |      Returns\n",
      " |      -------\n",
      " |      median : float\n",
      " |          The median of the distribution.\n",
      " |      \n",
      " |      See Also\n",
      " |      --------\n",
      " |      stats.distributions.rv_discrete.ppf\n",
      " |          Inverse of the CDF\n",
      " |  \n",
      " |  moment(self, n, *args, **kwds)\n",
      " |      n-th order non-central moment of distribution.\n",
      " |      \n",
      " |      Parameters\n",
      " |      ----------\n",
      " |      n : int, n >= 1\n",
      " |          Order of moment.\n",
      " |      arg1, arg2, arg3,... : float\n",
      " |          The shape parameter(s) for the distribution (see docstring of the\n",
      " |          instance object for more information).\n",
      " |      loc : array_like, optional\n",
      " |          location parameter (default=0)\n",
      " |      scale : array_like, optional\n",
      " |          scale parameter (default=1)\n",
      " |  \n",
      " |  rvs(self, *args, **kwds)\n",
      " |      Random variates of given type.\n",
      " |      \n",
      " |      Parameters\n",
      " |      ----------\n",
      " |      arg1, arg2, arg3,... : array_like\n",
      " |          The shape parameter(s) for the distribution (see docstring of the\n",
      " |          instance object for more information).\n",
      " |      loc : array_like, optional\n",
      " |          Location parameter (default=0).\n",
      " |      scale : array_like, optional\n",
      " |          Scale parameter (default=1).\n",
      " |      size : int or tuple of ints, optional\n",
      " |          Defining number of random variates (default is 1).\n",
      " |      random_state : None or int or ``np.random.RandomState`` instance, optional\n",
      " |          If int or RandomState, use it for drawing the random variates.\n",
      " |          If None, rely on ``self.random_state``.\n",
      " |          Default is None.\n",
      " |      \n",
      " |      Returns\n",
      " |      -------\n",
      " |      rvs : ndarray or scalar\n",
      " |          Random variates of given `size`.\n",
      " |  \n",
      " |  stats(self, *args, **kwds)\n",
      " |      Some statistics of the given RV.\n",
      " |      \n",
      " |      Parameters\n",
      " |      ----------\n",
      " |      arg1, arg2, arg3,... : array_like\n",
      " |          The shape parameter(s) for the distribution (see docstring of the\n",
      " |          instance object for more information)\n",
      " |      loc : array_like, optional\n",
      " |          location parameter (default=0)\n",
      " |      scale : array_like, optional (continuous RVs only)\n",
      " |          scale parameter (default=1)\n",
      " |      moments : str, optional\n",
      " |          composed of letters ['mvsk'] defining which moments to compute:\n",
      " |          'm' = mean,\n",
      " |          'v' = variance,\n",
      " |          's' = (Fisher's) skew,\n",
      " |          'k' = (Fisher's) kurtosis.\n",
      " |          (default is 'mv')\n",
      " |      \n",
      " |      Returns\n",
      " |      -------\n",
      " |      stats : sequence\n",
      " |          of requested moments.\n",
      " |  \n",
      " |  std(self, *args, **kwds)\n",
      " |      Standard deviation of the distribution.\n",
      " |      \n",
      " |      Parameters\n",
      " |      ----------\n",
      " |      arg1, arg2, arg3,... : array_like\n",
      " |          The shape parameter(s) for the distribution (see docstring of the\n",
      " |          instance object for more information)\n",
      " |      loc : array_like, optional\n",
      " |          location parameter (default=0)\n",
      " |      scale : array_like, optional\n",
      " |          scale parameter (default=1)\n",
      " |      \n",
      " |      Returns\n",
      " |      -------\n",
      " |      std : float\n",
      " |          standard deviation of the distribution\n",
      " |  \n",
      " |  var(self, *args, **kwds)\n",
      " |      Variance of the distribution.\n",
      " |      \n",
      " |      Parameters\n",
      " |      ----------\n",
      " |      arg1, arg2, arg3,... : array_like\n",
      " |          The shape parameter(s) for the distribution (see docstring of the\n",
      " |          instance object for more information)\n",
      " |      loc : array_like, optional\n",
      " |          location parameter (default=0)\n",
      " |      scale : array_like, optional\n",
      " |          scale parameter (default=1)\n",
      " |      \n",
      " |      Returns\n",
      " |      -------\n",
      " |      var : float\n",
      " |          the variance of the distribution\n",
      " |  \n",
      " |  ----------------------------------------------------------------------\n",
      " |  Data descriptors inherited from scipy.stats._distn_infrastructure.rv_generic:\n",
      " |  \n",
      " |  __dict__\n",
      " |      dictionary for instance variables (if defined)\n",
      " |  \n",
      " |  __weakref__\n",
      " |      list of weak references to the object (if defined)\n",
      " |  \n",
      " |  random_state\n",
      " |      Get or set the RandomState object for generating random variates.\n",
      " |      \n",
      " |      This can be either None or an existing RandomState object.\n",
      " |      \n",
      " |      If None (or np.random), use the RandomState singleton used by np.random.\n",
      " |      If already a RandomState instance, use it.\n",
      " |      If an int, use a new RandomState instance seeded with seed.\n",
      "\n"
     ]
    }
   ],
   "source": [
    "help(st.gamma)"
   ]
  },
  {
   "cell_type": "code",
   "execution_count": 42,
   "metadata": {
    "collapsed": true
   },
   "outputs": [
    {
     "name": "stdout",
     "output_type": "stream",
     "text": [
      "Help on method pdf in module scipy.stats._distn_infrastructure:\n",
      "\n",
      "pdf(x, *args, **kwds) method of scipy.stats._continuous_distns.gamma_gen instance\n",
      "    Probability density function at x of the given RV.\n",
      "    \n",
      "    Parameters\n",
      "    ----------\n",
      "    x : array_like\n",
      "        quantiles\n",
      "    arg1, arg2, arg3,... : array_like\n",
      "        The shape parameter(s) for the distribution (see docstring of the\n",
      "        instance object for more information)\n",
      "    loc : array_like, optional\n",
      "        location parameter (default=0)\n",
      "    scale : array_like, optional\n",
      "        scale parameter (default=1)\n",
      "    \n",
      "    Returns\n",
      "    -------\n",
      "    pdf : ndarray\n",
      "        Probability density function evaluated at x\n",
      "\n"
     ]
    }
   ],
   "source": [
    "help(st.gamma.pdf)"
   ]
  },
  {
   "cell_type": "code",
   "execution_count": 39,
   "metadata": {},
   "outputs": [
    {
     "data": {
      "text/plain": [
       "array([[2.01461761, 0.81821168, 0.9581948 ],\n",
       "       [2.1125401 , 1.53548191, 2.97029534]])"
      ]
     },
     "execution_count": 39,
     "metadata": {},
     "output_type": "execute_result"
    }
   ],
   "source": [
    "st.gamma.rvs(2.0, loc=0, scale=1, size=(2,3))\n",
    "#The first parameter is the shape parameter and it's required"
   ]
  },
  {
   "cell_type": "markdown",
   "metadata": {},
   "source": [
    "## Composition of pdfs"
   ]
  },
  {
   "cell_type": "code",
   "execution_count": 48,
   "metadata": {},
   "outputs": [
    {
     "data": {
      "text/plain": [
       "array([5, 1, 2, 5, 3, 2, 2, 1, 2, 2])"
      ]
     },
     "execution_count": 48,
     "metadata": {},
     "output_type": "execute_result"
    }
   ],
   "source": [
    "np.random.negative_binomial(n=2, p=0.5, size=10)"
   ]
  },
  {
   "cell_type": "code",
   "execution_count": 49,
   "metadata": {},
   "outputs": [
    {
     "data": {
      "text/plain": [
       "(array([ 0.,  4., 17., 30., 42., 62., 75., 83., 86., 80., 85., 90., 69.,\n",
       "        55., 50., 36., 45., 33., 18., 12., 10.,  8.,  3.,  2.,  5.,  0.,\n",
       "         0.,  0.,  0.,  0.]),\n",
       " array([ 0.,  1.,  2.,  3.,  4.,  5.,  6.,  7.,  8.,  9., 10., 11., 12.,\n",
       "        13., 14., 15., 16., 17., 18., 19., 20., 21., 22., 23., 24., 25.,\n",
       "        26., 27., 28., 29., 30.]),\n",
       " <a list of 30 Patch objects>)"
      ]
     },
     "execution_count": 49,
     "metadata": {},
     "output_type": "execute_result"
    },
    {
     "data": {
      "image/png": "[encoded data removed]",
      "text/plain": [
       "<Figure size 432x288 with 1 Axes>"
      ]
     },
     "metadata": {
      "needs_background": "light"
     },
     "output_type": "display_data"
    }
   ],
   "source": [
    "### Mi aspetto di vedere 10 teste pria di vedere la decima croce\n",
    "neg_bin =np.random.negative_binomial(n=10, p=0.5, size=1000)\n",
    "plt.hist(neg_bin, bins=np.linspace(0,30,31))"
   ]
  },
  {
   "cell_type": "code",
   "execution_count": 50,
   "metadata": {},
   "outputs": [
    {
     "data": {
      "text/plain": [
       "(array([ 23., 129., 241., 235., 174., 110.,  59.,  14.,   9.,   6.]),\n",
       " array([ 2.73030932,  4.75269753,  6.77508575,  8.79747396, 10.81986217,\n",
       "        12.84225039, 14.8646386 , 16.88702682, 18.90941503, 20.93180324,\n",
       "        22.95419146]),\n",
       " <a list of 10 Patch objects>)"
      ]
     },
     "execution_count": 50,
     "metadata": {},
     "output_type": "execute_result"
    },
    {
     "data": {
      "image/png": "[encoded data removed]",
      "text/plain": [
       "<Figure size 432x288 with 1 Axes>"
      ]
     },
     "metadata": {
      "needs_background": "light"
     },
     "output_type": "display_data"
    }
   ],
   "source": [
    "lambdas = np.random.gamma(10, size=1000)\n",
    "plt.hist(lambdas)"
   ]
  },
  {
   "cell_type": "code",
   "execution_count": 51,
   "metadata": {},
   "outputs": [],
   "source": [
    "poi_obs = np.random.poisson(lambdas)"
   ]
  },
  {
   "cell_type": "code",
   "execution_count": 52,
   "metadata": {
    "scrolled": false
   },
   "outputs": [
    {
     "data": {
      "text/plain": [
       "(array([ 0.,  4., 17., 30., 42., 62., 75., 83., 86., 80., 85., 90., 69.,\n",
       "        55., 50., 36., 45., 33., 18., 12., 10.,  8.,  3.,  2.,  5.,  0.,\n",
       "         0.,  0.,  0.,  0.]),\n",
       " array([ 0.,  1.,  2.,  3.,  4.,  5.,  6.,  7.,  8.,  9., 10., 11., 12.,\n",
       "        13., 14., 15., 16., 17., 18., 19., 20., 21., 22., 23., 24., 25.,\n",
       "        26., 27., 28., 29., 30.]),\n",
       " <a list of 30 Patch objects>)"
      ]
     },
     "execution_count": 52,
     "metadata": {},
     "output_type": "execute_result"
    },
    {
     "data": {
      "image/png": "[encoded data removed]",
      "text/plain": [
       "<Figure size 432x288 with 1 Axes>"
      ]
     },
     "metadata": {
      "needs_background": "light"
     },
     "output_type": "display_data"
    }
   ],
   "source": [
    "bins = bins=np.linspace(0,30,31)\n",
    "\n",
    "plt.hist(poi_obs, bins, alpha =0.4)\n",
    "plt.hist(neg_bin, bins, alpha =0.4)\n"
   ]
  },
  {
   "cell_type": "markdown",
   "metadata": {},
   "source": [
    "## ------------------------------------------------------"
   ]
  },
  {
   "cell_type": "markdown",
   "metadata": {},
   "source": [
    "I can do a frozen distribution making an instance of st.gamma"
   ]
  },
  {
   "cell_type": "code",
   "execution_count": 40,
   "metadata": {},
   "outputs": [
    {
     "data": {
      "text/plain": [
       "array([4.00461473, 1.57972567, 1.91922767])"
      ]
     },
     "execution_count": 40,
     "metadata": {},
     "output_type": "execute_result"
    }
   ],
   "source": [
    "dist = st.gamma(2.0, loc=0, scale=1)\n",
    "dist.rvs(3)"
   ]
  },
  {
   "cell_type": "code",
   "execution_count": 41,
   "metadata": {},
   "outputs": [
    {
     "data": {
      "text/plain": [
       "array([[2.96823565, 2.25307184, 1.30764751],\n",
       "       [3.48395187, 0.47788263, 1.79796588]])"
      ]
     },
     "execution_count": 41,
     "metadata": {},
     "output_type": "execute_result"
    }
   ],
   "source": [
    "dist.rvs((2,3))"
   ]
  },
  {
   "cell_type": "markdown",
   "metadata": {},
   "source": [
    "So i can plot that froen distribution"
   ]
  },
  {
   "cell_type": "code",
   "execution_count": 61,
   "metadata": {},
   "outputs": [
    {
     "data": {
      "text/plain": [
       "Text(0.5, 1.0, 'Frozen $\\\\gamma$ distibution')"
      ]
     },
     "execution_count": 61,
     "metadata": {},
     "output_type": "execute_result"
    },
    {
     "data": {
      "image/png": "[encoded data removed]",
      "text/plain": [
       "<Figure size 432x288 with 1 Axes>"
      ]
     },
     "metadata": {
      "needs_background": "light"
     },
     "output_type": "display_data"
    }
   ],
   "source": [
    "x = np.linspace(0,5,1000)\n",
    "pdf_value = dist.pdf(x)\n",
    "plt.plot(x,pdf_value)\n",
    "plt.xlabel(\"$x$ values\")\n",
    "plt.ylabel(\"$\\gamma$\")\n",
    "plt.title(\"Frozen $\\gamma$ distibution\", fontsize=20)\n",
    "#plt is AL pylab lybrary"
   ]
  },
  {
   "cell_type": "markdown",
   "metadata": {},
   "source": [
    "I can make a gamma-fit over a sample extracted froma my frozen gamma distribution"
   ]
  },
  {
   "cell_type": "code",
   "execution_count": 69,
   "metadata": {},
   "outputs": [
    {
     "data": {
      "text/plain": [
       "(2.248034322464897, -0.03566217842519897, 0.8454750446387522)"
      ]
     },
     "execution_count": 69,
     "metadata": {},
     "output_type": "execute_result"
    }
   ],
   "source": [
    "#Extract a sample of rv according to mi dist\n",
    "data = dist.rvs(100)\n",
    "#Make the gamma-fit\n",
    "st.gamma.fit(data)\n",
    "#It prints the tuple of parameters returned by the fit method"
   ]
  },
  {
   "cell_type": "markdown",
   "metadata": {},
   "source": [
    "I can also fix some parameters for more sensible meaning"
   ]
  },
  {
   "cell_type": "code",
   "execution_count": 71,
   "metadata": {
    "scrolled": true
   },
   "outputs": [
    {
     "data": {
      "text/plain": [
       "(2.111478110621488, 0, 0.8832667266888764)"
      ]
     },
     "execution_count": 71,
     "metadata": {},
     "output_type": "execute_result"
    }
   ],
   "source": [
    "st.gamma.fit(data,floc=0)"
   ]
  },
  {
   "cell_type": "markdown",
   "metadata": {},
   "source": [
    "Let's plot the fitted curve and the original pdf together"
   ]
  },
  {
   "cell_type": "code",
   "execution_count": 90,
   "metadata": {
    "collapsed": true
   },
   "outputs": [
    {
     "name": "stdout",
     "output_type": "stream",
     "text": [
      "Help on function distplot in module seaborn.distributions:\n",
      "\n",
      "distplot(a, bins=None, hist=True, kde=True, rug=False, fit=None, hist_kws=None, kde_kws=None, rug_kws=None, fit_kws=None, color=None, vertical=False, norm_hist=False, axlabel=None, label=None, ax=None)\n",
      "    Flexibly plot a univariate distribution of observations.\n",
      "    \n",
      "    This function combines the matplotlib ``hist`` function (with automatic\n",
      "    calculation of a good default bin size) with the seaborn :func:`kdeplot`\n",
      "    and :func:`rugplot` functions. It can also fit ``scipy.stats``\n",
      "    distributions and plot the estimated PDF over the data.\n",
      "    \n",
      "    Parameters\n",
      "    ----------\n",
      "    \n",
      "    a : Series, 1d-array, or list.\n",
      "        Observed data. If this is a Series object with a ``name`` attribute,\n",
      "        the name will be used to label the data axis.\n",
      "    bins : argument for matplotlib hist(), or None, optional\n",
      "        Specification of hist bins, or None to use Freedman-Diaconis rule.\n",
      "    hist : bool, optional\n",
      "        Whether to plot a (normed) histogram.\n",
      "    kde : bool, optional\n",
      "        Whether to plot a gaussian kernel density estimate.\n",
      "    rug : bool, optional\n",
      "        Whether to draw a rugplot on the support axis.\n",
      "    fit : random variable object, optional\n",
      "        An object with `fit` method, returning a tuple that can be passed to a\n",
      "        `pdf` method a positional arguments following an grid of values to\n",
      "        evaluate the pdf on.\n",
      "    {hist, kde, rug, fit}_kws : dictionaries, optional\n",
      "        Keyword arguments for underlying plotting functions.\n",
      "    color : matplotlib color, optional\n",
      "        Color to plot everything but the fitted curve in.\n",
      "    vertical : bool, optional\n",
      "        If True, observed values are on y-axis.\n",
      "    norm_hist : bool, optional\n",
      "        If True, the histogram height shows a density rather than a count.\n",
      "        This is implied if a KDE or fitted density is plotted.\n",
      "    axlabel : string, False, or None, optional\n",
      "        Name for the support axis label. If None, will try to get it\n",
      "        from a.namel if False, do not set a label.\n",
      "    label : string, optional\n",
      "        Legend label for the relevent component of the plot\n",
      "    ax : matplotlib axis, optional\n",
      "        if provided, plot on this axis\n",
      "    \n",
      "    Returns\n",
      "    -------\n",
      "    ax : matplotlib Axes\n",
      "        Returns the Axes object with the plot for further tweaking.\n",
      "    \n",
      "    See Also\n",
      "    --------\n",
      "    kdeplot : Show a univariate or bivariate distribution with a kernel\n",
      "              density estimate.\n",
      "    rugplot : Draw small vertical lines to show each observation in a\n",
      "              distribution.\n",
      "    \n",
      "    Examples\n",
      "    --------\n",
      "    \n",
      "    Show a default plot with a kernel density estimate and histogram with bin\n",
      "    size determined automatically with a reference rule:\n",
      "    \n",
      "    .. plot::\n",
      "        :context: close-figs\n",
      "    \n",
      "        >>> import seaborn as sns, numpy as np\n",
      "        >>> sns.set(); np.random.seed(0)\n",
      "        >>> x = np.random.randn(100)\n",
      "        >>> ax = sns.distplot(x)\n",
      "    \n",
      "    Use Pandas objects to get an informative axis label:\n",
      "    \n",
      "    .. plot::\n",
      "        :context: close-figs\n",
      "    \n",
      "        >>> import pandas as pd\n",
      "        >>> x = pd.Series(x, name=\"x variable\")\n",
      "        >>> ax = sns.distplot(x)\n",
      "    \n",
      "    Plot the distribution with a kernel density estimate and rug plot:\n",
      "    \n",
      "    .. plot::\n",
      "        :context: close-figs\n",
      "    \n",
      "        >>> ax = sns.distplot(x, rug=True, hist=False)\n",
      "    \n",
      "    Plot the distribution with a histogram and maximum likelihood gaussian\n",
      "    distribution fit:\n",
      "    \n",
      "    .. plot::\n",
      "        :context: close-figs\n",
      "    \n",
      "        >>> from scipy.stats import norm\n",
      "        >>> ax = sns.distplot(x, fit=norm, kde=False)\n",
      "    \n",
      "    Plot the distribution on the vertical axis:\n",
      "    \n",
      "    .. plot::\n",
      "        :context: close-figs\n",
      "    \n",
      "        >>> ax = sns.distplot(x, vertical=True)\n",
      "    \n",
      "    Change the color of all the plot elements:\n",
      "    \n",
      "    .. plot::\n",
      "        :context: close-figs\n",
      "    \n",
      "        >>> sns.set_color_codes()\n",
      "        >>> ax = sns.distplot(x, color=\"y\")\n",
      "    \n",
      "    Pass specific parameters to the underlying plot functions:\n",
      "    \n",
      "    .. plot::\n",
      "        :context: close-figs\n",
      "    \n",
      "        >>> ax = sns.distplot(x, rug=True, rug_kws={\"color\": \"g\"},\n",
      "        ...                   kde_kws={\"color\": \"k\", \"lw\": 3, \"label\": \"KDE\"},\n",
      "        ...                   hist_kws={\"histtype\": \"step\", \"linewidth\": 3,\n",
      "        ...                             \"alpha\": 1, \"color\": \"g\"})\n",
      "\n"
     ]
    }
   ],
   "source": [
    "help(sbn.distplot)"
   ]
  },
  {
   "cell_type": "code",
   "execution_count": 89,
   "metadata": {
    "scrolled": true
   },
   "outputs": [
    {
     "data": {
      "text/plain": [
       "<matplotlib.axes._subplots.AxesSubplot at 0x7fd065f26320>"
      ]
     },
     "execution_count": 89,
     "metadata": {},
     "output_type": "execute_result"
    },
    {
     "data": {
      "image/png": "[encoded data removed]",
      "text/plain": [
       "<Figure size 432x288 with 1 Axes>"
      ]
     },
     "metadata": {
      "needs_background": "light"
     },
     "output_type": "display_data"
    }
   ],
   "source": [
    "#I extract the parameters through the fit:\n",
    "params = st.gamma.fit(data,floc=0)\n",
    "#I pass those params as parameter de-tupling the using the *\n",
    "fit_dist = st.gamma(*params)\n",
    "\n",
    "#This time I make the plot using seaborn (sbn)\n",
    "#I sample random values from my txo distributions\n",
    "sbn.distplot(dist.rvs(10_000))\n",
    "sbn.distplot(fit_dist.rvs(10_000))"
   ]
  },
  {
   "cell_type": "markdown",
   "metadata": {},
   "source": [
    "Bad behaviour: the distribution is non-zero before zero.\n",
    "We have to do a wrap over the fit function to avoid that behaviour due to the kde.\n",
    "Our wrap has to emulate the \"fit\" \"pdf\" interface of every scipy distributions "
   ]
  },
  {
   "cell_type": "code",
   "execution_count": 99,
   "metadata": {
    "scrolled": true
   },
   "outputs": [
    {
     "data": {
      "text/plain": [
       "<matplotlib.axes._subplots.AxesSubplot at 0x7fd0658d8780>"
      ]
     },
     "execution_count": 99,
     "metadata": {},
     "output_type": "execute_result"
    },
    {
     "data": {
      "image/png": "[encoded data removed]",
      "text/plain": [
       "<Figure size 432x288 with 1 Axes>"
      ]
     },
     "metadata": {
      "needs_background": "light"
     },
     "output_type": "display_data"
    }
   ],
   "source": [
    "class GammaFitter:\n",
    "    def fit(self, data):\n",
    "        return st.gamma.fit(data, floc=0)\n",
    "    \n",
    "    def pdf(self, x, *params):\n",
    "        return st.gamma.pdf(x, *params)\n",
    "    \n",
    "sbn.distplot(dist.rvs(10_000), kde=False, fit=GammaFitter())"
   ]
  },
  {
   "cell_type": "markdown",
   "metadata": {},
   "source": [
    "# What is fit doing under the hood?????????\n",
    "\n",
    "how does it get the parameters for the fit???"
   ]
  },
  {
   "cell_type": "markdown",
   "metadata": {},
   "source": [
    "# ARRIVED HERE"
   ]
  },
  {
   "cell_type": "code",
   "execution_count": null,
   "metadata": {},
   "outputs": [],
   "source": []
  },
  {
   "cell_type": "code",
   "execution_count": null,
   "metadata": {},
   "outputs": [],
   "source": []
  },
  {
   "cell_type": "code",
   "execution_count": null,
   "metadata": {},
   "outputs": [],
   "source": []
  },
  {
   "cell_type": "code",
   "execution_count": null,
   "metadata": {},
   "outputs": [],
   "source": []
  },
  {
   "cell_type": "code",
   "execution_count": null,
   "metadata": {},
   "outputs": [],
   "source": []
  },
  {
   "cell_type": "code",
   "execution_count": 84,
   "metadata": {},
   "outputs": [],
   "source": [
    "class St_Fitter:\n",
    "    def __init__(self, st_family, **fit_params):\n",
    "        self.st_family = st_family\n",
    "        self.fit_params = fit_params\n",
    "    \n",
    "    def fit(self, data):\n",
    "        params = self.fit_params\n",
    "        return self.st_family.fit(data, **params)\n",
    "    \n",
    "    def pdf(self, x, *params):\n",
    "        return self.st_family.pdf(x, *params)"
   ]
  },
  {
   "cell_type": "code",
   "execution_count": 85,
   "metadata": {},
   "outputs": [],
   "source": [
    "dist = st.gamma(2.0, loc=0, scale=1)"
   ]
  },
  {
   "cell_type": "code",
   "execution_count": 86,
   "metadata": {
    "collapsed": true
   },
   "outputs": [
    {
     "data": {
      "text/plain": [
       "<matplotlib.axes._subplots.AxesSubplot at 0x7fd0668318d0>"
      ]
     },
     "execution_count": 86,
     "metadata": {},
     "output_type": "execute_result"
    },
    {
     "data": {
      "image/png": "[encoded data removed]",
      "text/plain": [
       "<Figure size 432x288 with 1 Axes>"
      ]
     },
     "metadata": {
      "needs_background": "light"
     },
     "output_type": "display_data"
    }
   ],
   "source": [
    "sbn.distplot(dist.rvs(10_000), kde=False, fit=St_Fitter(st.norm, fscale=1))"
   ]
  },
  {
   "cell_type": "code",
   "execution_count": 95,
   "metadata": {},
   "outputs": [
    {
     "name": "stdout",
     "output_type": "stream",
     "text": [
      "Help on method fit in module scipy.stats._continuous_distns:\n",
      "\n",
      "fit(data, *args, **kwds) method of scipy.stats._continuous_distns.gamma_gen instance\n",
      "    Return MLEs for shape (if applicable), location, and scale\n",
      "    parameters from data.\n",
      "    \n",
      "    MLE stands for Maximum Likelihood Estimate.  Starting estimates for\n",
      "    the fit are given by input arguments; for any arguments not provided\n",
      "    with starting estimates, ``self._fitstart(data)`` is called to generate\n",
      "    such.\n",
      "    \n",
      "    One can hold some parameters fixed to specific values by passing in\n",
      "    keyword arguments ``f0``, ``f1``, ..., ``fn`` (for shape parameters)\n",
      "    and ``floc`` and ``fscale`` (for location and scale parameters,\n",
      "    respectively).\n",
      "    \n",
      "    Parameters\n",
      "    ----------\n",
      "    data : array_like\n",
      "        Data to use in calculating the MLEs.\n",
      "    args : floats, optional\n",
      "        Starting value(s) for any shape-characterizing arguments (those not\n",
      "        provided will be determined by a call to ``_fitstart(data)``).\n",
      "        No default value.\n",
      "    kwds : floats, optional\n",
      "        Starting values for the location and scale parameters; no default.\n",
      "        Special keyword arguments are recognized as holding certain\n",
      "        parameters fixed:\n",
      "    \n",
      "        - f0...fn : hold respective shape parameters fixed.\n",
      "          Alternatively, shape parameters to fix can be specified by name.\n",
      "          For example, if ``self.shapes == \"a, b\"``, ``fa``and ``fix_a``\n",
      "          are equivalent to ``f0``, and ``fb`` and ``fix_b`` are\n",
      "          equivalent to ``f1``.\n",
      "    \n",
      "        - floc : hold location parameter fixed to specified value.\n",
      "    \n",
      "        - fscale : hold scale parameter fixed to specified value.\n",
      "    \n",
      "        - optimizer : The optimizer to use.  The optimizer must take ``func``,\n",
      "          and starting position as the first two arguments,\n",
      "          plus ``args`` (for extra arguments to pass to the\n",
      "          function to be optimized) and ``disp=0`` to suppress\n",
      "          output as keyword arguments.\n",
      "    \n",
      "    Returns\n",
      "    -------\n",
      "    mle_tuple : tuple of floats\n",
      "        MLEs for any shape parameters (if applicable), followed by those\n",
      "        for location and scale. For most random variables, shape statistics\n",
      "        will be returned, but there are exceptions (e.g. ``norm``).\n",
      "    \n",
      "    Notes\n",
      "    -----\n",
      "    This fit is computed by maximizing a log-likelihood function, with\n",
      "    penalty applied for samples outside of range of the distribution. The\n",
      "    returned answer is not guaranteed to be the globally optimal MLE, it\n",
      "    may only be locally optimal, or the optimization may fail altogether.\n",
      "    \n",
      "    When the location is fixed by using the argument `floc`, this\n",
      "    function uses explicit formulas or solves a simpler numerical\n",
      "    problem than the full ML optimization problem.  So in that case,\n",
      "    the `optimizer`, `loc` and `scale` arguments are ignored.\n",
      "    \n",
      "    Examples\n",
      "    --------\n",
      "    \n",
      "    Generate some data to fit: draw random variates from the `beta`\n",
      "    distribution\n",
      "    \n",
      "    >>> from scipy.stats import beta\n",
      "    >>> a, b = 1., 2.\n",
      "    >>> x = beta.rvs(a, b, size=1000)\n",
      "    \n",
      "    Now we can fit all four parameters (``a``, ``b``, ``loc`` and ``scale``):\n",
      "    \n",
      "    >>> a1, b1, loc1, scale1 = beta.fit(x)\n",
      "    \n",
      "    We can also use some prior knowledge about the dataset: let's keep\n",
      "    ``loc`` and ``scale`` fixed:\n",
      "    \n",
      "    >>> a1, b1, loc1, scale1 = beta.fit(x, floc=0, fscale=1)\n",
      "    >>> loc1, scale1\n",
      "    (0, 1)\n",
      "    \n",
      "    We can also keep shape parameters fixed by using ``f``-keywords. To\n",
      "    keep the zero-th shape parameter ``a`` equal 1, use ``f0=1`` or,\n",
      "    equivalently, ``fa=1``:\n",
      "    \n",
      "    >>> a1, b1, loc1, scale1 = beta.fit(x, fa=1, floc=0, fscale=1)\n",
      "    >>> a1\n",
      "    1\n",
      "    \n",
      "    Not all distributions return estimates for the shape parameters.\n",
      "    ``norm`` for example just returns estimates for location and scale:\n",
      "    \n",
      "    >>> from scipy.stats import norm\n",
      "    >>> x = norm.rvs(a, b, size=1000, random_state=123)\n",
      "    >>> loc1, scale1 = norm.fit(x)\n",
      "    >>> loc1, scale1\n",
      "    (0.92087172783841631, 2.0015750750324668)\n",
      "\n"
     ]
    }
   ],
   "source": [
    "help(st.gamma.fit)"
   ]
  },
  {
   "cell_type": "code",
   "execution_count": null,
   "metadata": {},
   "outputs": [],
   "source": []
  },
  {
   "cell_type": "code",
   "execution_count": 85,
   "metadata": {},
   "outputs": [],
   "source": [
    "dist = st.gamma(2.0, loc=0, scale=1)\n",
    "data = dist.rvs(30)"
   ]
  },
  {
   "cell_type": "code",
   "execution_count": 86,
   "metadata": {},
   "outputs": [
    {
     "data": {
      "text/plain": [
       "(4.845224726443964, -0.5060323070783597, 0.46093067218498257)"
      ]
     },
     "execution_count": 86,
     "metadata": {},
     "output_type": "execute_result"
    }
   ],
   "source": [
    "st.gamma.fit(data)"
   ]
  },
  {
   "cell_type": "code",
   "execution_count": 87,
   "metadata": {},
   "outputs": [
    {
     "data": {
      "text/plain": [
       "(2.364841002895622, 0, 0.7304007518145543)"
      ]
     },
     "execution_count": 87,
     "metadata": {},
     "output_type": "execute_result"
    }
   ],
   "source": [
    "st.gamma.fit(data, floc=0)"
   ]
  },
  {
   "cell_type": "code",
   "execution_count": 88,
   "metadata": {},
   "outputs": [],
   "source": [
    "params = st.gamma.fit(data, floc=0)\n",
    "new_dist = st.gamma(*params)"
   ]
  },
  {
   "cell_type": "code",
   "execution_count": 89,
   "metadata": {},
   "outputs": [
    {
     "name": "stderr",
     "output_type": "stream",
     "text": [
      "/home/alessandro/anaconda3/lib/python3.7/site-packages/scipy/stats/stats.py:1713: FutureWarning: Using a non-tuple sequence for multidimensional indexing is deprecated; use `arr[tuple(seq)]` instead of `arr[seq]`. In the future this will be interpreted as an array index, `arr[np.array(seq)]`, which will result either in an error or a different result.\n",
      "  return np.add.reduce(sorted[indexer] * weights, axis=axis) / sumval\n"
     ]
    },
    {
     "data": {
      "text/plain": [
       "<matplotlib.axes._subplots.AxesSubplot at 0x7f5946f41908>"
      ]
     },
     "execution_count": 89,
     "metadata": {},
     "output_type": "execute_result"
    },
    {
     "data": {
      "image/png": "[encoded data removed]",
      "text/plain": [
       "<Figure size 432x288 with 1 Axes>"
      ]
     },
     "metadata": {
      "needs_background": "light"
     },
     "output_type": "display_data"
    }
   ],
   "source": [
    "sbn.distplot(dist.rvs(10_000))\n",
    "sbn.distplot(new_dist.rvs(10_000))"
   ]
  },
  {
   "cell_type": "code",
   "execution_count": 90,
   "metadata": {},
   "outputs": [
    {
     "data": {
      "text/plain": [
       "<matplotlib.axes._subplots.AxesSubplot at 0x7f5946d0f278>"
      ]
     },
     "execution_count": 90,
     "metadata": {},
     "output_type": "execute_result"
    },
    {
     "data": {
      "image/png": "[encoded data removed]",
      "text/plain": [
       "<Figure size 432x288 with 1 Axes>"
      ]
     },
     "metadata": {
      "needs_background": "light"
     },
     "output_type": "display_data"
    }
   ],
   "source": [
    "\n",
    "\n",
    "class GammaFitter:\n",
    "    def fit(self, data):\n",
    "        return st.gamma.fit(data, floc=0)\n",
    "    \n",
    "    def pdf(self, x, *params):\n",
    "        return st.gamma.pdf(x, *params)\n",
    "    \n",
    "sbn.distplot(dist.rvs(10_000), kde=False, fit=GammaFitter())\n",
    "\n"
   ]
  },
  {
   "cell_type": "markdown",
   "metadata": {},
   "source": [
    "## PORCO DIO"
   ]
  },
  {
   "cell_type": "code",
   "execution_count": null,
   "metadata": {},
   "outputs": [],
   "source": []
  },
  {
   "cell_type": "code",
   "execution_count": null,
   "metadata": {},
   "outputs": [],
   "source": []
  },
  {
   "cell_type": "code",
   "execution_count": null,
   "metadata": {},
   "outputs": [],
   "source": []
  },
  {
   "cell_type": "code",
   "execution_count": null,
   "metadata": {},
   "outputs": [],
   "source": []
  },
  {
   "cell_type": "code",
   "execution_count": null,
   "metadata": {},
   "outputs": [],
   "source": []
  },
  {
   "cell_type": "code",
   "execution_count": null,
   "metadata": {},
   "outputs": [],
   "source": []
  },
  {
   "cell_type": "code",
   "execution_count": null,
   "metadata": {},
   "outputs": [],
   "source": []
  },
  {
   "cell_type": "code",
   "execution_count": null,
   "metadata": {},
   "outputs": [],
   "source": []
  },
  {
   "cell_type": "code",
   "execution_count": null,
   "metadata": {},
   "outputs": [],
   "source": []
  },
  {
   "cell_type": "code",
   "execution_count": null,
   "metadata": {},
   "outputs": [],
   "source": []
  },
  {
   "cell_type": "code",
   "execution_count": null,
   "metadata": {},
   "outputs": [],
   "source": []
  },
  {
   "cell_type": "code",
   "execution_count": null,
   "metadata": {},
   "outputs": [],
   "source": []
  }
 ],
 "metadata": {
  "kernelspec": {
   "display_name": "Python 3",
   "language": "python",
   "name": "python3"
  },
  "language_info": {
   "codemirror_mode": {
    "name": "ipython",
    "version": 3
   },
   "file_extension": ".py",
   "mimetype": "text/x-python",
   "name": "python",
   "nbconvert_exporter": "python",
   "pygments_lexer": "ipython3",
   "version": "3.7.1"
  }
 },
 "nbformat": 4,
 "nbformat_minor": 2
}
