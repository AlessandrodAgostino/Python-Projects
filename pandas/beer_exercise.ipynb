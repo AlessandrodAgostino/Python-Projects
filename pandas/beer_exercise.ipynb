{
 "cells": [
  {
   "cell_type": "code",
   "execution_count": 35,
   "metadata": {},
   "outputs": [],
   "source": [
    "import pandas as pd\n",
    "import re\n",
    "import seaborn"
   ]
  },
  {
   "cell_type": "code",
   "execution_count": 2,
   "metadata": {},
   "outputs": [],
   "source": [
    "#Download the databases\n",
    "page_nobel = \"https://www.britannica.com/topic/Nobel-Prize-Winners-by-Year-1856946\"\n",
    "page_beer = \"https://en.wikipedia.org/wiki/List_of_countries_by_beer_consumption_per_capita\"\n",
    "page_ussr = \"https://en.wikipedia.org/wiki/Post-Soviet_states\"\n",
    "\n",
    "nobel_site_tables = pd.read_html(page_nobel)\n",
    "beer_site_tables = pd.read_html(page_beer)\n",
    "ussr_countries_tables = pd.read_html(page_ussr)"
   ]
  },
  {
   "cell_type": "markdown",
   "metadata": {},
   "source": [
    "# Pre processing of data"
   ]
  },
  {
   "cell_type": "markdown",
   "metadata": {},
   "source": [
    "## Handle U.S.S.R Countries"
   ]
  },
  {
   "cell_type": "code",
   "execution_count": 22,
   "metadata": {},
   "outputs": [],
   "source": [
    "#Selecting the tab I need\n",
    "countries_in_ussr = ussr_countries_tables[0].loc[:,'Country']\n",
    "#Compiling the regex that extracts things before '(' and\n",
    "#'[' in the text\n",
    "before_parentesis = re.compile('([\\w\\s]*)[\\[\\(]?')\n",
    "countries_in_ussr = countries_in_ussr.str.extract(before_parentesis, expand=False).iloc[:-1]"
   ]
  },
  {
   "cell_type": "markdown",
   "metadata": {},
   "source": [
    "## Handle Beer data"
   ]
  },
  {
   "cell_type": "code",
   "execution_count": 49,
   "metadata": {
    "scrolled": true
   },
   "outputs": [
    {
     "data": {
      "text/html": [
       "<div>\n",
       "<style scoped>\n",
       "    .dataframe tbody tr th:only-of-type {\n",
       "        vertical-align: middle;\n",
       "    }\n",
       "\n",
       "    .dataframe tbody tr th {\n",
       "        vertical-align: top;\n",
       "    }\n",
       "\n",
       "    .dataframe thead th {\n",
       "        text-align: right;\n",
       "    }\n",
       "</style>\n",
       "<table border=\"1\" class=\"dataframe\">\n",
       "  <thead>\n",
       "    <tr style=\"text-align: right;\">\n",
       "      <th></th>\n",
       "      <th>Country</th>\n",
       "      <th>Rank</th>\n",
       "      <th>Consumption</th>\n",
       "    </tr>\n",
       "  </thead>\n",
       "  <tbody>\n",
       "    <tr>\n",
       "      <th>0</th>\n",
       "      <td>Argentina</td>\n",
       "      <td>NaN</td>\n",
       "      <td>49.0</td>\n",
       "    </tr>\n",
       "    <tr>\n",
       "      <th>1</th>\n",
       "      <td>Australia</td>\n",
       "      <td>23.0</td>\n",
       "      <td>71.4</td>\n",
       "    </tr>\n",
       "    <tr>\n",
       "      <th>2</th>\n",
       "      <td>Austria</td>\n",
       "      <td>3.0</td>\n",
       "      <td>106.0</td>\n",
       "    </tr>\n",
       "    <tr>\n",
       "      <th>3</th>\n",
       "      <td>Belgium</td>\n",
       "      <td>27.0</td>\n",
       "      <td>67.4</td>\n",
       "    </tr>\n",
       "    <tr>\n",
       "      <th>4</th>\n",
       "      <td>Belize</td>\n",
       "      <td>11.0</td>\n",
       "      <td>85.0</td>\n",
       "    </tr>\n",
       "  </tbody>\n",
       "</table>\n",
       "</div>"
      ],
      "text/plain": [
       "     Country  Rank  Consumption\n",
       "0  Argentina   NaN         49.0\n",
       "1  Australia  23.0         71.4\n",
       "2    Austria   3.0        106.0\n",
       "3    Belgium  27.0         67.4\n",
       "4     Belize  11.0         85.0"
      ]
     },
     "execution_count": 49,
     "metadata": {},
     "output_type": "execute_result"
    }
   ],
   "source": [
    "beer_table = beer_site_tables[0]\n",
    "#Select the columns I care of\n",
    "beer_table = beer_table.iloc[:,0:3]\n",
    "#Changing the name of the columns\n",
    "beer_table.rename(index=str, columns={\"Consumption per capita [1](litres)\": \"Consumption\",\n",
    "                                      \"Global rank[1]\": \"Rank\"}, inplace=True)\n",
    "regex1 = re.compile('([\\w\\s]+)\\[*.*')\n",
    "beer_table['Country'] = beer_table['Country'].str.extract(regex1, expand=False)\n",
    "#Merging ussr countries ins a unique entry with their mean\n",
    "beer_table.loc[beer_table['Country'].isin(countries_in_ussr) , 'Country'] = 'U.S.S.R.'\n",
    "beer_table = beer_table.groupby('Country', as_index=False).mean()\n",
    "#Would like to modify these two lines\n",
    "beer_table.loc[beer_table['Country']=='United Kingdom', 'Country']='U.K.'\n",
    "beer_table.loc[beer_table['Country']=='United States', 'Country']='U.S.'\n",
    "\n",
    "beer_table.head()"
   ]
  },
  {
   "cell_type": "markdown",
   "metadata": {},
   "source": [
    "## Handle Nobel data"
   ]
  },
  {
   "cell_type": "code",
   "execution_count": 50,
   "metadata": {},
   "outputs": [
    {
     "data": {
      "text/html": [
       "<div>\n",
       "<style scoped>\n",
       "    .dataframe tbody tr th:only-of-type {\n",
       "        vertical-align: middle;\n",
       "    }\n",
       "\n",
       "    .dataframe tbody tr th {\n",
       "        vertical-align: top;\n",
       "    }\n",
       "\n",
       "    .dataframe thead th {\n",
       "        text-align: right;\n",
       "    }\n",
       "</style>\n",
       "<table border=\"1\" class=\"dataframe\">\n",
       "  <thead>\n",
       "    <tr style=\"text-align: right;\">\n",
       "      <th></th>\n",
       "      <th>category</th>\n",
       "      <th>name</th>\n",
       "      <th>Country</th>\n",
       "    </tr>\n",
       "  </thead>\n",
       "  <tbody>\n",
       "    <tr>\n",
       "      <th>0</th>\n",
       "      <td>physics</td>\n",
       "      <td>Röntgen, Wilhelm Conrad</td>\n",
       "      <td>Germany</td>\n",
       "    </tr>\n",
       "    <tr>\n",
       "      <th>1</th>\n",
       "      <td>physics</td>\n",
       "      <td>Lorentz, Hendrik Antoon</td>\n",
       "      <td>Netherlands</td>\n",
       "    </tr>\n",
       "    <tr>\n",
       "      <th>2</th>\n",
       "      <td>physics</td>\n",
       "      <td>Zeeman, Pieter</td>\n",
       "      <td>Netherlands</td>\n",
       "    </tr>\n",
       "    <tr>\n",
       "      <th>3</th>\n",
       "      <td>physics</td>\n",
       "      <td>Becquerel, Henri</td>\n",
       "      <td>France</td>\n",
       "    </tr>\n",
       "    <tr>\n",
       "      <th>4</th>\n",
       "      <td>physics</td>\n",
       "      <td>Curie, Marie</td>\n",
       "      <td>France</td>\n",
       "    </tr>\n",
       "  </tbody>\n",
       "</table>\n",
       "</div>"
      ],
      "text/plain": [
       "  category                     name      Country\n",
       "0  physics  Röntgen, Wilhelm Conrad      Germany\n",
       "1  physics  Lorentz, Hendrik Antoon  Netherlands\n",
       "2  physics           Zeeman, Pieter  Netherlands\n",
       "3  physics         Becquerel, Henri       France\n",
       "4  physics             Curie, Marie       France"
      ]
     },
     "execution_count": 50,
     "metadata": {},
     "output_type": "execute_result"
    }
   ],
   "source": [
    "##NOBEL##\n",
    "nobel_table = nobel_site_tables[0]\n",
    "#Select the columns and rows I care of:\n",
    "nobel_table = nobel_table.loc[nobel_table.loc[:,'category'] == 'physics',:].iloc[:,1:4]\n",
    "#Changing the name of a column\n",
    "nobel_table.rename(index=str, columns={'country*': 'Country'}, inplace=True)\n",
    "#Ingoring division in West/East Germany\n",
    "nobel_table.loc[nobel_table['Country'].str.contains('Germany'), 'Country'] = 'Germany'\n",
    "#Extracting the first Country form the line where there are two divided by a /\n",
    "regex2 = re.compile('([\\w\\.]+).*')\n",
    "nobel_table['Country'] = nobel_table['Country'].str.extract(regex2, expand=False)\n",
    "#Merging ussr countries\n",
    "nobel_table.loc[nobel_table['Country'].isin(countries_in_ussr) , 'Country'] = 'U.S.S.R.'\n",
    "nobel_table.reset_index(drop= True,inplace=True)\n",
    "nobel_table.head()"
   ]
  },
  {
   "cell_type": "markdown",
   "metadata": {},
   "source": [
    "# Representation"
   ]
  },
  {
   "cell_type": "code",
   "execution_count": 53,
   "metadata": {},
   "outputs": [],
   "source": [
    "nobel_count=nobel_table.groupby('Country').count()\n",
    "nobel_count.rename(index=str, columns={\"name\": \"count\"}\n",
    "                   , inplace=True)\n"
   ]
  },
  {
   "cell_type": "code",
   "execution_count": 54,
   "metadata": {},
   "outputs": [
    {
     "data": {
      "text/html": [
       "<div>\n",
       "<style scoped>\n",
       "    .dataframe tbody tr th:only-of-type {\n",
       "        vertical-align: middle;\n",
       "    }\n",
       "\n",
       "    .dataframe tbody tr th {\n",
       "        vertical-align: top;\n",
       "    }\n",
       "\n",
       "    .dataframe thead th {\n",
       "        text-align: right;\n",
       "    }\n",
       "</style>\n",
       "<table border=\"1\" class=\"dataframe\">\n",
       "  <thead>\n",
       "    <tr style=\"text-align: right;\">\n",
       "      <th></th>\n",
       "      <th>category</th>\n",
       "      <th>count</th>\n",
       "    </tr>\n",
       "    <tr>\n",
       "      <th>Country</th>\n",
       "      <th></th>\n",
       "      <th></th>\n",
       "    </tr>\n",
       "  </thead>\n",
       "  <tbody>\n",
       "    <tr>\n",
       "      <th>Austria</th>\n",
       "      <td>3</td>\n",
       "      <td>3</td>\n",
       "    </tr>\n",
       "    <tr>\n",
       "      <th>Belgium</th>\n",
       "      <td>1</td>\n",
       "      <td>1</td>\n",
       "    </tr>\n",
       "    <tr>\n",
       "      <th>Canada</th>\n",
       "      <td>5</td>\n",
       "      <td>5</td>\n",
       "    </tr>\n",
       "    <tr>\n",
       "      <th>China</th>\n",
       "      <td>2</td>\n",
       "      <td>2</td>\n",
       "    </tr>\n",
       "    <tr>\n",
       "      <th>Denmark</th>\n",
       "      <td>3</td>\n",
       "      <td>3</td>\n",
       "    </tr>\n",
       "  </tbody>\n",
       "</table>\n",
       "</div>"
      ],
      "text/plain": [
       "         category  count\n",
       "Country                 \n",
       "Austria         3      3\n",
       "Belgium         1      1\n",
       "Canada          5      5\n",
       "China           2      2\n",
       "Denmark         3      3"
      ]
     },
     "execution_count": 54,
     "metadata": {},
     "output_type": "execute_result"
    }
   ],
   "source": [
    "nobel_count.head()"
   ]
  },
  {
   "cell_type": "code",
   "execution_count": 58,
   "metadata": {},
   "outputs": [],
   "source": [
    "beer_nobel_count = pd.merge(beer_table, nobel_count['count'], on='Country', how='inner')"
   ]
  },
  {
   "cell_type": "code",
   "execution_count": 61,
   "metadata": {
    "scrolled": true
   },
   "outputs": [
    {
     "data": {
      "text/plain": [
       "<seaborn.axisgrid.FacetGrid at 0x7f2d0a8a8e80>"
      ]
     },
     "execution_count": 61,
     "metadata": {},
     "output_type": "execute_result"
    },
    {
     "data": {
      "image/png": "[encoded data removed]",
      "text/plain": [
       "<Figure size 360x360 with 1 Axes>"
      ]
     },
     "metadata": {
      "needs_background": "light"
     },
     "output_type": "display_data"
    }
   ],
   "source": [
    "seaborn.lmplot('Consumption', 'count', data=beer_nobel_count, fit_reg=True)"
   ]
  }
 ],
 "metadata": {
  "kernelspec": {
   "display_name": "Python 3",
   "language": "python",
   "name": "python3"
  },
  "language_info": {
   "codemirror_mode": {
    "name": "ipython",
    "version": 3
   },
   "file_extension": ".py",
   "mimetype": "text/x-python",
   "name": "python",
   "nbconvert_exporter": "python",
   "pygments_lexer": "ipython3",
   "version": "3.7.2"
  }
 },
 "nbformat": 4,
 "nbformat_minor": 2
}
