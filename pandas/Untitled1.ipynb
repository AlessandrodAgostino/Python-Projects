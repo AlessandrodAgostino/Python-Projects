{
 "cells": [
  {
   "cell_type": "code",
   "execution_count": 1,
   "metadata": {},
   "outputs": [],
   "source": [
    "import pandas as pd\n",
    "import re"
   ]
  },
  {
   "cell_type": "code",
   "execution_count": 2,
   "metadata": {},
   "outputs": [],
   "source": [
    "#Download the databases\n",
    "page_nobel = \"https://www.britannica.com/topic/Nobel-Prize-Winners-by-Year-1856946\"\n",
    "page_beer = \"https://en.wikipedia.org/wiki/List_of_countries_by_beer_consumption_per_capita\"\n",
    "page_ussr = \"https://en.wikipedia.org/wiki/Post-Soviet_states\"\n",
    "\n",
    "nobel_site_tables = pd.read_html(page_nobel)\n",
    "beer_site_tables = pd.read_html(page_beer)\n",
    "ussr_countries_tables = pd.read_html(page_ussr)"
   ]
  },
  {
   "cell_type": "markdown",
   "metadata": {},
   "source": [
    "## Handle U.S.S.R Countries"
   ]
  },
  {
   "cell_type": "code",
   "execution_count": null,
   "metadata": {},
   "outputs": [],
   "source": [
    "#Selecting the tab I need\n",
    "countries_in_ussr = ussr_countries_tables[0].loc[:,'Country']\n",
    "#Compiling the regex that extracts things before '(' '[' in the text\n",
    "before_parentesis = re.compile('([\\w\\s]*)[\\[\\(]?')\n",
    "countries_in_ussr = countries_in_ussr.str.extract(before_parentesis, expand=False).iloc[:-1]"
   ]
  },
  {
   "cell_type": "code",
   "execution_count": null,
   "metadata": {},
   "outputs": [],
   "source": []
  }
 ],
 "metadata": {
  "kernelspec": {
   "display_name": "Python 3",
   "language": "python",
   "name": "python3"
  },
  "language_info": {
   "codemirror_mode": {
    "name": "ipython",
    "version": 3
   },
   "file_extension": ".py",
   "mimetype": "text/x-python",
   "name": "python",
   "nbconvert_exporter": "python",
   "pygments_lexer": "ipython3",
   "version": "3.7.2"
  }
 },
 "nbformat": 4,
 "nbformat_minor": 2
}
