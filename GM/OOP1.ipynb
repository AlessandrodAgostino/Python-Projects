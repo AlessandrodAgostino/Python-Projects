{
 "cells": [
  {
   "cell_type": "markdown",
   "metadata": {},
   "source": [
    "# OOP1"
   ]
  },
  {
   "cell_type": "code",
   "execution_count": 9,
   "metadata": {},
   "outputs": [],
   "source": [
    "import pdir as dir"
   ]
  },
  {
   "cell_type": "code",
   "execution_count": 1,
   "metadata": {},
   "outputs": [],
   "source": [
    "class Empty:    \n",
    "    \"\"\"this class does not do anything.\n",
    "    \n",
    "    it's just a stub for explainations, and this is its docstring\"\"\""
   ]
  },
  {
   "cell_type": "code",
   "execution_count": 2,
   "metadata": {},
   "outputs": [],
   "source": [
    "some_object = Empty()"
   ]
  },
  {
   "cell_type": "code",
   "execution_count": 3,
   "metadata": {},
   "outputs": [
    {
     "data": {
      "text/plain": [
       "__main__.Empty"
      ]
     },
     "execution_count": 3,
     "metadata": {},
     "output_type": "execute_result"
    }
   ],
   "source": [
    "type(some_object)"
   ]
  },
  {
   "cell_type": "code",
   "execution_count": 4,
   "metadata": {},
   "outputs": [
    {
     "data": {
      "text/plain": [
       "True"
      ]
     },
     "execution_count": 4,
     "metadata": {},
     "output_type": "execute_result"
    }
   ],
   "source": [
    "isinstance(some_object, Empty)"
   ]
  },
  {
   "cell_type": "code",
   "execution_count": 5,
   "metadata": {},
   "outputs": [
    {
     "name": "stdout",
     "output_type": "stream",
     "text": [
      "Help on Empty in module __main__ object:\n",
      "\n",
      "class Empty(builtins.object)\n",
      " |  this class does not do anything.\n",
      " |  \n",
      " |  it's just a stub for explainations, and this is its docstring\n",
      " |  \n",
      " |  Data descriptors defined here:\n",
      " |  \n",
      " |  __dict__\n",
      " |      dictionary for instance variables (if defined)\n",
      " |  \n",
      " |  __weakref__\n",
      " |      list of weak references to the object (if defined)\n",
      "\n"
     ]
    }
   ],
   "source": [
    "help(some_object)"
   ]
  },
  {
   "cell_type": "code",
   "execution_count": 11,
   "metadata": {},
   "outputs": [
    {
     "data": {
      "text/plain": []
     },
     "execution_count": 11,
     "metadata": {},
     "output_type": "execute_result"
    }
   ],
   "source": [
    "dir(some_object).public\n",
    "#The object doesn't have any public attribute"
   ]
  },
  {
   "cell_type": "code",
   "execution_count": 12,
   "metadata": {},
   "outputs": [
    {
     "data": {
      "text/plain": [
       "2"
      ]
     },
     "execution_count": 12,
     "metadata": {},
     "output_type": "execute_result"
    }
   ],
   "source": [
    "class Empty:\n",
    "    pass\n",
    "\n",
    "namespace_0 = Empty()\n",
    "namespace_1 = Empty()\n",
    "# I can create a new attribute for an existing object, and it'll be public\n",
    "namespace_0.a = 2\n",
    "namespace_0.a"
   ]
  },
  {
   "cell_type": "code",
   "execution_count": 14,
   "metadata": {},
   "outputs": [
    {
     "ename": "AttributeError",
     "evalue": "'Empty' object has no attribute 'a'",
     "output_type": "error",
     "traceback": [
      "\u001b[0;31m---------------------------------------------------------------------------\u001b[0m",
      "\u001b[0;31mAttributeError\u001b[0m                            Traceback (most recent call last)",
      "\u001b[0;32m<ipython-input-14-95f6e2a68b6b>\u001b[0m in \u001b[0;36m<module>\u001b[0;34m\u001b[0m\n\u001b[1;32m      1\u001b[0m \u001b[0;31m#We can see that it wont be recognised in anther instance of the class\u001b[0m\u001b[0;34m\u001b[0m\u001b[0;34m\u001b[0m\u001b[0;34m\u001b[0m\u001b[0m\n\u001b[0;32m----> 2\u001b[0;31m \u001b[0mnamespace_1\u001b[0m\u001b[0;34m.\u001b[0m\u001b[0ma\u001b[0m\u001b[0;34m\u001b[0m\u001b[0;34m\u001b[0m\u001b[0m\n\u001b[0m",
      "\u001b[0;31mAttributeError\u001b[0m: 'Empty' object has no attribute 'a'"
     ]
    }
   ],
   "source": [
    "#We can see that it wont be recognised in anther instance of the class\n",
    "namespace_1.a"
   ]
  },
  {
   "cell_type": "code",
   "execution_count": 16,
   "metadata": {},
   "outputs": [
    {
     "data": {
      "text/plain": [
       "\u001b[0;35mproperty:\u001b[0m\n",
       "    \u001b[1;34ma\u001b[0m"
      ]
     },
     "execution_count": 16,
     "metadata": {},
     "output_type": "execute_result"
    }
   ],
   "source": [
    "#It is saved as a properties of the object\n",
    "dir(namespace_0).public.properties"
   ]
  },
  {
   "cell_type": "markdown",
   "metadata": {},
   "source": [
    "<span style=\"color:red\">\n",
    "    WHAT'S EXACTLY A NAMESPACE???\n",
    "</span>"
   ]
  },
  {
   "cell_type": "code",
   "execution_count": 30,
   "metadata": {},
   "outputs": [
    {
     "name": "stdout",
     "output_type": "stream",
     "text": [
      "<class '__main__.Empty'>\n"
     ]
    },
    {
     "data": {
      "text/plain": [
       "type"
      ]
     },
     "execution_count": 30,
     "metadata": {},
     "output_type": "execute_result"
    }
   ],
   "source": [
    "#That attrbiute contains the name of the class in a type \"type\"\n",
    "print(namespace_0.__class__)\n",
    "type(namespace_0.__class__)"
   ]
  },
  {
   "cell_type": "code",
   "execution_count": 19,
   "metadata": {
    "scrolled": true
   },
   "outputs": [
    {
     "data": {
      "text/plain": [
       "{'a': 2}"
      ]
     },
     "execution_count": 19,
     "metadata": {},
     "output_type": "execute_result"
    }
   ],
   "source": [
    "#It's been saved as a regular dictionary\n",
    "namespace_0.__dict__"
   ]
  },
  {
   "cell_type": "code",
   "execution_count": 20,
   "metadata": {},
   "outputs": [
    {
     "data": {
      "text/plain": [
       "{}"
      ]
     },
     "execution_count": 20,
     "metadata": {},
     "output_type": "execute_result"
    }
   ],
   "source": [
    "namespace_1.__dict__"
   ]
  },
  {
   "cell_type": "markdown",
   "metadata": {},
   "source": [
    "I can accede to an attrbiute using explicit methods instead of the \".\" operator.\n",
    "\n",
    "They all treat the attribute name as a string\n",
    "\n",
    "* getattr: retrieve the chosen attribute (given as a string)\n",
    "* setattr: set the given attribute\n",
    "* delattr: delete an attribute\n",
    "* hasattr: check if the object has the given attribute (employ getattr)\n"
   ]
  },
  {
   "cell_type": "code",
   "execution_count": 24,
   "metadata": {},
   "outputs": [
    {
     "name": "stdout",
     "output_type": "stream",
     "text": [
      "True\n"
     ]
    },
    {
     "data": {
      "text/plain": [
       "False"
      ]
     },
     "execution_count": 24,
     "metadata": {},
     "output_type": "execute_result"
    }
   ],
   "source": [
    "print(hasattr(namespace_0, 'a'))\n",
    "hasattr(namespace_1, 'a')"
   ]
  },
  {
   "cell_type": "code",
   "execution_count": 25,
   "metadata": {},
   "outputs": [
    {
     "data": {
      "text/plain": [
       "4"
      ]
     },
     "execution_count": 25,
     "metadata": {},
     "output_type": "execute_result"
    }
   ],
   "source": [
    "setattr(namespace_1, 'a', 4)\n",
    "getattr(namespace_1, 'a')"
   ]
  },
  {
   "cell_type": "code",
   "execution_count": 27,
   "metadata": {},
   "outputs": [
    {
     "data": {
      "text/plain": [
       "'default_value'"
      ]
     },
     "execution_count": 27,
     "metadata": {},
     "output_type": "execute_result"
    }
   ],
   "source": [
    "#I can also specify a default value to be returned\n",
    "getattr(namespace_1, 'b', 'default_value')"
   ]
  },
  {
   "cell_type": "markdown",
   "metadata": {},
   "source": [
    "One of the first powers of classes is the possibility to share some common attibutes, in this way all the *instances* of a class have access to the same information."
   ]
  },
  {
   "cell_type": "code",
   "execution_count": 31,
   "metadata": {},
   "outputs": [],
   "source": [
    "class Something:\n",
    "    b = 3\n",
    "\n",
    "namespace_0 = Something()\n",
    "namespace_1 = Something()"
   ]
  },
  {
   "cell_type": "markdown",
   "metadata": {},
   "source": [
    "We can see that those parameters do not dwell in the dictionary of any particular instance, but they are accessible."
   ]
  },
  {
   "cell_type": "code",
   "execution_count": 32,
   "metadata": {},
   "outputs": [
    {
     "data": {
      "text/plain": [
       "{}"
      ]
     },
     "execution_count": 32,
     "metadata": {},
     "output_type": "execute_result"
    }
   ],
   "source": [
    "namespace_0.__dict__"
   ]
  },
  {
   "cell_type": "code",
   "execution_count": 33,
   "metadata": {},
   "outputs": [
    {
     "data": {
      "text/plain": [
       "3"
      ]
     },
     "execution_count": 33,
     "metadata": {},
     "output_type": "execute_result"
    }
   ],
   "source": [
    "namespace_0.b"
   ]
  },
  {
   "cell_type": "markdown",
   "metadata": {},
   "source": [
    "Python decree the value to be returned using what it's called **MRO** (Method Resolution Order).\n",
    "\n",
    "When we ask for an attribute to an instance the following happen\n",
    "\n",
    "   1. if it does have it, it returns it\n",
    "   2. if it does not, it goes and ask to its class if it does have it.\n",
    "   3. if the class has it (or can obtain it), that is what gets returned\n",
    "   4. if the class does not have it, it tries dynamic generation (we'll see that later)\n",
    "   5. if that fails, it raises AttributeError\n",
    "\n",
    "That means that we can set an attribute on an *instance*, and this will **shadow** the same attribute derived from the *class*."
   ]
  },
  {
   "cell_type": "code",
   "execution_count": 34,
   "metadata": {},
   "outputs": [
    {
     "data": {
      "text/plain": [
       "\u001b[0;35mproperty:\u001b[0m\n",
       "    \u001b[1;34mb\u001b[0m"
      ]
     },
     "execution_count": 34,
     "metadata": {},
     "output_type": "execute_result"
    }
   ],
   "source": [
    "dir(Something).public"
   ]
  },
  {
   "cell_type": "code",
   "execution_count": 35,
   "metadata": {},
   "outputs": [
    {
     "data": {
      "text/plain": [
       "5"
      ]
     },
     "execution_count": 35,
     "metadata": {},
     "output_type": "execute_result"
    }
   ],
   "source": [
    "namespace_0.b = 5\n",
    "namespace_0.b"
   ]
  },
  {
   "cell_type": "code",
   "execution_count": 36,
   "metadata": {},
   "outputs": [
    {
     "data": {
      "text/plain": [
       "3"
      ]
     },
     "execution_count": 36,
     "metadata": {},
     "output_type": "execute_result"
    }
   ],
   "source": [
    "namespace_1.b"
   ]
  },
  {
   "cell_type": "markdown",
   "metadata": {},
   "source": [
    "Once I deleted the instance's attribute python go back returning the class attribute"
   ]
  },
  {
   "cell_type": "code",
   "execution_count": 37,
   "metadata": {},
   "outputs": [
    {
     "data": {
      "text/plain": [
       "3"
      ]
     },
     "execution_count": 37,
     "metadata": {},
     "output_type": "execute_result"
    }
   ],
   "source": [
    "del namespace_0.b\n",
    "namespace_0.b"
   ]
  },
  {
   "cell_type": "markdown",
   "metadata": {},
   "source": [
    "## Methods\n",
    "\n",
    "Methods ar function defined inside the body of a class. They're very similar to an attribute.\n",
    "\n",
    "It's a common trait to call the first argument `self`. It's used to call the object itself from inside the function. "
   ]
  },
  {
   "cell_type": "code",
   "execution_count": 38,
   "metadata": {},
   "outputs": [],
   "source": [
    "class Something:\n",
    "    a = 2\n",
    "    def multiply(self, b=2):\n",
    "        return self.a*b"
   ]
  },
  {
   "cell_type": "code",
   "execution_count": 40,
   "metadata": {},
   "outputs": [
    {
     "data": {
      "text/plain": [
       "<bound method Something.multiply of <__main__.Something object at 0x7ff32830f320>>"
      ]
     },
     "execution_count": 40,
     "metadata": {},
     "output_type": "execute_result"
    }
   ],
   "source": [
    "namespace_0 = Something()\n",
    "\n",
    "namespace_0.multiply\n",
    "#Note that this is not the call of the method, there are no parenthesis ()"
   ]
  },
  {
   "cell_type": "markdown",
   "metadata": {},
   "source": [
    "I don't need to specify the instance itself when passing the `self` parameter it is done automatically. Indeed this is called a **bound** method: the value of `a` is bound to be the value of `a` that is scherced starting from that particular instance itself."
   ]
  },
  {
   "cell_type": "code",
   "execution_count": 42,
   "metadata": {},
   "outputs": [
    {
     "data": {
      "text/plain": [
       "4"
      ]
     },
     "execution_count": 42,
     "metadata": {},
     "output_type": "execute_result"
    }
   ],
   "source": [
    "namespace_0.multiply()"
   ]
  },
  {
   "cell_type": "markdown",
   "metadata": {},
   "source": [
    "We can call the same function in an **unboounded** way: now on the parameter `a` refers to the instance `namespace_0`.\n",
    "When we do that we call the method refering directly to the *class*."
   ]
  },
  {
   "cell_type": "code",
   "execution_count": 43,
   "metadata": {},
   "outputs": [
    {
     "data": {
      "text/plain": [
       "6"
      ]
     },
     "execution_count": 43,
     "metadata": {},
     "output_type": "execute_result"
    }
   ],
   "source": [
    "Something.multiply(namespace_0, b=3)"
   ]
  },
  {
   "cell_type": "markdown",
   "metadata": {},
   "source": [
    "This is a powerful tool, because we are not bound to apply this function to an instance of the same class, we just need that it behaves in the same way for the required purposes."
   ]
  },
  {
   "cell_type": "code",
   "execution_count": 44,
   "metadata": {},
   "outputs": [
    {
     "data": {
      "text/plain": [
       "9"
      ]
     },
     "execution_count": 44,
     "metadata": {},
     "output_type": "execute_result"
    }
   ],
   "source": [
    "class Empty:\n",
    "    a = 3\n",
    "\n",
    "weird = Empty()\n",
    "\n",
    "Something.multiply(weird, b=3)"
   ]
  },
  {
   "cell_type": "markdown",
   "metadata": {},
   "source": [
    "Functions can be added as methods to a class in any moment.\n",
    "The personalization of instances and classes is alled **monkey patching**, and it's a useful yet dangerous technique.\n",
    "\n",
    "In order to patch a class we invoke it directly and we use the `.` operator."
   ]
  },
  {
   "cell_type": "code",
   "execution_count": 45,
   "metadata": {},
   "outputs": [
    {
     "data": {
      "text/plain": [
       "6"
      ]
     },
     "execution_count": 45,
     "metadata": {},
     "output_type": "execute_result"
    }
   ],
   "source": [
    "def triple_function(self):\n",
    "    return self.a*3\n",
    "\n",
    "#\n",
    "Something.triple = triple_function\n",
    "\n",
    "namespace_0 = Something()\n",
    "namespace_0.triple()"
   ]
  },
  {
   "cell_type": "markdown",
   "metadata": {},
   "source": [
    "You load them on an object in the same exact way you load a value on an attibute.\n",
    "\n",
    "Notice that the function `triple_funtion` requires as an argument just something that contains an attribute `a`, with absolutely no link to the other classes defined in the code."
   ]
  },
  {
   "cell_type": "code",
   "execution_count": 53,
   "metadata": {},
   "outputs": [
    {
     "data": {
      "text/plain": [
       "4"
      ]
     },
     "execution_count": 53,
     "metadata": {},
     "output_type": "execute_result"
    }
   ],
   "source": [
    "from types import MethodType\n",
    "\n",
    "def external_function(self):\n",
    "    return self.a*2\n",
    "\n",
    "namespace = Something()\n",
    "namespace.func = MethodType(external_function, namespace)\n",
    "namespace.func()"
   ]
  },
  {
   "cell_type": "markdown",
   "metadata": {},
   "source": [
    "On the other side if we want to patch a particular instance (that's a discouraged practise) we need to freeze the self argument in the method call using the `MethodType` method."
   ]
  },
  {
   "cell_type": "markdown",
   "metadata": {},
   "source": [
    "## Init Method"
   ]
  },
  {
   "cell_type": "markdown",
   "metadata": {},
   "source": [
    "The next step that we might take is to allow the class to \"personalize\" the instantiation process. This is done using the magic method \\_\\_init__."
   ]
  },
  {
   "cell_type": "code",
   "execution_count": 54,
   "metadata": {},
   "outputs": [
    {
     "data": {
      "text/plain": [
       "3"
      ]
     },
     "execution_count": 54,
     "metadata": {},
     "output_type": "execute_result"
    }
   ],
   "source": [
    "class Something:\n",
    "    def __init__(self, a):\n",
    "        self.a = a\n",
    "\n",
    "namespace = Something(a=3)\n",
    "namespace.a"
   ]
  },
  {
   "cell_type": "code",
   "execution_count": 55,
   "metadata": {},
   "outputs": [
    {
     "data": {
      "text/plain": [
       "\u001b[0;35mproperty:\u001b[0m\n",
       "    \u001b[1;34ma\u001b[0m"
      ]
     },
     "execution_count": 55,
     "metadata": {},
     "output_type": "execute_result"
    }
   ],
   "source": [
    "dir(namespace).public"
   ]
  },
  {
   "cell_type": "markdown",
   "metadata": {},
   "source": [
    "The \\_\\_init__ method can be automatically initialized using the `@dataclass` decorator:"
   ]
  },
  {
   "cell_type": "code",
   "execution_count": 56,
   "metadata": {},
   "outputs": [
    {
     "name": "stdout",
     "output_type": "stream",
     "text": [
      "120.0\n"
     ]
    }
   ],
   "source": [
    "from dataclasses import dataclass\n",
    "\n",
    "@dataclass\n",
    "class InventoryItem:\n",
    "    name: str\n",
    "    unit_price: float\n",
    "    quantity_on_hand: int = 0\n",
    "\n",
    "    def total_cost(self) -> float:\n",
    "        return self.unit_price * self.quantity_on_hand\n",
    "\n",
    "item = InventoryItem('hammers', 10.0, 12)\n",
    "print(item.total_cost())"
   ]
  },
  {
   "cell_type": "markdown",
   "metadata": {},
   "source": [
    "That code will generate the following constructor under the hood:"
   ]
  },
  {
   "cell_type": "markdown",
   "metadata": {},
   "source": [
    "<span style=\"color:green\">\n",
    "    HOW CAN I HIGHLIGHT IN GREEN THE WORD `self`\n",
    "</span>"
   ]
  },
  {
   "cell_type": "code",
   "execution_count": 58,
   "metadata": {},
   "outputs": [],
   "source": [
    "def __init__(self, name: str, unit_price: float, quantity_on_hand: int=0):\n",
    "    self.name = name\n",
    "    self.unit_price = unit_price\n",
    "    self.quantity_on_hand = quantity_on_hand"
   ]
  },
  {
   "cell_type": "markdown",
   "metadata": {},
   "source": [
    "# Magic Methods\n",
    "\n",
    "All the methods with a **dunder name**.\n",
    "\n",
    "Any kind of matematical operator is linked to a special method, and so are several special functions such as `len`.\n",
    "\n",
    "These methods are the python equivalent of operator overloading and are what allows more advanced forms of __polymorphism__.\n",
    "\n",
    "for example, the addition operator `+` is linked to the magic method \\_\\_add__, so if we want our class to be able to perform addition, they need to implement it.\n",
    "\n",
    "    my_object + something\n",
    "\n",
    "becomes:\n",
    "\n",
    "    my_object.__add__(something)\n",
    "\n"
   ]
  },
  {
   "cell_type": "markdown",
   "metadata": {},
   "source": [
    "<span style=\"color:red\">\n",
    "   It's not clear what the __class__ call does!\n",
    "</span>"
   ]
  },
  {
   "cell_type": "code",
   "execution_count": 63,
   "metadata": {},
   "outputs": [
    {
     "name": "stdout",
     "output_type": "stream",
     "text": [
      "3\n",
      "5\n"
     ]
    }
   ],
   "source": [
    "@dataclass\n",
    "class Something:\n",
    "    a: int\n",
    "        \n",
    "    def __add__(self, other):\n",
    "        return self.__class__(self.a+other)\n",
    "    \n",
    "namespace_0 = Something(a=3)\n",
    "print(namespace_0.a)\n",
    "\n",
    "\n",
    "namespace_1 = namespace_0 + 2\n",
    "print(namespace_1.a)"
   ]
  },
  {
   "cell_type": "markdown",
   "metadata": {},
   "source": [
    "Note that if we write in the other order, and the other object does not know how to handle the sum, it will crash with a `TypeError`.\n",
    "It's defined as an ordered operation."
   ]
  },
  {
   "cell_type": "code",
   "execution_count": 64,
   "metadata": {},
   "outputs": [
    {
     "ename": "TypeError",
     "evalue": "unsupported operand type(s) for +: 'int' and 'Something'",
     "output_type": "error",
     "traceback": [
      "\u001b[0;31m---------------------------------------------------------------------------\u001b[0m",
      "\u001b[0;31mTypeError\u001b[0m                                 Traceback (most recent call last)",
      "\u001b[0;32m<ipython-input-64-6ca245b48fe2>\u001b[0m in \u001b[0;36m<module>\u001b[0;34m\u001b[0m\n\u001b[0;32m----> 1\u001b[0;31m \u001b[0mnamespace_2\u001b[0m \u001b[0;34m=\u001b[0m \u001b[0;36m2\u001b[0m \u001b[0;34m+\u001b[0m \u001b[0mnamespace_0\u001b[0m\u001b[0;34m\u001b[0m\u001b[0;34m\u001b[0m\u001b[0m\n\u001b[0m",
      "\u001b[0;31mTypeError\u001b[0m: unsupported operand type(s) for +: 'int' and 'Something'"
     ]
    }
   ],
   "source": [
    "namespace_2 = 2 + namespace_0"
   ]
  },
  {
   "cell_type": "markdown",
   "metadata": {},
   "source": [
    "\n",
    "\n",
    "The solution is to add a second magic method, \\_\\_radd__, that is called if the first term does not know how to handle the given class.\n",
    "\n",
    "to signal that it does not know how to handle the sum, the first addendum should return `NotImplemented` (a singleton) instead of an actual result\n",
    "\n",
    "if the adding operation is symmetrical for the object (it doesn't have to be!) one cas avoid reimplementing the \\_\\_radd__ by simply saying:\n",
    "\n",
    "    __radd__ = __add__\n",
    "\n"
   ]
  },
  {
   "cell_type": "code",
   "execution_count": 66,
   "metadata": {},
   "outputs": [
    {
     "data": {
      "text/plain": [
       "5"
      ]
     },
     "execution_count": 66,
     "metadata": {},
     "output_type": "execute_result"
    }
   ],
   "source": [
    "@dataclass\n",
    "class Something:\n",
    "    a: int\n",
    "        \n",
    "    def __add__(self, other):\n",
    "        if not isinstance(other, int):\n",
    "            return NotImplemented\n",
    "        return self.__class__(self.a+other)\n",
    "    \n",
    "    __radd__ = __add__\n",
    "\n",
    "namespace_0 = Something(a=3)\n",
    "namespace_2 = 2 + namespace_0\n",
    "namespace_2.a"
   ]
  },
  {
   "cell_type": "markdown",
   "metadata": {},
   "source": [
    "# The `.` operator"
   ]
  },
  {
   "cell_type": "markdown",
   "metadata": {},
   "source": [
    "A lot of useful information I don't need now on the slides at:\n",
    "https://github.com/UniboDIFABiophysics/programmingCourseDIFA/blob/master/Lesson_10_object_oriented_programming_sklearn.ipynb ."
   ]
  },
  {
   "cell_type": "markdown",
   "metadata": {},
   "source": [
    "### Properties:\n",
    "\n",
    "Properties are a nice way to constrain the behaviour of the magic method and so the operators calls. They're also a smart way to make some typechecking and personalizations.\n",
    "##### I should understand it in a better way"
   ]
  },
  {
   "cell_type": "code",
   "execution_count": 67,
   "metadata": {},
   "outputs": [
    {
     "data": {
      "text/plain": [
       "'Enrico'"
      ]
     },
     "execution_count": 67,
     "metadata": {},
     "output_type": "execute_result"
    }
   ],
   "source": [
    "class Something:\n",
    "    @property\n",
    "    def name(self):\n",
    "        return self._name\n",
    "    \n",
    "    @name.setter\n",
    "    def name(self, value):\n",
    "        self._name = value.title()\n",
    "        \n",
    "\n",
    "namespace = Something()\n",
    "namespace.name = \"eNRICO\"\n",
    "namespace.name"
   ]
  },
  {
   "cell_type": "code",
   "execution_count": null,
   "metadata": {},
   "outputs": [],
   "source": []
  }
 ],
 "metadata": {
  "kernelspec": {
   "display_name": "Python 3",
   "language": "python",
   "name": "python3"
  },
  "language_info": {
   "codemirror_mode": {
    "name": "ipython",
    "version": 3
   },
   "file_extension": ".py",
   "mimetype": "text/x-python",
   "name": "python",
   "nbconvert_exporter": "python",
   "pygments_lexer": "ipython3",
   "version": "3.7.2"
  }
 },
 "nbformat": 4,
 "nbformat_minor": 2
}
