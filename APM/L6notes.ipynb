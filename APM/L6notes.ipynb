{
 "cells": [
  {
   "cell_type": "markdown",
   "metadata": {
    "slideshow": {
     "slide_type": "slide"
    }
   },
   "source": [
    "# Functional programming\n",
    "\n",
    "## part 2 - iterators"
   ]
  },
  {
   "cell_type": "markdown",
   "metadata": {
    "slideshow": {
     "slide_type": "slide"
    }
   },
   "source": [
    "# Iterators\n",
    "\n",
    "The framework of functions as first class citizens already gives us a lot of power, but we also need something to apply those function on.\n",
    "\n",
    "The most common application of functional programming is sequence manipulation.\n",
    "In particular, these sequences are represented by **iterators**.\n",
    "\n",
    "Iterators are something that can be iterated over, i.e. can run a for loop over."
   ]
  },
  {
   "cell_type": "markdown",
   "metadata": {
    "slideshow": {
     "slide_type": "slide"
    }
   },
   "source": [
    "The two biggest defining characteristic of iterators are that they are:\n",
    "* lazy\n",
    "* irreversible\n",
    "\n",
    "this means that they don't return any values until they are explicitely demanded to do to, and once they returned that value, they don't keep any track of it.\n",
    "This means that they will only be able to be iterated over once."
   ]
  },
  {
   "cell_type": "markdown",
   "metadata": {
    "slideshow": {
     "slide_type": "slide"
    }
   },
   "source": [
    "this seems counterintuitive: I can iterate on a list how many times I want!"
   ]
  },
  {
   "cell_type": "code",
   "execution_count": 136,
   "metadata": {
    "slideshow": {
     "slide_type": "slide"
    }
   },
   "outputs": [
    {
     "name": "stdout",
     "output_type": "stream",
     "text": [
      "--- first iteration ---\n",
      "1\n",
      "2\n",
      "--- second iteration ---\n",
      "1\n",
      "2\n"
     ]
    }
   ],
   "source": [
    "my_list = [1, 2]\n",
    "print(\"--- first iteration ---\")\n",
    "for element in my_list:\n",
    "    print(element)\n",
    "print(\"--- second iteration ---\")\n",
    "for element in my_list:\n",
    "    print(element)"
   ]
  },
  {
   "cell_type": "markdown",
   "metadata": {
    "slideshow": {
     "slide_type": "slide"
    }
   },
   "source": [
    "what is happening is that python does not actually iterate of the list!\n",
    "\n",
    "Everytime you put the list in a for loop, python generates an iterator for the list, loops over it and discard it.\n",
    "\n",
    "we can explicitely do the generation ourselves using the `iter` function"
   ]
  },
  {
   "cell_type": "code",
   "execution_count": 137,
   "metadata": {
    "slideshow": {
     "slide_type": "slide"
    }
   },
   "outputs": [
    {
     "name": "stdout",
     "output_type": "stream",
     "text": [
      "--- first iteration ---\n",
      "1\n",
      "2\n",
      "--- second iteration ---\n"
     ]
    }
   ],
   "source": [
    "my_list = [1, 2]\n",
    "my_list_iterator = iter(my_list)\n",
    "\n",
    "print(\"--- first iteration ---\")\n",
    "for element in my_list_iterator:\n",
    "    print(element)\n",
    "print(\"--- second iteration ---\")\n",
    "for element in my_list_iterator:\n",
    "    print(element)"
   ]
  },
  {
   "cell_type": "markdown",
   "metadata": {
    "slideshow": {
     "slide_type": "slide"
    }
   },
   "source": [
    "this is the default behavior for files, for example: once you iterate over them, you have to reset them or they will not iterate anymore!\n",
    "\n",
    "to reset it we can use the `file.seek(0)` function.\n",
    "\n",
    "but file-reading is an exception, resetting the sequence is normally not possible or desirable"
   ]
  },
  {
   "cell_type": "code",
   "execution_count": 146,
   "metadata": {
    "slideshow": {
     "slide_type": "slide"
    }
   },
   "outputs": [
    {
     "name": "stdout",
     "output_type": "stream",
     "text": [
      "Overwriting temp.txt\n"
     ]
    }
   ],
   "source": [
    "%%file temp.txt\n",
    "tuna\n",
    "mayo\n",
    "bread"
   ]
  },
  {
   "cell_type": "code",
   "execution_count": 147,
   "metadata": {
    "slideshow": {
     "slide_type": "slide"
    }
   },
   "outputs": [
    {
     "name": "stdout",
     "output_type": "stream",
     "text": [
      "tuna\n",
      "mayo\n",
      "bread\n",
      "--------------------\n"
     ]
    }
   ],
   "source": [
    "with open(\"temp.txt\") as infile:\n",
    "    for line in infile:\n",
    "        print(line.strip())\n",
    "    print('-'*20)\n",
    "    for line in infile:\n",
    "        print(line.strip())"
   ]
  },
  {
   "cell_type": "code",
   "execution_count": 148,
   "metadata": {
    "slideshow": {
     "slide_type": "slide"
    }
   },
   "outputs": [
    {
     "name": "stdout",
     "output_type": "stream",
     "text": [
      "tuna\n",
      "mayo\n",
      "bread\n",
      "--------------------\n",
      "tuna\n",
      "mayo\n",
      "bread\n"
     ]
    }
   ],
   "source": [
    "with open(\"temp.txt\") as infile:\n",
    "    for line in infile:\n",
    "        print(line.strip())\n",
    "    print('-'*20)\n",
    "    infile.seek(0)\n",
    "    for line in infile:\n",
    "        print(line.strip())"
   ]
  },
  {
   "cell_type": "markdown",
   "metadata": {
    "slideshow": {
     "slide_type": "slide"
    }
   },
   "source": [
    "we can control the advancement of our iterator by using the function `next`"
   ]
  },
  {
   "cell_type": "code",
   "execution_count": 151,
   "metadata": {
    "slideshow": {
     "slide_type": "slide"
    }
   },
   "outputs": [],
   "source": [
    "my_list = [1, 2]\n",
    "my_list_iterator = iter(my_list)"
   ]
  },
  {
   "cell_type": "code",
   "execution_count": 152,
   "metadata": {
    "slideshow": {
     "slide_type": "fragment"
    }
   },
   "outputs": [
    {
     "data": {
      "text/plain": [
       "1"
      ]
     },
     "execution_count": 152,
     "metadata": {},
     "output_type": "execute_result"
    }
   ],
   "source": [
    "next(my_list_iterator)"
   ]
  },
  {
   "cell_type": "code",
   "execution_count": 153,
   "metadata": {
    "slideshow": {
     "slide_type": "fragment"
    }
   },
   "outputs": [
    {
     "data": {
      "text/plain": [
       "2"
      ]
     },
     "execution_count": 153,
     "metadata": {},
     "output_type": "execute_result"
    }
   ],
   "source": [
    "next(my_list_iterator)"
   ]
  },
  {
   "cell_type": "code",
   "execution_count": 154,
   "metadata": {
    "slideshow": {
     "slide_type": "fragment"
    }
   },
   "outputs": [
    {
     "ename": "StopIteration",
     "evalue": "",
     "output_type": "error",
     "traceback": [
      "\u001b[0;31m---------------------------------------------------------------------------\u001b[0m",
      "\u001b[0;31mStopIteration\u001b[0m                             Traceback (most recent call last)",
      "\u001b[0;32m<ipython-input-154-19e354f49d7b>\u001b[0m in \u001b[0;36m<module>\u001b[0;34m\u001b[0m\n\u001b[0;32m----> 1\u001b[0;31m \u001b[0mnext\u001b[0m\u001b[0;34m(\u001b[0m\u001b[0mmy_list_iterator\u001b[0m\u001b[0;34m)\u001b[0m\u001b[0;34m\u001b[0m\u001b[0;34m\u001b[0m\u001b[0m\n\u001b[0m",
      "\u001b[0;31mStopIteration\u001b[0m: "
     ]
    }
   ],
   "source": [
    "next(my_list_iterator)"
   ]
  },
  {
   "cell_type": "markdown",
   "metadata": {
    "slideshow": {
     "slide_type": "slide"
    }
   },
   "source": [
    "The `StopIteration` is the signal that the iteration is ended.\n",
    "We could in theory implement an artigianal version of the for loop using an infinite while cycle:"
   ]
  },
  {
   "cell_type": "code",
   "execution_count": 157,
   "metadata": {
    "slideshow": {
     "slide_type": "slide"
    }
   },
   "outputs": [
    {
     "name": "stdout",
     "output_type": "stream",
     "text": [
      "1\n",
      "2\n",
      "3\n"
     ]
    }
   ],
   "source": [
    "mylist = [1, 2, 3]\n",
    "for element in mylist:\n",
    "    print(element)"
   ]
  },
  {
   "cell_type": "code",
   "execution_count": 158,
   "metadata": {
    "slideshow": {
     "slide_type": "slide"
    }
   },
   "outputs": [
    {
     "name": "stdout",
     "output_type": "stream",
     "text": [
      "1\n",
      "2\n",
      "3\n"
     ]
    }
   ],
   "source": [
    "iterator = iter(mylist)\n",
    "while True:\n",
    "    try:\n",
    "        element = next(iterator)\n",
    "        print(element)\n",
    "    except StopIteration:\n",
    "        break"
   ]
  },
  {
   "cell_type": "markdown",
   "metadata": {
    "slideshow": {
     "slide_type": "slide"
    }
   },
   "source": [
    "the `next` method also have a possible default to be returned if the sequence is terminated"
   ]
  },
  {
   "cell_type": "code",
   "execution_count": 17,
   "metadata": {
    "slideshow": {
     "slide_type": "fragment"
    }
   },
   "outputs": [
    {
     "data": {
      "text/plain": [
       "'end of iteration'"
      ]
     },
     "execution_count": 17,
     "metadata": {},
     "output_type": "execute_result"
    }
   ],
   "source": [
    "my_list = [1, 2]\n",
    "my_list_iterator = iter(my_list)\n",
    "assert next(my_list_iterator)==1\n",
    "assert next(my_list_iterator)==2\n",
    "next(my_list_iterator, \"end of iteration\")"
   ]
  },
  {
   "cell_type": "markdown",
   "metadata": {
    "slideshow": {
     "slide_type": "slide"
    }
   },
   "source": [
    "Of course this is not a very efficient way of doing it, but it helps to clarify what is going on under the hood.\n",
    "\n",
    "The most important property of the iterators is that, by combining lazyness and irreversibility, they can potentially represent huge sequences (or even infinite) without any issues.\n",
    "\n",
    "After all, unless you ask to see all the elements, but only some of them, the iterator is not going to be fazed by it.\n",
    "\n",
    "This is not hypotetical: in the **itertools** library there is a function `count` that literally counts from 0 to infinity!"
   ]
  },
  {
   "cell_type": "markdown",
   "metadata": {
    "slideshow": {
     "slide_type": "slide"
    }
   },
   "source": [
    "One of the most common iterators that we used is the `range` function, as well as the `enumerate` one.\n",
    "\n",
    "In particular `enumerate` is a function that takes an iterator as input and returns anoter iterator as output.\n",
    "\n",
    "This is very similar to what we seen when we discussed function manipulation.\n",
    "\n",
    "The python structure to implement this function while maintaing the lazy and lightweight nature of the iterators are the **generators**"
   ]
  },
  {
   "cell_type": "markdown",
   "metadata": {
    "slideshow": {
     "slide_type": "slide"
    }
   },
   "source": [
    "## Generators\n",
    "\n",
    "Generators are special function that allow to perform lazy iteration\n",
    "\n",
    "when called they create a **generator object**, but do not execute anything (more or less, see later).\n",
    "\n",
    "the proper execution starts when one iterates over them.\n",
    "\n",
    "for each call to `next` done to them they return one value, pause their execution and wait to be called again.\n",
    "\n",
    "In a way they are half-way between a function and an object"
   ]
  },
  {
   "cell_type": "markdown",
   "metadata": {
    "slideshow": {
     "slide_type": "slide"
    }
   },
   "source": [
    "for more in-detail information, read: https://www.dabeaz.com/generators/"
   ]
  },
  {
   "cell_type": "markdown",
   "metadata": {
    "slideshow": {
     "slide_type": "slide"
    }
   },
   "source": [
    "The only difference between a generator and a normal function is the usage of `yield` instead of `return` to give back the result of the function.\n",
    "\n",
    "using `return` inside a generator is possible but nothing will happen and will break the flow.\n",
    "Just don't do it."
   ]
  },
  {
   "cell_type": "code",
   "execution_count": 50,
   "metadata": {
    "slideshow": {
     "slide_type": "slide"
    }
   },
   "outputs": [
    {
     "name": "stdout",
     "output_type": "stream",
     "text": [
      "1\n",
      "4\n",
      "9\n"
     ]
    }
   ],
   "source": [
    "def my_generator():\n",
    "    yield 1\n",
    "    yield 4\n",
    "    yield 9\n",
    "    \n",
    "for i in my_generator():\n",
    "    print(i)"
   ]
  },
  {
   "cell_type": "code",
   "execution_count": 51,
   "metadata": {
    "slideshow": {
     "slide_type": "slide"
    }
   },
   "outputs": [
    {
     "name": "stdout",
     "output_type": "stream",
     "text": [
      "1\n",
      "4\n",
      "9\n"
     ]
    }
   ],
   "source": [
    "iterable = my_generator()\n",
    "print(next(iterable))\n",
    "print(next(iterable))\n",
    "print(next(iterable))"
   ]
  },
  {
   "cell_type": "code",
   "execution_count": 18,
   "metadata": {
    "slideshow": {
     "slide_type": "slide"
    }
   },
   "outputs": [],
   "source": [
    "# they don't execute until iterated over!\n",
    "def my_generator():\n",
    "    print(\"prepare the state. this does not execute until the first `next`\")\n",
    "    yield 1\n",
    "    yield 4\n",
    "    yield 9\n",
    "    \n",
    "gen = my_generator()"
   ]
  },
  {
   "cell_type": "code",
   "execution_count": 56,
   "metadata": {
    "slideshow": {
     "slide_type": "fragment"
    }
   },
   "outputs": [
    {
     "name": "stdout",
     "output_type": "stream",
     "text": [
      "prepare the state. this does not execute until the first `next`\n"
     ]
    },
    {
     "data": {
      "text/plain": [
       "1"
      ]
     },
     "execution_count": 56,
     "metadata": {},
     "output_type": "execute_result"
    }
   ],
   "source": [
    "next(gen)"
   ]
  },
  {
   "cell_type": "markdown",
   "metadata": {
    "slideshow": {
     "slide_type": "slide"
    }
   },
   "source": [
    "There are two main uses for generators:\n",
    "* generate a new sequence of data from a starting value (for example iterating all the numbers up to a value in `range`)\n",
    "* take a sequence and generate a new one performing some operation on it (for example adding an index such as `enumerate`)"
   ]
  },
  {
   "cell_type": "code",
   "execution_count": 49,
   "metadata": {
    "slideshow": {
     "slide_type": "slide"
    }
   },
   "outputs": [
    {
     "data": {
      "text/plain": [
       "[1, 1, 2, 3, 5, 8, 13, 21]"
      ]
     },
     "execution_count": 49,
     "metadata": {},
     "output_type": "execute_result"
    }
   ],
   "source": [
    "# generate an infinite sequence\n",
    "def fibonacci():\n",
    "    a, b = 1, 1\n",
    "    while True:\n",
    "        yield a\n",
    "        a, b = b, a+b\n",
    "        \n",
    "sequence = fibonacci()\n",
    "numbers = [next(sequence) for i in range(8)]\n",
    "numbers"
   ]
  },
  {
   "cell_type": "code",
   "execution_count": 3,
   "metadata": {
    "slideshow": {
     "slide_type": "slide"
    }
   },
   "outputs": [
    {
     "data": {
      "text/plain": [
       "[1, 4, 9, 16]"
      ]
     },
     "execution_count": 3,
     "metadata": {},
     "output_type": "execute_result"
    }
   ],
   "source": [
    "# modify an existing sequence\n",
    "def square(sequence):\n",
    "    for element in sequence:\n",
    "        yield element**2\n",
    "        \n",
    "data = [1, 2, 3, 4]\n",
    "list(square(data))"
   ]
  },
  {
   "cell_type": "markdown",
   "metadata": {
    "slideshow": {
     "slide_type": "slide"
    }
   },
   "source": [
    "### `yield from` - concatenating generators"
   ]
  },
  {
   "cell_type": "code",
   "execution_count": 1,
   "metadata": {
    "slideshow": {
     "slide_type": "slide"
    }
   },
   "outputs": [
    {
     "data": {
      "text/plain": [
       "[1, 2, 3, 4, 5, 6]"
      ]
     },
     "execution_count": 1,
     "metadata": {},
     "output_type": "execute_result"
    }
   ],
   "source": [
    "def _cat(seq_1, seq_2):\n",
    "    for element in seq_1:\n",
    "        yield element\n",
    "    for element in seq_2:\n",
    "        yield element\n",
    "\n",
    "def cat(seq_1, seq_2):\n",
    "    yield from seq_1\n",
    "    yield from seq_2\n",
    "    \n",
    "data_1 = [1, 2, 3]\n",
    "data_2 = [4, 5, 6]\n",
    "list(cat(data_1, data_2))"
   ]
  },
  {
   "cell_type": "code",
   "execution_count": 21,
   "metadata": {
    "slideshow": {
     "slide_type": "slide"
    }
   },
   "outputs": [
    {
     "data": {
      "text/plain": [
       "[1, 2, 3, 4, 5, 6]"
      ]
     },
     "execution_count": 21,
     "metadata": {},
     "output_type": "execute_result"
    }
   ],
   "source": [
    "def cat(*sequences):\n",
    "    for sequence in sequences:\n",
    "        yield from sequence\n",
    "        \n",
    "data_1 = [1, 2, 3]\n",
    "data_2 = [4, 5, 6]\n",
    "list(cat(data_1, data_2))"
   ]
  },
  {
   "cell_type": "markdown",
   "metadata": {
    "slideshow": {
     "slide_type": "slide"
    }
   },
   "source": [
    "### generator comprehension"
   ]
  },
  {
   "cell_type": "code",
   "execution_count": 12,
   "metadata": {
    "slideshow": {
     "slide_type": "slide"
    }
   },
   "outputs": [
    {
     "name": "stdout",
     "output_type": "stream",
     "text": [
      "<generator object <genexpr> at 0x7fbd1c1c8678>\n"
     ]
    }
   ],
   "source": [
    "data = (x**2 for x in [1, 2, 3])\n",
    "print(data)"
   ]
  },
  {
   "cell_type": "code",
   "execution_count": 13,
   "metadata": {
    "slideshow": {
     "slide_type": "fragment"
    }
   },
   "outputs": [
    {
     "data": {
      "text/plain": [
       "[1, 4, 9]"
      ]
     },
     "execution_count": 13,
     "metadata": {},
     "output_type": "execute_result"
    }
   ],
   "source": [
    "list(data)"
   ]
  },
  {
   "cell_type": "markdown",
   "metadata": {
    "slideshow": {
     "slide_type": "slide"
    }
   },
   "source": [
    "as a matter of facts, list, dict and set coprehensions can be seen as a particular case of generator comprehension that also concretize the generator in a data structure!"
   ]
  },
  {
   "cell_type": "markdown",
   "metadata": {
    "slideshow": {
     "slide_type": "slide"
    }
   },
   "source": [
    "#### the advantage of lazy evaluation\n",
    "\n",
    "one does not need to evaluate all the results of a computation, but only the one they need.\n",
    "This can be important when calculating the items is expensive.\n",
    "\n",
    "consider this kind of code:\n",
    "```python\n",
    "any([item.is_positive() for item in collection])\n",
    "```\n",
    "\n",
    "this will estimate the `is_positive` function for all the items in the collection, even if our function only need to find one positive result to return.\n",
    "All the other values after that are useless!\n",
    "\n",
    "using a generator expression we can avoid all the function call after the first positive result...and it's also shorter!\n",
    "\n",
    "```python\n",
    "any(item.is_positive() for item in collection)\n",
    "```"
   ]
  },
  {
   "cell_type": "markdown",
   "metadata": {
    "slideshow": {
     "slide_type": "slide"
    }
   },
   "source": [
    "### side note - generators and context managers\n",
    "\n",
    "generators are a very useful tool to generate context managers, using the `contextmanager` decorator from the `contextlib` module.\n",
    "\n",
    "This decorator takes a generator as an input and returns a context manager as an output"
   ]
  },
  {
   "cell_type": "code",
   "execution_count": 23,
   "metadata": {
    "slideshow": {
     "slide_type": "slide"
    }
   },
   "outputs": [
    {
     "name": "stdout",
     "output_type": "stream",
     "text": [
      "hello Franco, entering the manager\n",
      "I'm inside the manager\n",
      "hello Franco, exiting the manager\n"
     ]
    }
   ],
   "source": [
    "from contextlib import contextmanager\n",
    "\n",
    "@contextmanager\n",
    "def test_manager(name):\n",
    "    print(f\"hello {name}, entering the manager\")\n",
    "    yield\n",
    "    print(f\"hello {name}, exiting the manager\")\n",
    "    \n",
    "with test_manager(\"Franco\"):\n",
    "    print(\"I'm inside the manager\")"
   ]
  },
  {
   "cell_type": "markdown",
   "metadata": {
    "slideshow": {
     "slide_type": "slide"
    }
   },
   "source": [
    "context managers are an extremely common structure in programming.\n",
    "They are useful any time one has to guarantee that something will happen before and after a piece of code.\n",
    "This is typical of:\n",
    "\n",
    "* change the status of the program and then revert it back\n",
    "* get a resource, do something with it and then release it (locks in parallel programming)"
   ]
  },
  {
   "cell_type": "code",
   "execution_count": null,
   "metadata": {
    "slideshow": {
     "slide_type": "slide"
    }
   },
   "outputs": [],
   "source": [
    "@contextmanager\n",
    "def duration():\n",
    "    from datetime import datetime\n",
    "    import logging\n",
    "    start = datetime.now()\n",
    "    try:\n",
    "        yield\n",
    "    finally:\n",
    "        end = datetime.now()\n",
    "        logging.warning(end-start)"
   ]
  },
  {
   "cell_type": "code",
   "execution_count": 27,
   "metadata": {
    "slideshow": {
     "slide_type": "fragment"
    }
   },
   "outputs": [
    {
     "name": "stderr",
     "output_type": "stream",
     "text": [
      "WARNING:root:0:00:00.500756\n"
     ]
    }
   ],
   "source": [
    "with duration():\n",
    "    import time\n",
    "    time.sleep(0.5)\n",
    "    a = [i for i in range(1000)]"
   ]
  },
  {
   "cell_type": "code",
   "execution_count": null,
   "metadata": {
    "slideshow": {
     "slide_type": "slide"
    }
   },
   "outputs": [],
   "source": [
    "@contextmanager\n",
    "def print_as_log():\n",
    "    import logging\n",
    "    _old_print = print\n",
    "    globals()['print'] = logging.warning\n",
    "    try:\n",
    "        yield\n",
    "    finally:\n",
    "        globals()['print'] = _old_print"
   ]
  },
  {
   "cell_type": "code",
   "execution_count": 28,
   "metadata": {
    "slideshow": {
     "slide_type": "fragment"
    }
   },
   "outputs": [
    {
     "name": "stderr",
     "output_type": "stream",
     "text": [
      "WARNING:root:ciao mondo!\n"
     ]
    }
   ],
   "source": [
    "with print_as_log():\n",
    "    print(\"ciao mondo!\")"
   ]
  },
  {
   "cell_type": "code",
   "execution_count": null,
   "metadata": {
    "slideshow": {
     "slide_type": "slide"
    }
   },
   "outputs": [],
   "source": [
    "@contextmanager\n",
    "def get_sorted_list():\n",
    "    result = []\n",
    "    yield result\n",
    "    result.sort()"
   ]
  },
  {
   "cell_type": "code",
   "execution_count": 29,
   "metadata": {
    "slideshow": {
     "slide_type": "fragment"
    }
   },
   "outputs": [
    {
     "name": "stdout",
     "output_type": "stream",
     "text": [
      "[1, 3]\n"
     ]
    }
   ],
   "source": [
    "with get_sorted_list() as mylist:\n",
    "    mylist.append(3)\n",
    "    mylist.append(1)\n",
    "    \n",
    "print(mylist)"
   ]
  },
  {
   "cell_type": "code",
   "execution_count": null,
   "metadata": {
    "slideshow": {
     "slide_type": "slide"
    }
   },
   "outputs": [],
   "source": [
    "@contextmanager\n",
    "def ignore_exceptions(*exception_classes):\n",
    "    try:\n",
    "        yield\n",
    "    except exception_classes:\n",
    "        pass\n",
    "    "
   ]
  },
  {
   "cell_type": "code",
   "execution_count": 37,
   "metadata": {
    "slideshow": {
     "slide_type": "slide"
    }
   },
   "outputs": [],
   "source": [
    "with ignore_exceptions(IndexError, ValueError):\n",
    "    a = [1, 2]\n",
    "    a[4]"
   ]
  },
  {
   "cell_type": "code",
   "execution_count": 38,
   "metadata": {
    "slideshow": {
     "slide_type": "fragment"
    }
   },
   "outputs": [
    {
     "ename": "TypeError",
     "evalue": "unsupported operand type(s) for +: 'int' and 'str'",
     "output_type": "error",
     "traceback": [
      "\u001b[0;31m---------------------------------------------------------------------------\u001b[0m",
      "\u001b[0;31mTypeError\u001b[0m                                 Traceback (most recent call last)",
      "\u001b[0;32m<ipython-input-38-792d97826bdf>\u001b[0m in \u001b[0;36m<module>\u001b[0;34m\u001b[0m\n\u001b[1;32m      1\u001b[0m \u001b[0;32mwith\u001b[0m \u001b[0mignore_exceptions\u001b[0m\u001b[0;34m(\u001b[0m\u001b[0mIndexError\u001b[0m\u001b[0;34m)\u001b[0m\u001b[0;34m:\u001b[0m\u001b[0;34m\u001b[0m\u001b[0;34m\u001b[0m\u001b[0m\n\u001b[0;32m----> 2\u001b[0;31m     \u001b[0ma\u001b[0m \u001b[0;34m=\u001b[0m \u001b[0;36m1\u001b[0m \u001b[0;34m+\u001b[0m \u001b[0;34m\"2\"\u001b[0m\u001b[0;34m\u001b[0m\u001b[0;34m\u001b[0m\u001b[0m\n\u001b[0m\u001b[1;32m      3\u001b[0m \u001b[0;34m\u001b[0m\u001b[0m\n",
      "\u001b[0;31mTypeError\u001b[0m: unsupported operand type(s) for +: 'int' and 'str'"
     ]
    }
   ],
   "source": [
    "with ignore_exceptions(IndexError):\n",
    "    a = 1 + \"2\""
   ]
  },
  {
   "cell_type": "code",
   "execution_count": 39,
   "metadata": {
    "slideshow": {
     "slide_type": "fragment"
    }
   },
   "outputs": [],
   "source": [
    "with ignore_exceptions(IndexError, TypeError):\n",
    "    a = 1 + \"2\""
   ]
  },
  {
   "cell_type": "markdown",
   "metadata": {
    "collapsed": true,
    "slideshow": {
     "slide_type": "slide"
    }
   },
   "source": [
    "## Map\n",
    "\n",
    "A very common operation on sequences is the **mapping** operation, that consist in applying a function to all the elements of an iterable and returning them one at the time"
   ]
  },
  {
   "cell_type": "markdown",
   "metadata": {
    "collapsed": true,
    "slideshow": {
     "slide_type": "slide"
    }
   },
   "source": [
    "For example, I might want to obtain the square of every number in a sequence"
   ]
  },
  {
   "cell_type": "code",
   "execution_count": 180,
   "metadata": {
    "slideshow": {
     "slide_type": "fragment"
    }
   },
   "outputs": [
    {
     "name": "stdout",
     "output_type": "stream",
     "text": [
      "[0, 1, 4, 9, 16, 25, 36]\n"
     ]
    }
   ],
   "source": [
    "numbers = [0, 1, 2, 3, 4, 5, 6]\n",
    "squares = []\n",
    "for number in numbers:\n",
    "    square = number **2\n",
    "    squares.append(square)\n",
    "    \n",
    "print(squares)"
   ]
  },
  {
   "cell_type": "markdown",
   "metadata": {
    "slideshow": {
     "slide_type": "slide"
    }
   },
   "source": [
    "This can be written in a shorter and more readable way using a *generator comprehension*, that is has the same behavior as the code above."
   ]
  },
  {
   "cell_type": "code",
   "execution_count": 27,
   "metadata": {
    "slideshow": {
     "slide_type": "fragment"
    }
   },
   "outputs": [
    {
     "name": "stdout",
     "output_type": "stream",
     "text": [
      "[0, 1, 4, 9, 16, 25, 36]\n"
     ]
    }
   ],
   "source": [
    "numbers = [0, 1, 2, 3, 4, 5, 6]\n",
    "squares = (x**2 for x in numbers)\n",
    "print(list(squares))"
   ]
  },
  {
   "cell_type": "markdown",
   "metadata": {
    "slideshow": {
     "slide_type": "slide"
    }
   },
   "source": [
    "The concept of **map** is an abstraction of this idea.\n",
    "\n",
    "Python provide a function, called `map`, that takes a function and an iterator and returns a new iterator that have as elements the function applied to each element of the original sequence"
   ]
  },
  {
   "cell_type": "code",
   "execution_count": 185,
   "metadata": {
    "slideshow": {
     "slide_type": "fragment"
    }
   },
   "outputs": [
    {
     "name": "stdout",
     "output_type": "stream",
     "text": [
      "<map object at 0x7fbd0e6e6e80>\n"
     ]
    }
   ],
   "source": [
    "def square(n):\n",
    "    return n**2\n",
    "\n",
    "numbers = [0, 1, 2, 3, 4, 5, 6]\n",
    "squares = map(square, numbers)\n",
    "print(squares)"
   ]
  },
  {
   "cell_type": "markdown",
   "metadata": {
    "slideshow": {
     "slide_type": "slide"
    }
   },
   "source": [
    "We have to remember that the result is an iterator, and as such, we don't obtain any result until we explicitely ask for them\n",
    "\n",
    "If we want to see the results we can concretize them in a container such as `list`"
   ]
  },
  {
   "cell_type": "code",
   "execution_count": 186,
   "metadata": {
    "slideshow": {
     "slide_type": "fragment"
    }
   },
   "outputs": [
    {
     "data": {
      "text/plain": [
       "[0, 1, 4, 9, 16, 25, 36]"
      ]
     },
     "execution_count": 186,
     "metadata": {},
     "output_type": "execute_result"
    }
   ],
   "source": [
    "list(squares)"
   ]
  },
  {
   "cell_type": "markdown",
   "metadata": {
    "slideshow": {
     "slide_type": "slide"
    }
   },
   "source": [
    "We should also remember that iterators are irreversible, so we can only iterate on them once.\n",
    "\n",
    "This means that we can only create a list out of them once."
   ]
  },
  {
   "cell_type": "code",
   "execution_count": 188,
   "metadata": {
    "slideshow": {
     "slide_type": "fragment"
    }
   },
   "outputs": [
    {
     "data": {
      "text/plain": [
       "[]"
      ]
     },
     "execution_count": 188,
     "metadata": {},
     "output_type": "execute_result"
    }
   ],
   "source": [
    "list(squares)"
   ]
  },
  {
   "cell_type": "markdown",
   "metadata": {
    "slideshow": {
     "slide_type": "slide"
    }
   },
   "source": [
    "The basic implementation of map as a generator is the following:"
   ]
  },
  {
   "cell_type": "code",
   "execution_count": 3,
   "metadata": {
    "slideshow": {
     "slide_type": "fragment"
    }
   },
   "outputs": [],
   "source": [
    "def _map(function, sequence):\n",
    "    for item in sequence:\n",
    "        yield function(sequence)"
   ]
  },
  {
   "cell_type": "markdown",
   "metadata": {
    "slideshow": {
     "slide_type": "slide"
    }
   },
   "source": [
    "the builtin map function has an additional ability: if the function passed takes many parameters, and one passes several iterators to it, it will return the sequence of the function applied to all the tuples of items composed from the various sequences."
   ]
  },
  {
   "cell_type": "code",
   "execution_count": 4,
   "metadata": {
    "slideshow": {
     "slide_type": "fragment"
    }
   },
   "outputs": [
    {
     "data": {
      "text/plain": [
       "[5, 7, 9]"
      ]
     },
     "execution_count": 4,
     "metadata": {},
     "output_type": "execute_result"
    }
   ],
   "source": [
    "def _add(a, b):\n",
    "    return a+b\n",
    "\n",
    "list(map(_add, [1, 2, 3], [4, 5, 6]))"
   ]
  },
  {
   "cell_type": "markdown",
   "metadata": {
    "slideshow": {
     "slide_type": "slide"
    }
   },
   "source": [
    "so the complete implementation of map would be something like:"
   ]
  },
  {
   "cell_type": "code",
   "execution_count": 7,
   "metadata": {
    "slideshow": {
     "slide_type": "fragment"
    }
   },
   "outputs": [],
   "source": [
    "def _map(function, *sequences):\n",
    "    for items in zip(*sequences):\n",
    "        yield function(*items)"
   ]
  },
  {
   "cell_type": "code",
   "execution_count": 8,
   "metadata": {
    "slideshow": {
     "slide_type": "fragment"
    }
   },
   "outputs": [
    {
     "data": {
      "text/plain": [
       "[5, 7, 9]"
      ]
     },
     "execution_count": 8,
     "metadata": {},
     "output_type": "execute_result"
    }
   ],
   "source": [
    "list(_map(_add, [1, 2, 3], [4, 5, 6]))"
   ]
  },
  {
   "cell_type": "markdown",
   "metadata": {
    "slideshow": {
     "slide_type": "slide"
    }
   },
   "source": [
    "## Filter\n",
    "\n",
    "Filter uses a similar logic, but instead of applying a function, it selects only those elements in the sequence where the property is true.\n",
    "\n",
    "this is implemented by the `filter` function in base python."
   ]
  },
  {
   "cell_type": "code",
   "execution_count": 1,
   "metadata": {
    "slideshow": {
     "slide_type": "fragment"
    }
   },
   "outputs": [
    {
     "name": "stdout",
     "output_type": "stream",
     "text": [
      "[1, 2]\n"
     ]
    }
   ],
   "source": [
    "numbers = [-2, -1, 0, 1, 2]\n",
    "positive = []\n",
    "for number in numbers:\n",
    "    if number>0:\n",
    "        positive.append(number)\n",
    "\n",
    "print(positive)"
   ]
  },
  {
   "cell_type": "markdown",
   "metadata": {
    "slideshow": {
     "slide_type": "slide"
    }
   },
   "source": [
    "In a similar way to the **map** operation, the **filter** can be implemented as a comprehension"
   ]
  },
  {
   "cell_type": "code",
   "execution_count": 28,
   "metadata": {
    "slideshow": {
     "slide_type": "fragment"
    }
   },
   "outputs": [
    {
     "name": "stdout",
     "output_type": "stream",
     "text": [
      "[1, 2]\n"
     ]
    }
   ],
   "source": [
    "numbers = [-2, -1, 0, 1, 2]\n",
    "positive = (x for x in numbers if x>0)\n",
    "print(list(positive))"
   ]
  },
  {
   "cell_type": "markdown",
   "metadata": {
    "slideshow": {
     "slide_type": "slide"
    }
   },
   "source": [
    "It is also possible to combine the map and filter operation in a comprehension, obtaining the full expression for the generator comprehension!"
   ]
  },
  {
   "cell_type": "code",
   "execution_count": 29,
   "metadata": {
    "slideshow": {
     "slide_type": "fragment"
    }
   },
   "outputs": [
    {
     "name": "stdout",
     "output_type": "stream",
     "text": [
      "[1, 4]\n"
     ]
    }
   ],
   "source": [
    "numbers = [-2, -1, 0, 1, 2]\n",
    "squares_of_positive = (x**2 for x in numbers if x>0)\n",
    "print(list(squares_of_positive))"
   ]
  },
  {
   "cell_type": "markdown",
   "metadata": {
    "slideshow": {
     "slide_type": "slide"
    }
   },
   "source": [
    "Exactly as before, we have a function **filter** that takes an iterator and a function that returns true or false (keep the element or drop it)"
   ]
  },
  {
   "cell_type": "code",
   "execution_count": 60,
   "metadata": {
    "slideshow": {
     "slide_type": "fragment"
    }
   },
   "outputs": [
    {
     "name": "stdout",
     "output_type": "stream",
     "text": [
      "[1, 2]\n"
     ]
    }
   ],
   "source": [
    "def is_positive(n):\n",
    "    return n>0\n",
    "\n",
    "positivi = filter(is_positive, numeri)\n",
    "print(list(positivi))"
   ]
  },
  {
   "cell_type": "markdown",
   "metadata": {
    "slideshow": {
     "slide_type": "slide"
    }
   },
   "source": [
    "From a formal perspective a filter function should be a pure function, so it should not depend on a state.\n",
    "\n",
    "using generators it is possible to implement less pure, but sometimes more useful, type of filtering."
   ]
  },
  {
   "cell_type": "code",
   "execution_count": 49,
   "metadata": {
    "slideshow": {
     "slide_type": "fragment"
    }
   },
   "outputs": [
    {
     "data": {
      "text/plain": [
       "[1, 2, 3, 4, 5]"
      ]
     },
     "execution_count": 49,
     "metadata": {},
     "output_type": "execute_result"
    }
   ],
   "source": [
    "def incremental(sequence):\n",
    "    last = None\n",
    "    for item in sequence:\n",
    "        if last is None or item>=last:\n",
    "            yield item\n",
    "            last = item\n",
    "\n",
    "data = [1, 2, 3, 1, 4, 2, 5]\n",
    "list(incremental(data))"
   ]
  },
  {
   "cell_type": "markdown",
   "metadata": {
    "slideshow": {
     "slide_type": "slide"
    }
   },
   "source": [
    "### notes on parameter ordering\n",
    "\n",
    "Sometimes it might seem weird the choice of parameter ordering, such as using the function as first argument rather than as last.\n",
    "\n",
    "This is often due to the desire to combine this functions with **partial** applications and other functional tools such as those seen in the previous lessons."
   ]
  },
  {
   "cell_type": "code",
   "execution_count": 51,
   "metadata": {
    "slideshow": {
     "slide_type": "slide"
    }
   },
   "outputs": [
    {
     "name": "stdout",
     "output_type": "stream",
     "text": [
      "[4, 16]\n"
     ]
    }
   ],
   "source": [
    "def is_positive(x):\n",
    "    return x>0\n",
    "\n",
    "def square(x):\n",
    "    return x**2\n",
    "\n",
    "data = [-1, 2, -3, 4]\n",
    "result = map(square, filter(is_positive, data))\n",
    "print(list(result))"
   ]
  },
  {
   "cell_type": "code",
   "execution_count": 52,
   "metadata": {
    "slideshow": {
     "slide_type": "slide"
    }
   },
   "outputs": [
    {
     "name": "stdout",
     "output_type": "stream",
     "text": [
      "[4, 16]\n"
     ]
    }
   ],
   "source": [
    "from functools import partial\n",
    "\n",
    "only_positive = partial(filter, is_positive)\n",
    "get_squares = partial(map, square)\n",
    "\n",
    "result = get_squares(only_positive(data))\n",
    "print(list(result))"
   ]
  },
  {
   "cell_type": "markdown",
   "metadata": {
    "slideshow": {
     "slide_type": "slide"
    }
   },
   "source": [
    "## Reduce\n",
    "\n",
    "Finally, after we transform and filter the data (and combine them in various ways), we can perform an operation of **reduction**.\n",
    "\n",
    "Reduction operations take the element one by one and combine them in a single \"pot\".\n",
    "\n",
    "One simple example is to sum all the values thta are observed divided by group."
   ]
  },
  {
   "cell_type": "code",
   "execution_count": 30,
   "metadata": {
    "slideshow": {
     "slide_type": "fragment"
    }
   },
   "outputs": [
    {
     "name": "stdout",
     "output_type": "stream",
     "text": [
      "10\n"
     ]
    }
   ],
   "source": [
    "numbers = [1, 2, 3, 4]\n",
    "total = 0\n",
    "for number in numbers:\n",
    "    total += number\n",
    "    \n",
    "print(total)"
   ]
  },
  {
   "cell_type": "markdown",
   "metadata": {
    "slideshow": {
     "slide_type": "slide"
    }
   },
   "source": [
    "as before, there is a function that implements it given a sequence and a combination function.\n",
    "\n",
    "the only difference is that is not in the builtins but in the `functools`"
   ]
  },
  {
   "cell_type": "code",
   "execution_count": 11,
   "metadata": {
    "slideshow": {
     "slide_type": "fragment"
    }
   },
   "outputs": [
    {
     "name": "stdout",
     "output_type": "stream",
     "text": [
      "10\n"
     ]
    }
   ],
   "source": [
    "from functools import reduce\n",
    "\n",
    "def add(a, b):\n",
    "    return a+b\n",
    "\n",
    "numbers = [1, 2, 3, 4]\n",
    "total = reduce(add, numbers, 0)\n",
    "print(total)"
   ]
  },
  {
   "cell_type": "markdown",
   "metadata": {
    "slideshow": {
     "slide_type": "slide"
    }
   },
   "source": [
    "These kind of operations are so common that the most common one are already implemented as default functions:\n",
    "\n",
    "* **sum** for summing\n",
    "* **min** and **max** for estimating the minimum and maximum of a sequence\n",
    "* **all** and **any** for logical operations"
   ]
  },
  {
   "cell_type": "markdown",
   "metadata": {
    "slideshow": {
     "slide_type": "slide"
    }
   },
   "source": [
    "A typical reduction that is often used, is frequency estimation"
   ]
  },
  {
   "cell_type": "code",
   "execution_count": 9,
   "metadata": {
    "slideshow": {
     "slide_type": "fragment"
    }
   },
   "outputs": [
    {
     "data": {
      "text/plain": [
       "Counter({1: 3, 2: 2, 3: 2, 4: 5})"
      ]
     },
     "execution_count": 9,
     "metadata": {},
     "output_type": "execute_result"
    }
   ],
   "source": [
    "from collections import Counter\n",
    "numbers = [1, 1, 1, 2, 2, 3, 3, 4, 4, 4, 4, 4]\n",
    "Counter(numbers)"
   ]
  },
  {
   "cell_type": "markdown",
   "metadata": {
    "slideshow": {
     "slide_type": "fragment"
    }
   },
   "source": [
    "The interesting property of the reductions is that the results can be combined: given the counts of two series, I can sum the counts and obtain the result of the counts in the combinations of the two original series.\n",
    "\n",
    "For example, in the case of Counter, various Counters can be summed together."
   ]
  },
  {
   "cell_type": "markdown",
   "metadata": {
    "slideshow": {
     "slide_type": "slide"
    }
   },
   "source": [
    "The formal definition is the following:\n",
    "\n",
    "**DATA**:\n",
    "* Array of Type B\n",
    "\n",
    "**DEFAULT**:\n",
    "* Type A (can be equal to B)\n",
    "\n",
    "**FUNCTION**:\n",
    "* Type A + Type B -> Type A\n",
    "* Type A + Type A -> Type A\n",
    "\n"
   ]
  },
  {
   "cell_type": "markdown",
   "metadata": {
    "slideshow": {
     "slide_type": "slide"
    }
   },
   "source": [
    "## Map Reduce\n",
    "\n",
    "The famous MAP-REDUCE approach is a combination of these approaches:\n",
    "* take a sequence, divide it into sub-sequences\n",
    "* divide them across several servers\n",
    "* perform the transformation and reduction on each server independently\n",
    "* collect the partial result of each server and combine them\n",
    "* recursively combine them all until the final result is obtained"
   ]
  },
  {
   "cell_type": "markdown",
   "metadata": {
    "slideshow": {
     "slide_type": "slide"
    }
   },
   "source": [
    "## Itertools - functions to manipulate iterators\n",
    "\n",
    "python provides few useful functions to manipulate iterators at the builtins level, namely:\n",
    "\n",
    "* map\n",
    "* filter\n",
    "* reducers (sum, max, min, all, any)\n",
    "* range\n",
    "* enumerate\n",
    "* zip\n",
    "\n",
    "but it also provides plenty of other functions, really useful, in the **itertools** module"
   ]
  },
  {
   "cell_type": "markdown",
   "metadata": {
    "slideshow": {
     "slide_type": "slide"
    }
   },
   "source": [
    "**Infinite iterators:**\n",
    "\n",
    "<table border=\"1\" class=\"docutils\">\n",
    "<colgroup>\n",
    "<col width=\"14%\" />\n",
    "<col width=\"14%\" />\n",
    "<col width=\"39%\" />\n",
    "<col width=\"33%\" />\n",
    "</colgroup>\n",
    "<thead valign=\"bottom\">\n",
    "<tr class=\"row-odd\"><th class=\"head\">Iterator</th>\n",
    "<th class=\"head\">Arguments</th>\n",
    "<th class=\"head\">Results</th>\n",
    "<th class=\"head\">Example</th>\n",
    "</tr>\n",
    "</thead>\n",
    "<tbody valign=\"top\">\n",
    "<tr class=\"row-even\"><td><a class=\"reference internal\" href=\"#itertools.count\" title=\"itertools.count\"><code class=\"xref py py-func docutils literal notranslate\"><span class=\"pre\">count()</span></code></a></td>\n",
    "<td>start, [step]</td>\n",
    "<td>start, start+step, start+2*step, …</td>\n",
    "<td><code class=\"docutils literal notranslate\"><span class=\"pre\">count(10)</span> <span class=\"pre\">--&gt;</span> <span class=\"pre\">10</span> <span class=\"pre\">11</span> <span class=\"pre\">12</span> <span class=\"pre\">13</span> <span class=\"pre\">14</span> <span class=\"pre\">...</span></code></td>\n",
    "</tr>\n",
    "<tr class=\"row-odd\"><td><a class=\"reference internal\" href=\"#itertools.cycle\" title=\"itertools.cycle\"><code class=\"xref py py-func docutils literal notranslate\"><span class=\"pre\">cycle()</span></code></a></td>\n",
    "<td>p</td>\n",
    "<td>p0, p1, … plast, p0, p1, …</td>\n",
    "<td><code class=\"docutils literal notranslate\"><span class=\"pre\">cycle('ABCD')</span> <span class=\"pre\">--&gt;</span> <span class=\"pre\">A</span> <span class=\"pre\">B</span> <span class=\"pre\">C</span> <span class=\"pre\">D</span> <span class=\"pre\">A</span> <span class=\"pre\">B</span> <span class=\"pre\">C</span> <span class=\"pre\">D</span> <span class=\"pre\">...</span></code></td>\n",
    "</tr>\n",
    "<tr class=\"row-even\"><td><a class=\"reference internal\" href=\"#itertools.repeat\" title=\"itertools.repeat\"><code class=\"xref py py-func docutils literal notranslate\"><span class=\"pre\">repeat()</span></code></a></td>\n",
    "<td>elem [,n]</td>\n",
    "<td>elem, elem, elem, … endlessly or up to n times</td>\n",
    "<td><code class=\"docutils literal notranslate\"><span class=\"pre\">repeat(10,</span> <span class=\"pre\">3)</span> <span class=\"pre\">--&gt;</span> <span class=\"pre\">10</span> <span class=\"pre\">10</span> <span class=\"pre\">10</span></code></td>\n",
    "</tr>\n",
    "</tbody>\n",
    "</table>"
   ]
  },
  {
   "cell_type": "markdown",
   "metadata": {
    "slideshow": {
     "slide_type": "slide"
    }
   },
   "source": [
    "**Iterators terminating on the shortest input sequence:**\n",
    "    \n",
    "<table border=\"1\" class=\"docutils\">\n",
    "<colgroup>\n",
    "<col width=\"17%\" />\n",
    "<col width=\"17%\" />\n",
    "<col width=\"30%\" />\n",
    "<col width=\"37%\" />\n",
    "</colgroup>\n",
    "<thead valign=\"bottom\">\n",
    "<tr class=\"row-odd\"><th class=\"head\">Iterator</th>\n",
    "<th class=\"head\">Arguments</th>\n",
    "<th class=\"head\">Results</th>\n",
    "<th class=\"head\">Example</th>\n",
    "</tr>\n",
    "</thead>\n",
    "<tbody valign=\"top\">\n",
    "<tr class=\"row-even\"><td><a class=\"reference internal\" href=\"#itertools.accumulate\" title=\"itertools.accumulate\"><code class=\"xref py py-func docutils literal notranslate\"><span class=\"pre\">accumulate()</span></code></a></td>\n",
    "<td>p [,func]</td>\n",
    "<td>p0, p0+p1, p0+p1+p2, …</td>\n",
    "<td><code class=\"docutils literal notranslate\"><span class=\"pre\">accumulate([1,2,3,4,5])</span> <span class=\"pre\">--&gt;</span> <span class=\"pre\">1</span> <span class=\"pre\">3</span> <span class=\"pre\">6</span> <span class=\"pre\">10</span> <span class=\"pre\">15</span></code></td>\n",
    "</tr>\n",
    "<tr class=\"row-odd\"><td><a class=\"reference internal\" href=\"#itertools.chain\" title=\"itertools.chain\"><code class=\"xref py py-func docutils literal notranslate\"><span class=\"pre\">chain()</span></code></a></td>\n",
    "<td>p, q, …</td>\n",
    "<td>p0, p1, … plast, q0, q1, …</td>\n",
    "<td><code class=\"docutils literal notranslate\"><span class=\"pre\">chain('ABC',</span> <span class=\"pre\">'DEF')</span> <span class=\"pre\">--&gt;</span> <span class=\"pre\">A</span> <span class=\"pre\">B</span> <span class=\"pre\">C</span> <span class=\"pre\">D</span> <span class=\"pre\">E</span> <span class=\"pre\">F</span></code></td>\n",
    "</tr>\n",
    "<tr class=\"row-even\"><td><a class=\"reference internal\" href=\"#itertools.chain.from_iterable\" title=\"itertools.chain.from_iterable\"><code class=\"xref py py-func docutils literal notranslate\"><span class=\"pre\">chain.from_iterable()</span></code></a></td>\n",
    "<td>iterable</td>\n",
    "<td>p0, p1, … plast, q0, q1, …</td>\n",
    "<td><code class=\"docutils literal notranslate\"><span class=\"pre\">chain.from_iterable(['ABC',</span> <span class=\"pre\">'DEF'])</span> <span class=\"pre\">--&gt;</span> <span class=\"pre\">A</span> <span class=\"pre\">B</span> <span class=\"pre\">C</span> <span class=\"pre\">D</span> <span class=\"pre\">E</span> <span class=\"pre\">F</span></code></td>\n",
    "</tr>\n",
    "<tr class=\"row-odd\"><td><a class=\"reference internal\" href=\"#itertools.compress\" title=\"itertools.compress\"><code class=\"xref py py-func docutils literal notranslate\"><span class=\"pre\">compress()</span></code></a></td>\n",
    "<td>data, selectors</td>\n",
    "<td>(d[0] if s[0]), (d[1] if s[1]), …</td>\n",
    "<td><code class=\"docutils literal notranslate\"><span class=\"pre\">compress('ABCDEF',</span> <span class=\"pre\">[1,0,1,0,1,1])</span> <span class=\"pre\">--&gt;</span> <span class=\"pre\">A</span> <span class=\"pre\">C</span> <span class=\"pre\">E</span> <span class=\"pre\">F</span></code></td>\n",
    "</tr>\n",
    "<tr class=\"row-even\"><td><a class=\"reference internal\" href=\"#itertools.dropwhile\" title=\"itertools.dropwhile\"><code class=\"xref py py-func docutils literal notranslate\"><span class=\"pre\">dropwhile()</span></code></a></td>\n",
    "<td>pred, seq</td>\n",
    "<td>seq[n], seq[n+1], starting when pred fails</td>\n",
    "<td><code class=\"docutils literal notranslate\"><span class=\"pre\">dropwhile(lambda</span> <span class=\"pre\">x:</span> <span class=\"pre\">x&lt;5,</span> <span class=\"pre\">[1,4,6,4,1])</span> <span class=\"pre\">--&gt;</span> <span class=\"pre\">6</span> <span class=\"pre\">4</span> <span class=\"pre\">1</span></code></td>\n",
    "</tr>\n",
    "<tr class=\"row-odd\"><td><a class=\"reference internal\" href=\"#itertools.filterfalse\" title=\"itertools.filterfalse\"><code class=\"xref py py-func docutils literal notranslate\"><span class=\"pre\">filterfalse()</span></code></a></td>\n",
    "<td>pred, seq</td>\n",
    "<td>elements of seq where pred(elem) is false</td>\n",
    "<td><code class=\"docutils literal notranslate\"><span class=\"pre\">filterfalse(lambda</span> <span class=\"pre\">x:</span> <span class=\"pre\">x%2,</span> <span class=\"pre\">range(10))</span> <span class=\"pre\">--&gt;</span> <span class=\"pre\">0</span> <span class=\"pre\">2</span> <span class=\"pre\">4</span> <span class=\"pre\">6</span> <span class=\"pre\">8</span></code></td>\n",
    "</tr>\n",
    "<tr class=\"row-even\"><td><a class=\"reference internal\" href=\"#itertools.groupby\" title=\"itertools.groupby\"><code class=\"xref py py-func docutils literal notranslate\"><span class=\"pre\">groupby()</span></code></a></td>\n",
    "<td>iterable[, key]</td>\n",
    "<td>sub-iterators grouped by value of key(v)</td>\n",
    "<td>&#160;</td>\n",
    "</tr>\n",
    "<tr class=\"row-odd\"><td><a class=\"reference internal\" href=\"#itertools.islice\" title=\"itertools.islice\"><code class=\"xref py py-func docutils literal notranslate\"><span class=\"pre\">islice()</span></code></a></td>\n",
    "<td>seq, [start,] stop [, step]</td>\n",
    "<td>elements from seq[start:stop:step]</td>\n",
    "<td><code class=\"docutils literal notranslate\"><span class=\"pre\">islice('ABCDEFG',</span> <span class=\"pre\">2,</span> <span class=\"pre\">None)</span> <span class=\"pre\">--&gt;</span> <span class=\"pre\">C</span> <span class=\"pre\">D</span> <span class=\"pre\">E</span> <span class=\"pre\">F</span> <span class=\"pre\">G</span></code></td>\n",
    "</tr>\n",
    "<tr class=\"row-even\"><td><a class=\"reference internal\" href=\"#itertools.starmap\" title=\"itertools.starmap\"><code class=\"xref py py-func docutils literal notranslate\"><span class=\"pre\">starmap()</span></code></a></td>\n",
    "<td>func, seq</td>\n",
    "<td>func(*seq[0]), func(*seq[1]), …</td>\n",
    "<td><code class=\"docutils literal notranslate\"><span class=\"pre\">starmap(pow,</span> <span class=\"pre\">[(2,5),</span> <span class=\"pre\">(3,2),</span> <span class=\"pre\">(10,3)])</span> <span class=\"pre\">--&gt;</span> <span class=\"pre\">32</span> <span class=\"pre\">9</span> <span class=\"pre\">1000</span></code></td>\n",
    "</tr>\n",
    "<tr class=\"row-odd\"><td><a class=\"reference internal\" href=\"#itertools.takewhile\" title=\"itertools.takewhile\"><code class=\"xref py py-func docutils literal notranslate\"><span class=\"pre\">takewhile()</span></code></a></td>\n",
    "<td>pred, seq</td>\n",
    "<td>seq[0], seq[1], until pred fails</td>\n",
    "<td><code class=\"docutils literal notranslate\"><span class=\"pre\">takewhile(lambda</span> <span class=\"pre\">x:</span> <span class=\"pre\">x&lt;5,</span> <span class=\"pre\">[1,4,6,4,1])</span> <span class=\"pre\">--&gt;</span> <span class=\"pre\">1</span> <span class=\"pre\">4</span></code></td>\n",
    "</tr>\n",
    "<tr class=\"row-even\"><td><a class=\"reference internal\" href=\"#itertools.tee\" title=\"itertools.tee\"><code class=\"xref py py-func docutils literal notranslate\"><span class=\"pre\">tee()</span></code></a></td>\n",
    "<td>it, n</td>\n",
    "<td>it1, it2, … itn  splits one iterator into n</td>\n",
    "<td>&#160;</td>\n",
    "</tr>\n",
    "<tr class=\"row-odd\"><td><a class=\"reference internal\" href=\"#itertools.zip_longest\" title=\"itertools.zip_longest\"><code class=\"xref py py-func docutils literal notranslate\"><span class=\"pre\">zip_longest()</span></code></a></td>\n",
    "<td>p, q, …</td>\n",
    "<td>(p[0], q[0]), (p[1], q[1]), …</td>\n",
    "<td><code class=\"docutils literal notranslate\"><span class=\"pre\">zip_longest('ABCD',</span> <span class=\"pre\">'xy',</span> <span class=\"pre\">fillvalue='-')</span> <span class=\"pre\">--&gt;</span> <span class=\"pre\">Ax</span> <span class=\"pre\">By</span> <span class=\"pre\">C-</span> <span class=\"pre\">D-</span></code></td>\n",
    "</tr>\n",
    "</tbody>\n",
    "</table>"
   ]
  },
  {
   "cell_type": "markdown",
   "metadata": {
    "slideshow": {
     "slide_type": "slide"
    }
   },
   "source": [
    "**Combinatoric iterators:**\n",
    "\n",
    "<table border=\"1\" class=\"docutils\">\n",
    "<colgroup>\n",
    "<col width=\"36%\" />\n",
    "<col width=\"16%\" />\n",
    "<col width=\"48%\" />\n",
    "</colgroup>\n",
    "<thead valign=\"bottom\">\n",
    "<tr class=\"row-odd\"><th class=\"head\">Iterator</th>\n",
    "<th class=\"head\">Arguments</th>\n",
    "<th class=\"head\">Results</th>\n",
    "</tr>\n",
    "</thead>\n",
    "<tbody valign=\"top\">\n",
    "<tr class=\"row-even\"><td><a class=\"reference internal\" href=\"#itertools.product\" title=\"itertools.product\"><code class=\"xref py py-func docutils literal notranslate\"><span class=\"pre\">product()</span></code></a></td>\n",
    "<td>p, q, … [repeat=1]</td>\n",
    "<td>cartesian product, equivalent to a nested for-loop</td>\n",
    "</tr>\n",
    "<tr class=\"row-odd\"><td><a class=\"reference internal\" href=\"#itertools.permutations\" title=\"itertools.permutations\"><code class=\"xref py py-func docutils literal notranslate\"><span class=\"pre\">permutations()</span></code></a></td>\n",
    "<td>p[, r]</td>\n",
    "<td>r-length tuples, all possible orderings, no repeated elements</td>\n",
    "</tr>\n",
    "<tr class=\"row-even\"><td><a class=\"reference internal\" href=\"#itertools.combinations\" title=\"itertools.combinations\"><code class=\"xref py py-func docutils literal notranslate\"><span class=\"pre\">combinations()</span></code></a></td>\n",
    "<td>p, r</td>\n",
    "<td>r-length tuples, in sorted order, no repeated elements</td>\n",
    "</tr>\n",
    "<tr class=\"row-odd\"><td><a class=\"reference internal\" href=\"#itertools.combinations_with_replacement\" title=\"itertools.combinations_with_replacement\"><code class=\"xref py py-func docutils literal notranslate\"><span class=\"pre\">combinations_with_replacement()</span></code></a></td>\n",
    "<td>p, r</td>\n",
    "<td>r-length tuples, in sorted order, with repeated elements</td>\n",
    "</tr>\n",
    "<tr class=\"row-even\"><td><code class=\"docutils literal notranslate\"><span class=\"pre\">product('ABCD',</span> <span class=\"pre\">repeat=2)</span></code></td>\n",
    "<td>&#160;</td>\n",
    "<td><code class=\"docutils literal notranslate\"><span class=\"pre\">AA</span> <span class=\"pre\">AB</span> <span class=\"pre\">AC</span> <span class=\"pre\">AD</span> <span class=\"pre\">BA</span> <span class=\"pre\">BB</span> <span class=\"pre\">BC</span> <span class=\"pre\">BD</span> <span class=\"pre\">CA</span> <span class=\"pre\">CB</span> <span class=\"pre\">CC</span> <span class=\"pre\">CD</span> <span class=\"pre\">DA</span> <span class=\"pre\">DB</span> <span class=\"pre\">DC</span> <span class=\"pre\">DD</span></code></td>\n",
    "</tr>\n",
    "<tr class=\"row-odd\"><td><code class=\"docutils literal notranslate\"><span class=\"pre\">permutations('ABCD',</span> <span class=\"pre\">2)</span></code></td>\n",
    "<td>&#160;</td>\n",
    "<td><code class=\"docutils literal notranslate\"><span class=\"pre\">AB</span> <span class=\"pre\">AC</span> <span class=\"pre\">AD</span> <span class=\"pre\">BA</span> <span class=\"pre\">BC</span> <span class=\"pre\">BD</span> <span class=\"pre\">CA</span> <span class=\"pre\">CB</span> <span class=\"pre\">CD</span> <span class=\"pre\">DA</span> <span class=\"pre\">DB</span> <span class=\"pre\">DC</span></code></td>\n",
    "</tr>\n",
    "<tr class=\"row-even\"><td><code class=\"docutils literal notranslate\"><span class=\"pre\">combinations('ABCD',</span> <span class=\"pre\">2)</span></code></td>\n",
    "<td>&#160;</td>\n",
    "<td><code class=\"docutils literal notranslate\"><span class=\"pre\">AB</span> <span class=\"pre\">AC</span> <span class=\"pre\">AD</span> <span class=\"pre\">BC</span> <span class=\"pre\">BD</span> <span class=\"pre\">CD</span></code></td>\n",
    "</tr>\n",
    "<tr class=\"row-odd\"><td><code class=\"docutils literal notranslate\"><span class=\"pre\">combinations_with_replacement('ABCD',</span> <span class=\"pre\">2)</span></code></td>\n",
    "<td>&#160;</td>\n",
    "<td><code class=\"docutils literal notranslate\"><span class=\"pre\">AA</span> <span class=\"pre\">AB</span> <span class=\"pre\">AC</span> <span class=\"pre\">AD</span> <span class=\"pre\">BB</span> <span class=\"pre\">BC</span> <span class=\"pre\">BD</span> <span class=\"pre\">CC</span> <span class=\"pre\">CD</span> <span class=\"pre\">DD</span></code></td>\n",
    "</tr>\n",
    "</tbody>\n",
    "</table>"
   ]
  },
  {
   "cell_type": "markdown",
   "metadata": {
    "slideshow": {
     "slide_type": "slide"
    }
   },
   "source": [
    "#### short note - parallelism with multiprocessing\n",
    "\n",
    "The main way to implement true parallelism in python right now is to use the **multiprocessing** module.\n",
    "\n",
    "This module implements many ways of working with parallel processes.\n",
    "\n",
    "The one we are interested about is `Pool.map`, that implementes a parallel version of the **map** function."
   ]
  },
  {
   "cell_type": "code",
   "execution_count": 54,
   "metadata": {
    "slideshow": {
     "slide_type": "slide"
    }
   },
   "outputs": [
    {
     "data": {
      "text/plain": [
       "[0, 1, 4, 9, 16]"
      ]
     },
     "execution_count": 54,
     "metadata": {},
     "output_type": "execute_result"
    }
   ],
   "source": [
    "import multiprocessing as mp\n",
    "\n",
    "data = range(5)\n",
    "def squares(x):\n",
    "    return x**2\n",
    "\n",
    "with mp.Pool(processes=4) as pool:\n",
    "    result = pool.map(squares, data)\n",
    "result"
   ]
  },
  {
   "cell_type": "markdown",
   "metadata": {
    "slideshow": {
     "slide_type": "slide"
    }
   },
   "source": [
    "## Problem - counting file types\n",
    "\n",
    "scan all the files in a directory in your computer, including the subdirectories, and count the number of files of each extension type.\n",
    "\n",
    "The extension to be considered is the one after the last dot, lowercase.\n",
    "\n",
    "The count should be divided by subdirectory and the overall total.\n",
    "\n",
    "If possible, implement it in parallel.\n",
    "\n",
    "suggestion: check the `os.walk function` to explore the filesystem from a starting point."
   ]
  },
  {
   "cell_type": "markdown",
   "metadata": {
    "slideshow": {
     "slide_type": "slide"
    }
   },
   "source": [
    "## Dynamical code Generation and execution"
   ]
  },
  {
   "cell_type": "code",
   "execution_count": 80,
   "metadata": {
    "slideshow": {
     "slide_type": "slide"
    }
   },
   "outputs": [
    {
     "data": {
      "text/plain": [
       "11"
      ]
     },
     "execution_count": 80,
     "metadata": {},
     "output_type": "execute_result"
    }
   ],
   "source": [
    "a = 4\n",
    "b = 7\n",
    "eval('a+b')"
   ]
  },
  {
   "cell_type": "code",
   "execution_count": 53,
   "metadata": {
    "slideshow": {
     "slide_type": "slide"
    }
   },
   "outputs": [
    {
     "name": "stdout",
     "output_type": "stream",
     "text": [
      "{'a': 1, 'b': 2} 3\n"
     ]
    }
   ],
   "source": [
    "a = {'a':1, 'b':2}\n",
    "result = eval(\"a + b\", globals(), a)\n",
    "print(a, result)"
   ]
  },
  {
   "cell_type": "code",
   "execution_count": 79,
   "metadata": {
    "slideshow": {
     "slide_type": "slide"
    }
   },
   "outputs": [
    {
     "data": {
      "text/plain": [
       "{'a': 1, 'b': 2, 'c': 3}"
      ]
     },
     "execution_count": 79,
     "metadata": {},
     "output_type": "execute_result"
    }
   ],
   "source": [
    "a = {'a':1, 'b':2}\n",
    "exec(\"c = a+b\", globals(), a)\n",
    "a"
   ]
  },
  {
   "cell_type": "code",
   "execution_count": 2,
   "metadata": {
    "slideshow": {
     "slide_type": "slide"
    }
   },
   "outputs": [
    {
     "data": {
      "text/plain": [
       "<code object <module> at 0x7f8ac41a2e40, file \"__main__\", line 1>"
      ]
     },
     "execution_count": 2,
     "metadata": {},
     "output_type": "execute_result"
    }
   ],
   "source": [
    "expr = compile(\"a+b\", filename='__main__', mode='eval')\n",
    "expr"
   ]
  },
  {
   "cell_type": "code",
   "execution_count": 5,
   "metadata": {
    "slideshow": {
     "slide_type": "slide"
    }
   },
   "outputs": [
    {
     "data": {
      "text/plain": [
       "3"
      ]
     },
     "execution_count": 5,
     "metadata": {},
     "output_type": "execute_result"
    }
   ],
   "source": [
    "a = {'a':1, 'b':2}\n",
    "eval(expr, globals(), a)"
   ]
  },
  {
   "cell_type": "code",
   "execution_count": 6,
   "metadata": {
    "slideshow": {
     "slide_type": "slide"
    }
   },
   "outputs": [
    {
     "data": {
      "text/plain": [
       "{'a': 1, 'b': 2}"
      ]
     },
     "execution_count": 6,
     "metadata": {},
     "output_type": "execute_result"
    }
   ],
   "source": [
    "a"
   ]
  },
  {
   "cell_type": "markdown",
   "metadata": {
    "slideshow": {
     "slide_type": "slide"
    }
   },
   "source": [
    "## AST\n",
    "\n",
    "https://greentreesnakes.readthedocs.io/en/latest/\n"
   ]
  },
  {
   "cell_type": "code",
   "execution_count": 22,
   "metadata": {
    "slideshow": {
     "slide_type": "slide"
    }
   },
   "outputs": [
    {
     "name": "stdout",
     "output_type": "stream",
     "text": [
      "<_ast.Module object at 0x7f0988910390>\n"
     ]
    }
   ],
   "source": [
    "import ast\n",
    "commands = \"\"\"\n",
    "a = 2+3\n",
    "b = 4\n",
    "print(a+b)\n",
    "\"\"\"\n",
    "tree = ast.parse(commands)\n",
    "print(tree)"
   ]
  },
  {
   "cell_type": "code",
   "execution_count": 26,
   "metadata": {
    "slideshow": {
     "slide_type": "slide"
    }
   },
   "outputs": [
    {
     "name": "stdout",
     "output_type": "stream",
     "text": [
      "9\n"
     ]
    }
   ],
   "source": [
    "# expect the value 9\n",
    "compiled_expr = compile(tree, filename=\"<ast>\", mode=\"exec\")\n",
    "exec(compiled_expr)"
   ]
  },
  {
   "cell_type": "code",
   "execution_count": 24,
   "metadata": {
    "slideshow": {
     "slide_type": "slide"
    }
   },
   "outputs": [],
   "source": [
    "def walker(branch, offset=0, indent='\\t'):\n",
    "    for child in ast.iter_child_nodes(branch):\n",
    "        print(indent*offset, child)\n",
    "        walker(child, offset=offset+1, indent=indent)"
   ]
  },
  {
   "cell_type": "code",
   "execution_count": 25,
   "metadata": {
    "scrolled": false,
    "slideshow": {
     "slide_type": "slide"
    }
   },
   "outputs": [
    {
     "name": "stdout",
     "output_type": "stream",
     "text": [
      " <_ast.Assign object at 0x7f0988910400>\n",
      "   <_ast.Name object at 0x7f0988910470>\n",
      "     <_ast.Store object at 0x7f098f1c4dd8>\n",
      "   <_ast.BinOp object at 0x7f09889103c8>\n",
      "     <_ast.Num object at 0x7f0988910550>\n",
      "     <_ast.Add object at 0x7f098f1c7be0>\n",
      "     <_ast.Num object at 0x7f09889104a8>\n",
      " <_ast.Assign object at 0x7f09889101d0>\n",
      "   <_ast.Name object at 0x7f0988910780>\n",
      "     <_ast.Store object at 0x7f098f1c4dd8>\n",
      "   <_ast.Num object at 0x7f0988910438>\n",
      " <_ast.Expr object at 0x7f09889104e0>\n",
      "   <_ast.Call object at 0x7f0988910b00>\n",
      "     <_ast.Name object at 0x7f0988910630>\n",
      "       <_ast.Load object at 0x7f098f1c4cc0>\n",
      "     <_ast.BinOp object at 0x7f09889105f8>\n",
      "       <_ast.Name object at 0x7f0988910940>\n",
      "         <_ast.Load object at 0x7f098f1c4cc0>\n",
      "       <_ast.Add object at 0x7f098f1c7be0>\n",
      "       <_ast.Name object at 0x7f09889108d0>\n",
      "         <_ast.Load object at 0x7f098f1c4cc0>\n"
     ]
    }
   ],
   "source": [
    "walker(tree, indent='  ')"
   ]
  }
 ],
 "metadata": {
  "celltoolbar": "Slideshow",
  "kernelspec": {
   "display_name": "Python 3",
   "language": "python",
   "name": "python3"
  },
  "language_info": {
   "codemirror_mode": {
    "name": "ipython",
    "version": 3
   },
   "file_extension": ".py",
   "mimetype": "text/x-python",
   "name": "python",
   "nbconvert_exporter": "python",
   "pygments_lexer": "ipython3",
   "version": "3.7.1"
  }
 },
 "nbformat": 4,
 "nbformat_minor": 2
}
