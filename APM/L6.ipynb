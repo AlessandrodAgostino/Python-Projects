{
 "cells": [
  {
   "cell_type": "code",
   "execution_count": 1,
   "metadata": {},
   "outputs": [
    {
     "data": {
      "text/plain": [
       "[(1, 2), (2, 3), (3, 1), (1, 4), (4, 2), (2, 5)]"
      ]
     },
     "execution_count": 1,
     "metadata": {},
     "output_type": "execute_result"
    }
   ],
   "source": [
    "def pairwise(seq):\n",
    "    seq = iter(seq)\n",
    "    previous = next(seq)\n",
    "    for element in seq:\n",
    "        yield (previous, element)\n",
    "        previous = element\n",
    "        \n",
    "data = [1,2,3,1,4,2,5]\n",
    "pairs = pairwise(data)\n",
    "list(pairs)"
   ]
  },
  {
   "cell_type": "code",
   "execution_count": null,
   "metadata": {},
   "outputs": [],
   "source": [
    "def _incremental(sequence):\n",
    "    for couple in pairwise(sequence):\n",
    "        if couple[1] > couple[0]:\n",
    "            yield "
   ]
  },
  {
   "cell_type": "code",
   "execution_count": null,
   "metadata": {},
   "outputs": [],
   "source": []
  },
  {
   "cell_type": "code",
   "execution_count": 2,
   "metadata": {},
   "outputs": [
    {
     "data": {
      "text/plain": [
       "[1, 2, 3, 4, 5]"
      ]
     },
     "execution_count": 2,
     "metadata": {},
     "output_type": "execute_result"
    }
   ],
   "source": [
    "def incremental(sequence):\n",
    "    last = None\n",
    "    for item in sequence:\n",
    "        if last is None or item>=last:\n",
    "            yield item\n",
    "            last = item\n",
    "\n",
    "data = [1, 2, 3, 1, 4, 2, 5]\n",
    "list(incremental(data))"
   ]
  },
  {
   "cell_type": "code",
   "execution_count": 4,
   "metadata": {
    "collapsed": true
   },
   "outputs": [
    {
     "name": "stdout",
     "output_type": "stream",
     "text": [
      "/home/alessandro/Python/APM\n",
      "/home/alessandro/Python/.ipynb_checkpoints\n",
      "/home/alessandro/Python/Bishop\n",
      "/home/alessandro/Python/EG\n",
      "/home/alessandro/Python/Turchetti\n",
      "/home/alessandro/Python/GM\n",
      "/home/alessandro/Python/.git\n",
      "/home/alessandro/Python/2DA\n",
      "/home/alessandro/Python/APM/.ipynb_checkpoints\n",
      "/home/alessandro/Python/Bishop/.ipynb_checkpoints\n",
      "/home/alessandro/Python/EG/.ipynb_checkpoints\n",
      "/home/alessandro/Python/Turchetti/.ipynb_checkpoints\n",
      "/home/alessandro/Python/GM/snakemake_excercise\n",
      "/home/alessandro/Python/GM/.ipynb_checkpoints\n",
      "/home/alessandro/Python/GM/pandas\n",
      "/home/alessandro/Python/GM/snakemake_lesson\n",
      "/home/alessandro/Python/GM/snakemake_excercise/.snakemake\n",
      "/home/alessandro/Python/GM/snakemake_excercise/.snakemake/shadow\n",
      "/home/alessandro/Python/GM/snakemake_excercise/.snakemake/singularity\n",
      "/home/alessandro/Python/GM/snakemake_excercise/.snakemake/conda-archive\n",
      "/home/alessandro/Python/GM/snakemake_excercise/.snakemake/locks\n",
      "/home/alessandro/Python/GM/snakemake_excercise/.snakemake/metadata\n",
      "/home/alessandro/Python/GM/snakemake_excercise/.snakemake/conda\n",
      "/home/alessandro/Python/GM/snakemake_excercise/.snakemake/log\n",
      "/home/alessandro/Python/GM/pandas/.ipynb_checkpoints\n",
      "/home/alessandro/Python/GM/snakemake_lesson/.snakemake\n",
      "/home/alessandro/Python/GM/snakemake_lesson/.snakemake/shadow\n",
      "/home/alessandro/Python/GM/snakemake_lesson/.snakemake/singularity\n",
      "/home/alessandro/Python/GM/snakemake_lesson/.snakemake/conda-archive\n",
      "/home/alessandro/Python/GM/snakemake_lesson/.snakemake/locks\n",
      "/home/alessandro/Python/GM/snakemake_lesson/.snakemake/metadata\n",
      "/home/alessandro/Python/GM/snakemake_lesson/.snakemake/conda\n",
      "/home/alessandro/Python/GM/snakemake_lesson/.snakemake/log\n",
      "/home/alessandro/Python/.git/hooks\n",
      "/home/alessandro/Python/.git/refs\n",
      "/home/alessandro/Python/.git/branches\n",
      "/home/alessandro/Python/.git/logs\n",
      "/home/alessandro/Python/.git/info\n",
      "/home/alessandro/Python/.git/objects\n",
      "/home/alessandro/Python/.git/refs/heads\n",
      "/home/alessandro/Python/.git/refs/tags\n",
      "/home/alessandro/Python/.git/refs/remotes\n",
      "/home/alessandro/Python/.git/refs/remotes/origin\n",
      "/home/alessandro/Python/.git/logs/refs\n",
      "/home/alessandro/Python/.git/logs/refs/heads\n",
      "/home/alessandro/Python/.git/logs/refs/remotes\n",
      "/home/alessandro/Python/.git/logs/refs/remotes/origin\n",
      "/home/alessandro/Python/.git/objects/7c\n",
      "/home/alessandro/Python/.git/objects/d8\n",
      "/home/alessandro/Python/.git/objects/df\n",
      "/home/alessandro/Python/.git/objects/ac\n",
      "/home/alessandro/Python/.git/objects/64\n",
      "/home/alessandro/Python/.git/objects/d1\n",
      "/home/alessandro/Python/.git/objects/4c\n",
      "/home/alessandro/Python/.git/objects/5b\n",
      "/home/alessandro/Python/.git/objects/ea\n",
      "/home/alessandro/Python/.git/objects/80\n",
      "/home/alessandro/Python/.git/objects/9f\n",
      "/home/alessandro/Python/.git/objects/07\n",
      "/home/alessandro/Python/.git/objects/e3\n",
      "/home/alessandro/Python/.git/objects/bd\n",
      "/home/alessandro/Python/.git/objects/5a\n",
      "/home/alessandro/Python/.git/objects/57\n",
      "/home/alessandro/Python/.git/objects/72\n",
      "/home/alessandro/Python/.git/objects/4d\n",
      "/home/alessandro/Python/.git/objects/81\n",
      "/home/alessandro/Python/.git/objects/4f\n",
      "/home/alessandro/Python/.git/objects/b0\n",
      "/home/alessandro/Python/.git/objects/e6\n",
      "/home/alessandro/Python/.git/objects/d4\n",
      "/home/alessandro/Python/.git/objects/02\n",
      "/home/alessandro/Python/.git/objects/c9\n",
      "/home/alessandro/Python/.git/objects/8d\n",
      "/home/alessandro/Python/.git/objects/8b\n",
      "/home/alessandro/Python/.git/objects/b6\n",
      "/home/alessandro/Python/.git/objects/5d\n",
      "/home/alessandro/Python/.git/objects/16\n",
      "/home/alessandro/Python/.git/objects/3a\n",
      "/home/alessandro/Python/.git/objects/91\n",
      "/home/alessandro/Python/.git/objects/f3\n",
      "/home/alessandro/Python/.git/objects/70\n",
      "/home/alessandro/Python/.git/objects/1f\n",
      "/home/alessandro/Python/.git/objects/99\n",
      "/home/alessandro/Python/.git/objects/1a\n",
      "/home/alessandro/Python/.git/objects/6d\n",
      "/home/alessandro/Python/.git/objects/01\n",
      "/home/alessandro/Python/.git/objects/9a\n",
      "/home/alessandro/Python/.git/objects/88\n",
      "/home/alessandro/Python/.git/objects/09\n",
      "/home/alessandro/Python/.git/objects/62\n",
      "/home/alessandro/Python/.git/objects/90\n",
      "/home/alessandro/Python/.git/objects/c5\n",
      "/home/alessandro/Python/.git/objects/e4\n",
      "/home/alessandro/Python/.git/objects/9e\n",
      "/home/alessandro/Python/.git/objects/da\n",
      "/home/alessandro/Python/.git/objects/c0\n",
      "/home/alessandro/Python/.git/objects/e8\n",
      "/home/alessandro/Python/.git/objects/85\n",
      "/home/alessandro/Python/.git/objects/8a\n",
      "/home/alessandro/Python/.git/objects/e5\n",
      "/home/alessandro/Python/.git/objects/cc\n",
      "/home/alessandro/Python/.git/objects/13\n",
      "/home/alessandro/Python/.git/objects/22\n",
      "/home/alessandro/Python/.git/objects/63\n",
      "/home/alessandro/Python/.git/objects/05\n",
      "/home/alessandro/Python/.git/objects/58\n",
      "/home/alessandro/Python/.git/objects/a4\n",
      "/home/alessandro/Python/.git/objects/a5\n",
      "/home/alessandro/Python/.git/objects/77\n",
      "/home/alessandro/Python/.git/objects/a6\n",
      "/home/alessandro/Python/.git/objects/b2\n",
      "/home/alessandro/Python/.git/objects/a1\n",
      "/home/alessandro/Python/.git/objects/97\n",
      "/home/alessandro/Python/.git/objects/04\n",
      "/home/alessandro/Python/.git/objects/3c\n",
      "/home/alessandro/Python/.git/objects/06\n",
      "/home/alessandro/Python/.git/objects/f6\n",
      "/home/alessandro/Python/.git/objects/f2\n",
      "/home/alessandro/Python/.git/objects/cb\n",
      "/home/alessandro/Python/.git/objects/9d\n",
      "/home/alessandro/Python/.git/objects/e9\n",
      "/home/alessandro/Python/.git/objects/7a\n",
      "/home/alessandro/Python/.git/objects/be\n",
      "/home/alessandro/Python/.git/objects/2f\n",
      "/home/alessandro/Python/.git/objects/38\n",
      "/home/alessandro/Python/.git/objects/8f\n",
      "/home/alessandro/Python/.git/objects/28\n",
      "/home/alessandro/Python/.git/objects/d3\n",
      "/home/alessandro/Python/.git/objects/74\n",
      "/home/alessandro/Python/.git/objects/89\n",
      "/home/alessandro/Python/.git/objects/44\n",
      "/home/alessandro/Python/.git/objects/f7\n",
      "/home/alessandro/Python/.git/objects/b1\n",
      "/home/alessandro/Python/.git/objects/a7\n",
      "/home/alessandro/Python/.git/objects/0a\n",
      "/home/alessandro/Python/.git/objects/59\n",
      "/home/alessandro/Python/.git/objects/82\n",
      "/home/alessandro/Python/.git/objects/9c\n",
      "/home/alessandro/Python/.git/objects/1d\n",
      "/home/alessandro/Python/.git/objects/61\n",
      "/home/alessandro/Python/.git/objects/35\n",
      "/home/alessandro/Python/.git/objects/ab\n",
      "/home/alessandro/Python/.git/objects/10\n",
      "/home/alessandro/Python/.git/objects/ee\n",
      "/home/alessandro/Python/.git/objects/23\n",
      "/home/alessandro/Python/.git/objects/66\n",
      "/home/alessandro/Python/.git/objects/73\n",
      "/home/alessandro/Python/.git/objects/b9\n",
      "/home/alessandro/Python/.git/objects/fc\n",
      "/home/alessandro/Python/.git/objects/bc\n",
      "/home/alessandro/Python/.git/objects/cd\n",
      "/home/alessandro/Python/.git/objects/b4\n",
      "/home/alessandro/Python/.git/objects/fd\n",
      "/home/alessandro/Python/.git/objects/f8\n",
      "/home/alessandro/Python/.git/objects/info\n",
      "/home/alessandro/Python/.git/objects/69\n",
      "/home/alessandro/Python/.git/objects/a0\n",
      "/home/alessandro/Python/.git/objects/ef\n",
      "/home/alessandro/Python/.git/objects/96\n",
      "/home/alessandro/Python/.git/objects/84\n",
      "/home/alessandro/Python/.git/objects/b8\n",
      "/home/alessandro/Python/.git/objects/67\n",
      "/home/alessandro/Python/.git/objects/d5\n",
      "/home/alessandro/Python/.git/objects/4e\n",
      "/home/alessandro/Python/.git/objects/f4\n",
      "/home/alessandro/Python/.git/objects/36\n",
      "/home/alessandro/Python/.git/objects/1b\n",
      "/home/alessandro/Python/.git/objects/19\n",
      "/home/alessandro/Python/.git/objects/68\n",
      "/home/alessandro/Python/.git/objects/79\n",
      "/home/alessandro/Python/.git/objects/7f\n",
      "/home/alessandro/Python/.git/objects/95\n",
      "/home/alessandro/Python/.git/objects/bf\n",
      "/home/alessandro/Python/.git/objects/3d\n",
      "/home/alessandro/Python/.git/objects/ce\n",
      "/home/alessandro/Python/.git/objects/14\n",
      "/home/alessandro/Python/.git/objects/db\n",
      "/home/alessandro/Python/.git/objects/e1\n",
      "/home/alessandro/Python/.git/objects/47\n",
      "/home/alessandro/Python/.git/objects/8c\n",
      "/home/alessandro/Python/.git/objects/2a\n",
      "/home/alessandro/Python/.git/objects/d6\n",
      "/home/alessandro/Python/.git/objects/0c\n",
      "/home/alessandro/Python/.git/objects/39\n",
      "/home/alessandro/Python/.git/objects/78\n",
      "/home/alessandro/Python/.git/objects/af\n",
      "/home/alessandro/Python/.git/objects/8e\n",
      "/home/alessandro/Python/.git/objects/4b\n",
      "/home/alessandro/Python/.git/objects/71\n",
      "/home/alessandro/Python/.git/objects/60\n",
      "/home/alessandro/Python/.git/objects/3b\n",
      "/home/alessandro/Python/.git/objects/ca\n",
      "/home/alessandro/Python/.git/objects/56\n",
      "/home/alessandro/Python/.git/objects/pack\n",
      "/home/alessandro/Python/.git/objects/aa\n",
      "/home/alessandro/Python/.git/objects/eb\n",
      "/home/alessandro/Python/.git/objects/86\n",
      "/home/alessandro/Python/.git/objects/6a\n",
      "/home/alessandro/Python/.git/objects/20\n",
      "/home/alessandro/Python/.git/objects/49\n",
      "/home/alessandro/Python/.git/objects/dc\n",
      "/home/alessandro/Python/.git/objects/cf\n",
      "/home/alessandro/Python/.git/objects/a9\n",
      "/home/alessandro/Python/.git/objects/f1\n",
      "/home/alessandro/Python/.git/objects/26\n",
      "/home/alessandro/Python/.git/objects/c8\n",
      "/home/alessandro/Python/.git/objects/55\n",
      "/home/alessandro/Python/.git/objects/5f\n",
      "/home/alessandro/Python/.git/objects/6e\n",
      "/home/alessandro/Python/.git/objects/18\n",
      "/home/alessandro/Python/.git/objects/9b\n",
      "/home/alessandro/Python/.git/objects/d2\n",
      "/home/alessandro/Python/.git/objects/48\n",
      "/home/alessandro/Python/.git/objects/6c\n",
      "/home/alessandro/Python/.git/objects/de\n",
      "/home/alessandro/Python/.git/objects/2b\n",
      "/home/alessandro/Python/.git/objects/65\n",
      "/home/alessandro/Python/.git/objects/0d\n",
      "/home/alessandro/Python/.git/objects/a3\n",
      "/home/alessandro/Python/.git/objects/11\n",
      "/home/alessandro/Python/.git/objects/7b\n",
      "/home/alessandro/Python/.git/objects/ed\n",
      "/home/alessandro/Python/.git/objects/42\n",
      "/home/alessandro/Python/.git/objects/75\n",
      "/home/alessandro/Python/.git/objects/1c\n",
      "/home/alessandro/Python/.git/objects/27\n",
      "/home/alessandro/Python/.git/objects/f0\n",
      "/home/alessandro/Python/.git/objects/a2\n",
      "/home/alessandro/Python/.git/objects/51\n",
      "/home/alessandro/Python/.git/objects/93\n",
      "/home/alessandro/Python/.git/objects/ae\n",
      "/home/alessandro/Python/.git/objects/31\n",
      "/home/alessandro/Python/.git/objects/00\n",
      "/home/alessandro/Python/.git/objects/2e\n",
      "/home/alessandro/Python/.git/objects/34\n",
      "/home/alessandro/Python/.git/objects/50\n",
      "/home/alessandro/Python/.git/objects/98\n",
      "/home/alessandro/Python/.git/objects/b3\n",
      "/home/alessandro/Python/.git/objects/37\n",
      "/home/alessandro/Python/.git/objects/17\n",
      "/home/alessandro/Python/.git/objects/ba\n",
      "/home/alessandro/Python/.git/objects/5c\n",
      "/home/alessandro/Python/.git/objects/fb\n",
      "/home/alessandro/Python/.git/objects/0e\n",
      "/home/alessandro/Python/.git/objects/21\n",
      "/home/alessandro/Python/.git/objects/87\n",
      "/home/alessandro/Python/.git/objects/2c\n",
      "/home/alessandro/Python/.git/objects/24\n",
      "/home/alessandro/Python/.git/objects/12\n",
      "/home/alessandro/Python/.git/objects/ec\n",
      "/home/alessandro/Python/.git/objects/76\n",
      "/home/alessandro/Python/.git/objects/32\n",
      "/home/alessandro/Python/.git/objects/94\n",
      "/home/alessandro/Python/.git/objects/0f\n",
      "/home/alessandro/Python/.git/objects/7e\n",
      "/home/alessandro/Python/.git/objects/d9\n"
     ]
    }
   ],
   "source": [
    "import os\n",
    "for root, dirs, files in os.walk(\"/home/alessandro/Python/\"):\n",
    "    for name in files:\n",
    "        print(os.path.join(root, name))\n",
    "    for name in dirs:\n",
    "        print(os.path.join(root, name))"
   ]
  },
  {
   "cell_type": "code",
   "execution_count": null,
   "metadata": {},
   "outputs": [],
   "source": []
  },
  {
   "cell_type": "code",
   "execution_count": null,
   "metadata": {},
   "outputs": [],
   "source": []
  },
  {
   "cell_type": "code",
   "execution_count": null,
   "metadata": {},
   "outputs": [],
   "source": []
  },
  {
   "cell_type": "code",
   "execution_count": null,
   "metadata": {},
   "outputs": [],
   "source": []
  },
  {
   "cell_type": "code",
   "execution_count": 101,
   "metadata": {},
   "outputs": [],
   "source": [
    "def is_jpg(name):\n",
    "    suffix = \".jpg\"\n",
    "    return name.endswith(suffix)"
   ]
  },
  {
   "cell_type": "code",
   "execution_count": 106,
   "metadata": {},
   "outputs": [],
   "source": [
    "jpg = filter(is_jpg, (filename for filename in list_files(\"/home/alessandro/\")))\n",
    "#print(list(jpg))"
   ]
  },
  {
   "cell_type": "code",
   "execution_count": null,
   "metadata": {},
   "outputs": [],
   "source": []
  },
  {
   "cell_type": "markdown",
   "metadata": {},
   "source": [
    "# Esercizio"
   ]
  },
  {
   "cell_type": "code",
   "execution_count": 144,
   "metadata": {},
   "outputs": [],
   "source": [
    "def list_files(root_path):\n",
    "    for root, dirs, files in os.walk(root_path):\n",
    "        for name in files: \n",
    "            yield name"
   ]
  },
  {
   "cell_type": "code",
   "execution_count": 151,
   "metadata": {},
   "outputs": [],
   "source": [
    "def is_image(file_name):\n",
    "    suffixes = (\".jpg\",\".png\", \".gif\", \".jpeg\")\n",
    "    return any(file_name.endswith(suffix) for suffix in suffixes)"
   ]
  },
  {
   "cell_type": "code",
   "execution_count": 152,
   "metadata": {},
   "outputs": [
    {
     "data": {
      "text/plain": [
       "Counter({'png': 15989, 'gif': 1369, 'jpg': 777, 'jpeg': 115})"
      ]
     },
     "execution_count": 152,
     "metadata": {},
     "output_type": "execute_result"
    }
   ],
   "source": [
    "from collections import Counter\n",
    "\n",
    "images = filter(is_image, list_files(\"/home/alessandro/\"))\n",
    "list_ext = map(lambda x: x.split('.')[-1].lower(), images)\n",
    "count_ext = Counter(list_ext)\n",
    "count_ext"
   ]
  },
  {
   "cell_type": "markdown",
   "metadata": {},
   "source": [
    "## Soluzione del Prof."
   ]
  },
  {
   "cell_type": "code",
   "execution_count": 156,
   "metadata": {},
   "outputs": [
    {
     "data": {
      "text/plain": [
       "Counter({'png': 15989, 'svg': 718, 'jpg': 893})"
      ]
     },
     "execution_count": 156,
     "metadata": {},
     "output_type": "execute_result"
    }
   ],
   "source": [
    "import os\n",
    "import itertools as it\n",
    "from collections import Counter\n",
    "\n",
    "def get_extentsion(fname):\n",
    "    return fname.split('.')[-1] \n",
    "\n",
    "def is_image(ext):\n",
    "    return ext in image_extension\n",
    "\n",
    "image_extension = ['png', 'jpg', 'svg']\n",
    "\n",
    "file_seq = (files for _,_, files in os.walk(\"/home/alessandro/\"))\n",
    "files = it.chain.from_iterable(file_seq)\n",
    "files = map(str.lower, files)\n",
    "extension = map(get_extentsion, files)\n",
    "images = filter(is_image, extension)\n",
    "Counter(images)"
   ]
  },
  {
   "cell_type": "code",
   "execution_count": null,
   "metadata": {},
   "outputs": [],
   "source": []
  }
 ],
 "metadata": {
  "kernelspec": {
   "display_name": "Python 3",
   "language": "python",
   "name": "python3"
  },
  "language_info": {
   "codemirror_mode": {
    "name": "ipython",
    "version": 3
   },
   "file_extension": ".py",
   "mimetype": "text/x-python",
   "name": "python",
   "nbconvert_exporter": "python",
   "pygments_lexer": "ipython3",
   "version": "3.7.1"
  }
 },
 "nbformat": 4,
 "nbformat_minor": 2
}
