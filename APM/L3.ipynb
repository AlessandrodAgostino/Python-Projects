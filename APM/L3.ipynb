{
 "cells": [
  {
   "cell_type": "markdown",
   "metadata": {},
   "source": [
    "# Lesson on Master Equation and Montecarlo Simulations"
   ]
  },
  {
   "cell_type": "code",
   "execution_count": 1,
   "metadata": {},
   "outputs": [],
   "source": [
    "import numpy as np\n",
    "import pylab as plt\n",
    "import random as rn"
   ]
  },
  {
   "cell_type": "code",
   "execution_count": 2,
   "metadata": {},
   "outputs": [],
   "source": [
    "#proportional destruction\n",
    "def removal(state):\n",
    "    return state*0.1\n",
    "\n",
    "#Constant creation \n",
    "def increase(state):\n",
    "    return 1\n",
    "\n",
    "transitions = [removal, increase]\n",
    "transitions_names = ['removal', 'increase']"
   ]
  },
  {
   "cell_type": "markdown",
   "metadata": {},
   "source": [
    "We expect a Poisson distribution ??? with an average 10????"
   ]
  },
  {
   "cell_type": "markdown",
   "metadata": {},
   "source": [
    "We define the initial state. We only need its current value we do not care of its history. Markovian system."
   ]
  },
  {
   "cell_type": "code",
   "execution_count": 3,
   "metadata": {},
   "outputs": [],
   "source": [
    "state = 5"
   ]
  },
  {
   "cell_type": "markdown",
   "metadata": {},
   "source": [
    "I evalue the rates for the different porcesses"
   ]
  },
  {
   "cell_type": "code",
   "execution_count": 4,
   "metadata": {},
   "outputs": [
    {
     "data": {
      "text/plain": [
       "[0.5, 1]"
      ]
     },
     "execution_count": 4,
     "metadata": {},
     "output_type": "execute_result"
    }
   ],
   "source": [
    "# I can fill a list with the output of a \n",
    "#list of function with the same input\n",
    "rates = [f(state) for f in transitions]\n",
    "rates"
   ]
  },
  {
   "cell_type": "code",
   "execution_count": 5,
   "metadata": {},
   "outputs": [
    {
     "data": {
      "text/plain": [
       "1.5"
      ]
     },
     "execution_count": 5,
     "metadata": {},
     "output_type": "execute_result"
    }
   ],
   "source": [
    "total_rate = sum(rates)\n",
    "total_rate"
   ]
  },
  {
   "cell_type": "code",
   "execution_count": 6,
   "metadata": {},
   "outputs": [
    {
     "data": {
      "text/plain": [
       "0.35572842979938823"
      ]
     },
     "execution_count": 6,
     "metadata": {},
     "output_type": "execute_result"
    }
   ],
   "source": [
    "time = np.random.exponential(1/total_rate) #numpy asks for the scale parameter so we need to invert it\n",
    "time"
   ]
  },
  {
   "cell_type": "markdown",
   "metadata": {},
   "source": [
    "In this way I get how much time I spend in the state. But I lost information about which proces I went through.\n",
    "In order to decide which proces execute we choice randomly between them using the rates as weights."
   ]
  },
  {
   "cell_type": "code",
   "execution_count": 7,
   "metadata": {},
   "outputs": [
    {
     "data": {
      "text/plain": [
       "['removal']"
      ]
     },
     "execution_count": 7,
     "metadata": {},
     "output_type": "execute_result"
    }
   ],
   "source": [
    "rn.choices(transitions_names, weights=rates)"
   ]
  },
  {
   "cell_type": "markdown",
   "metadata": {},
   "source": [
    "Choices always return a list-form output. We can extraxt the first element in order to get the effective process."
   ]
  },
  {
   "cell_type": "code",
   "execution_count": 8,
   "metadata": {},
   "outputs": [
    {
     "name": "stdout",
     "output_type": "stream",
     "text": [
      "increase\n"
     ]
    }
   ],
   "source": [
    "event = rn.choices(transitions_names, weights=rates)[0]\n",
    "print(event)"
   ]
  },
  {
   "cell_type": "markdown",
   "metadata": {},
   "source": [
    "Now we got to update the state of the system"
   ]
  },
  {
   "cell_type": "code",
   "execution_count": 9,
   "metadata": {},
   "outputs": [],
   "source": [
    "if event == 'increase':\n",
    "    state += 1\n",
    "elif event == 'removal':\n",
    "    state -= 1\n",
    "else:\n",
    "    raise ValueError(\"transition not recognized\")"
   ]
  },
  {
   "cell_type": "markdown",
   "metadata": {},
   "source": [
    "This is a rough version, but it works well for us and for now. We could complicate as we want this updating inserting any type of random effects.\n",
    "\n",
    "In order to create the complete simulation we need to take track of which proces happened and when, we also need to decide when to stop this simulation."
   ]
  },
  {
   "cell_type": "code",
   "execution_count": 10,
   "metadata": {},
   "outputs": [],
   "source": [
    "#To make it nicer we import these two modules\n",
    "#Make the code easier\n",
    "import typing\n",
    "from enum import Enum"
   ]
  },
  {
   "cell_type": "code",
   "execution_count": 11,
   "metadata": {},
   "outputs": [],
   "source": [
    "class Transition(Enum):\n",
    "    INCREASE = 'increase'\n",
    "    DECREASE = 'removal'\n",
    "\n",
    "class Observation(typing.NamedTuple):\n",
    "    state: typing.Any\n",
    "    time_of_observation: float\n",
    "    time_of_residency: float\n",
    "    transition: Transition"
   ]
  },
  {
   "cell_type": "markdown",
   "metadata": {},
   "source": [
    "Observation allow us to have a nicer interface."
   ]
  },
  {
   "cell_type": "markdown",
   "metadata": {},
   "source": [
    "Why we ask that transition is a `Transition` object and then we pass a string????"
   ]
  },
  {
   "cell_type": "code",
   "execution_count": 12,
   "metadata": {
    "scrolled": true
   },
   "outputs": [
    {
     "data": {
      "text/plain": [
       "Observation(state=5, time_of_observation=0.1, time_of_residency=0.33, transition=<Transition.DECREASE: 'removal'>)"
      ]
     },
     "execution_count": 12,
     "metadata": {},
     "output_type": "execute_result"
    }
   ],
   "source": [
    "Observation(5, 0.1, 0.33, Transition.DECREASE)"
   ]
  },
  {
   "cell_type": "code",
   "execution_count": 13,
   "metadata": {},
   "outputs": [],
   "source": [
    "transitions = [removal, increase] #list of function\n",
    "transitions_names = [Transition.DECREASE, Transition.INCREASE] #list of strings"
   ]
  },
  {
   "cell_type": "markdown",
   "metadata": {},
   "source": [
    "### Simulation:"
   ]
  },
  {
   "cell_type": "code",
   "execution_count": 15,
   "metadata": {},
   "outputs": [
    {
     "name": "stdout",
     "output_type": "stream",
     "text": [
      "Observation(state=5, time_of_observation=0.0, time_of_residency=0.5721955425026812, transition=<Transition.DECREASE: 'removal'>)\n",
      "Observation(state=4, time_of_observation=0.5721955425026812, time_of_residency=0.03170478341134148, transition=<Transition.INCREASE: 'increase'>)\n",
      "Observation(state=5, time_of_observation=0.6039003259140228, time_of_residency=0.29960163649034, transition=<Transition.INCREASE: 'increase'>)\n",
      "Observation(state=6, time_of_observation=0.9035019624043628, time_of_residency=0.10700795111504875, transition=<Transition.INCREASE: 'increase'>)\n",
      "Observation(state=7, time_of_observation=1.0105099135194116, time_of_residency=0.82674423185022, transition=<Transition.INCREASE: 'increase'>)\n",
      "Observation(state=8, time_of_observation=1.8372541453696316, time_of_residency=0.16300465598809233, transition=<Transition.INCREASE: 'increase'>)\n",
      "Observation(state=9, time_of_observation=2.000258801357724, time_of_residency=0.8640869449817337, transition=<Transition.DECREASE: 'removal'>)\n",
      "Observation(state=8, time_of_observation=2.8643457463394575, time_of_residency=0.07564929985868378, transition=<Transition.INCREASE: 'increase'>)\n",
      "Observation(state=9, time_of_observation=2.9399950461981414, time_of_residency=0.4415823904931948, transition=<Transition.INCREASE: 'increase'>)\n",
      "Observation(state=10, time_of_observation=3.3815774366913365, time_of_residency=0.3717192536167423, transition=<Transition.INCREASE: 'increase'>)\n",
      "Observation(state=11, time_of_observation=3.753296690308079, time_of_residency=0.23210287424571296, transition=<Transition.DECREASE: 'removal'>)\n",
      "Observation(state=10, time_of_observation=3.985399564553792, time_of_residency=0.23139969254135878, transition=<Transition.INCREASE: 'increase'>)\n",
      "Observation(state=11, time_of_observation=4.2167992570951505, time_of_residency=0.17409713850644365, transition=<Transition.DECREASE: 'removal'>)\n",
      "Observation(state=10, time_of_observation=4.390896395601594, time_of_residency=0.5409309928972938, transition=<Transition.DECREASE: 'removal'>)\n",
      "Observation(state=9, time_of_observation=4.9318273884988875, time_of_residency=0.005193284482018364, transition=<Transition.DECREASE: 'removal'>)\n",
      "Observation(state=8, time_of_observation=4.937020672980906, time_of_residency=0.17403923298193363, transition=<Transition.DECREASE: 'removal'>)\n"
     ]
    }
   ],
   "source": [
    "#Set up all the environment \n",
    "observed_states = []\n",
    "state = 5\n",
    "total_time = 0.0\n",
    "time_limit = 5.0\n",
    "\n",
    "#simulation loop:\n",
    "while total_time < time_limit:\n",
    "    rates = [f(state) for f in transitions] #Rates are updated according to the state every step\n",
    "    total_rate = sum(rates)\n",
    "    time = np.random.exponential(1/total_rate)#Extract the residence time\n",
    "    event = rn.choices(transitions_names, weights=rates)[0]#Extract which process will happen\n",
    "    \n",
    "    observation = Observation(state, total_time, time, event)\n",
    "    print(observation)\n",
    "    observed_states.append(observation)\n",
    "    \n",
    "    total_time += time\n",
    "    \n",
    "    if event == Transition.INCREASE:\n",
    "        state += 1\n",
    "    elif event == Transition.DECREASE:\n",
    "        state -= 1\n",
    "    else:\n",
    "        raise ValueError(\"transition not recognized\")"
   ]
  },
  {
   "cell_type": "markdown",
   "metadata": {},
   "source": [
    "We can transform the simulation in a function  that returns the list of events:"
   ]
  },
  {
   "cell_type": "code",
   "execution_count": 25,
   "metadata": {},
   "outputs": [],
   "source": [
    "def simulation(starting_state, time_limit):\n",
    "    observed_states = []\n",
    "    state = starting_state\n",
    "    total_time = 0.0\n",
    "\n",
    "    while total_time < time_limit:\n",
    "        rates = [f(state) for f in transitions]\n",
    "        total_rate = sum(rates)\n",
    "        time = np.random.exponential(1/total_rate)\n",
    "        event = rn.choices(transitions_names, weights=rates)[0]\n",
    "\n",
    "        observation = Observation(state, total_time, time, event)\n",
    "        observed_states.append(observation)\n",
    "\n",
    "        total_time += time\n",
    "\n",
    "        if event == Transition.INCREASE:\n",
    "            state += 1\n",
    "        elif event == Transition.DECREASE:\n",
    "            state -= 1\n",
    "        else:\n",
    "            raise ValueError(\"transition not recognized\")\n",
    "    return observed_states"
   ]
  },
  {
   "cell_type": "code",
   "execution_count": 35,
   "metadata": {
    "scrolled": true
   },
   "outputs": [],
   "source": [
    "time_limit = 100\n",
    "result = simulation(starting_state=5, time_limit=time_limit)"
   ]
  },
  {
   "cell_type": "code",
   "execution_count": 36,
   "metadata": {},
   "outputs": [
    {
     "data": {
      "text/plain": [
       "236"
      ]
     },
     "execution_count": 36,
     "metadata": {},
     "output_type": "execute_result"
    }
   ],
   "source": [
    "len(result)"
   ]
  },
  {
   "cell_type": "markdown",
   "metadata": {},
   "source": [
    "In order to make a  more precise simulation I should consider that the `Time_limit` is overshoot by a little bit."
   ]
  },
  {
   "cell_type": "markdown",
   "metadata": {},
   "source": [
    "If we want to make an ECDF we need to count how wuch time the system visited each state."
   ]
  },
  {
   "cell_type": "code",
   "execution_count": 37,
   "metadata": {},
   "outputs": [],
   "source": [
    "from collections import Counter"
   ]
  },
  {
   "cell_type": "code",
   "execution_count": 38,
   "metadata": {},
   "outputs": [],
   "source": [
    "Counter?"
   ]
  },
  {
   "cell_type": "code",
   "execution_count": 40,
   "metadata": {
    "scrolled": true
   },
   "outputs": [
    {
     "name": "stdout",
     "output_type": "stream",
     "text": [
      "Counter({9: 0.16319947023954948, 10: 0.14673372222622494, 12: 0.1007048120854707, 14: 0.09306588937661153, 8: 0.08578001291122227, 11: 0.08295638291839237, 15: 0.07254677139603939, 13: 0.06586055870680081, 18: 0.055685534345385805, 17: 0.05494543660242808, 16: 0.03264884765546836, 7: 0.029758355843960502, 6: 0.01054393914347498, 19: 0.0051779585515955365, 5: 0.0014555054972921761, 20: 2.7450204853917243e-05})\n"
     ]
    }
   ],
   "source": [
    "distribution = Counter()\n",
    "for observation in result:\n",
    "    state = observation.state\n",
    "    residency_time = observation.time_of_residency\n",
    "    distribution[state] += residency_time/time_limit\n",
    "print(distribution)"
   ]
  },
  {
   "cell_type": "markdown",
   "metadata": {},
   "source": [
    "More correctly I should sum up all the residency times"
   ]
  },
  {
   "cell_type": "code",
   "execution_count": 41,
   "metadata": {},
   "outputs": [],
   "source": [
    "import scipy.stats as st"
   ]
  },
  {
   "cell_type": "code",
   "execution_count": 42,
   "metadata": {},
   "outputs": [
    {
     "data": {
      "text/plain": [
       "<BarContainer object of 20 artists>"
      ]
     },
     "execution_count": 42,
     "metadata": {},
     "output_type": "execute_result"
    },
    {
     "data": {
      "image/png": "[encoded data removed]",
      "text/plain": [
       "<Figure size 432x288 with 1 Axes>"
      ]
     },
     "metadata": {
      "needs_background": "light"
     },
     "output_type": "display_data"
    }
   ],
   "source": [
    "fig, ax = plt.subplots()\n",
    "ax.bar(distribution.keys(), distribution.values())\n",
    "\n",
    "values = np.arange(20)\n",
    "pmf = st.poisson(10).pmf(values)\n",
    "ax.bar(values, pmf, alpha=0.5)"
   ]
  },
  {
   "cell_type": "markdown",
   "metadata": {},
   "source": [
    "We need a lot more of numbers to have a good cinvergence!"
   ]
  },
  {
   "cell_type": "code",
   "execution_count": 43,
   "metadata": {},
   "outputs": [],
   "source": [
    "def generate_distribution(observation_sequence):\n",
    "    distribution = Counter()\n",
    "    for observation in observation_sequence:\n",
    "        state = observation.state\n",
    "        residency_time = observation.time_of_residency\n",
    "        distribution[state] += residency_time\n",
    "    total_time_observed = sum(distribution.values())\n",
    "    for state in distribution:\n",
    "        distribution[state] /= total_time_observed #This is the right way\n",
    "    return distribution"
   ]
  },
  {
   "cell_type": "code",
   "execution_count": 44,
   "metadata": {},
   "outputs": [],
   "source": [
    "time_limit = 1_000\n",
    "result = simulation(starting_state=5, time_limit=time_limit)\n",
    "distribution = generate_distribution(result)"
   ]
  },
  {
   "cell_type": "markdown",
   "metadata": {},
   "source": [
    "Running the simulation for a longer time the convergence is far better"
   ]
  },
  {
   "cell_type": "code",
   "execution_count": 45,
   "metadata": {},
   "outputs": [
    {
     "data": {
      "text/plain": [
       "<BarContainer object of 20 artists>"
      ]
     },
     "execution_count": 45,
     "metadata": {},
     "output_type": "execute_result"
    },
    {
     "data": {
      "image/png": "[encoded data removed]",
      "text/plain": [
       "<Figure size 432x288 with 1 Axes>"
      ]
     },
     "metadata": {
      "needs_background": "light"
     },
     "output_type": "display_data"
    }
   ],
   "source": [
    "fig, ax = plt.subplots()\n",
    "ax.bar(distribution.keys(), distribution.values())\n",
    "\n",
    "values = np.arange(20)\n",
    "pmf = st.poisson(10).pmf(values)\n",
    "ax.bar(values, pmf, alpha=0.5)"
   ]
  },
  {
   "cell_type": "markdown",
   "metadata": {},
   "source": [
    "I should evaluate how the maximum square difference between the two cdf decrease over the increasing in number of tries. If it goes to zero it's good."
   ]
  },
  {
   "cell_type": "markdown",
   "metadata": {},
   "source": [
    "### Warn in period"
   ]
  },
  {
   "cell_type": "code",
   "execution_count": 94,
   "metadata": {},
   "outputs": [],
   "source": [
    "time_limit = 1_000\n",
    "result = simulation(starting_state=50, time_limit=time_limit)\n",
    "distribution = generate_distribution(result)"
   ]
  },
  {
   "cell_type": "code",
   "execution_count": 99,
   "metadata": {},
   "outputs": [
    {
     "data": {
      "text/plain": [
       "<BarContainer object of 20 artists>"
      ]
     },
     "execution_count": 99,
     "metadata": {},
     "output_type": "execute_result"
    },
    {
     "data": {
      "image/png": "[encoded data removed]",
      "text/plain": [
       "<Figure size 432x288 with 1 Axes>"
      ]
     },
     "metadata": {
      "needs_background": "light"
     },
     "output_type": "display_data"
    }
   ],
   "source": [
    "fig, ax = plt.subplots()\n",
    "ax.bar(distribution.keys(), distribution.values())\n",
    "\n",
    "values = np.arange(20)\n",
    "pmf = st.poisson(10).pmf(values)\n",
    "ax.bar(values, pmf, alpha=0.5)"
   ]
  },
  {
   "cell_type": "markdown",
   "metadata": {},
   "source": [
    "The distribution has become very skewed! because the starting state is way to high."
   ]
  },
  {
   "cell_type": "code",
   "execution_count": 100,
   "metadata": {},
   "outputs": [],
   "source": [
    "time_limit = 1_000\n",
    "result_1 = simulation(starting_state=50, time_limit=time_limit)\n",
    "result_2 = simulation(starting_state=50, time_limit=time_limit)\n",
    "result_3 = simulation(starting_state=50, time_limit=time_limit)"
   ]
  },
  {
   "cell_type": "code",
   "execution_count": 101,
   "metadata": {},
   "outputs": [],
   "source": [
    "def plot_observations(observation_sequence, ax=None):\n",
    "    if ax is None:\n",
    "        ax = plt.gca()\n",
    "    values = [obs.state for obs in observation_sequence]\n",
    "    times = [obs.time_of_observation for obs in observation_sequence]\n",
    "    ax.plot(times, values, linestyle='steps-post')"
   ]
  },
  {
   "cell_type": "code",
   "execution_count": 102,
   "metadata": {},
   "outputs": [
    {
     "data": {
      "image/png": "[encoded data removed]",
      "text/plain": [
       "<Figure size 432x288 with 1 Axes>"
      ]
     },
     "metadata": {
      "needs_background": "light"
     },
     "output_type": "display_data"
    }
   ],
   "source": [
    "fig, ax = plt.subplots()\n",
    "plot_observations(result_1)\n",
    "plot_observations(result_2)\n",
    "plot_observations(result_3)"
   ]
  },
  {
   "cell_type": "markdown",
   "metadata": {},
   "source": [
    "We see that we could drop the very first part of the simulation, that represents a drift phase in the evolution of the system"
   ]
  },
  {
   "cell_type": "markdown",
   "metadata": {},
   "source": [
    "## Absorbing states\n",
    "\n",
    "an absorbing state is one where the transition rates for all the possible transitions is equal to zero.\n",
    "\n",
    "When this happens, the expected residency time becomes infinite (the system is stuck there)\n",
    "\n",
    "let's rewrite our functions so that 0 is an absorbing state"
   ]
  },
  {
   "cell_type": "code",
   "execution_count": 49,
   "metadata": {},
   "outputs": [],
   "source": [
    "class Transition(Enum):\n",
    "    INCREASE = 'increase'\n",
    "    DECREASE = 'removal'\n",
    "    ABSORPION = 'absorbed'"
   ]
  },
  {
   "cell_type": "code",
   "execution_count": 50,
   "metadata": {},
   "outputs": [],
   "source": [
    "def removal_absorbing(state):\n",
    "    return state*0.5\n",
    "\n",
    "def increase_absorbing(state):\n",
    "    return 1 if state>0 else 0\n",
    "\n",
    "transitions = [removal_absorbing, increase_absorbing]\n",
    "transitions_names = [Transition.DECREASE, Transition.INCREASE]"
   ]
  },
  {
   "cell_type": "code",
   "execution_count": 51,
   "metadata": {},
   "outputs": [],
   "source": [
    "state = 0"
   ]
  },
  {
   "cell_type": "code",
   "execution_count": 52,
   "metadata": {},
   "outputs": [
    {
     "data": {
      "text/plain": [
       "[0.0, 0]"
      ]
     },
     "execution_count": 52,
     "metadata": {},
     "output_type": "execute_result"
    }
   ],
   "source": [
    "rates = [f(state) for f in transitions]\n",
    "rates"
   ]
  },
  {
   "cell_type": "code",
   "execution_count": 53,
   "metadata": {},
   "outputs": [
    {
     "data": {
      "text/plain": [
       "0.0"
      ]
     },
     "execution_count": 53,
     "metadata": {},
     "output_type": "execute_result"
    }
   ],
   "source": [
    "total_rate = sum(rates)\n",
    "total_rate"
   ]
  },
  {
   "cell_type": "markdown",
   "metadata": {},
   "source": [
    "The residency time __diverges__!!"
   ]
  },
  {
   "cell_type": "code",
   "execution_count": 54,
   "metadata": {},
   "outputs": [
    {
     "ename": "ZeroDivisionError",
     "evalue": "float division by zero",
     "output_type": "error",
     "traceback": [
      "\u001b[0;31m---------------------------------------------------------------------------\u001b[0m",
      "\u001b[0;31mZeroDivisionError\u001b[0m                         Traceback (most recent call last)",
      "\u001b[0;32m<ipython-input-54-f1dc34eada48>\u001b[0m in \u001b[0;36m<module>\u001b[0;34m\u001b[0m\n\u001b[0;32m----> 1\u001b[0;31m \u001b[0mtime\u001b[0m \u001b[0;34m=\u001b[0m \u001b[0mnp\u001b[0m\u001b[0;34m.\u001b[0m\u001b[0mrandom\u001b[0m\u001b[0;34m.\u001b[0m\u001b[0mexponential\u001b[0m\u001b[0;34m(\u001b[0m\u001b[0;36m1\u001b[0m\u001b[0;34m/\u001b[0m\u001b[0mtotal_rate\u001b[0m\u001b[0;34m)\u001b[0m\u001b[0;34m\u001b[0m\u001b[0;34m\u001b[0m\u001b[0m\n\u001b[0m\u001b[1;32m      2\u001b[0m \u001b[0mtime\u001b[0m\u001b[0;34m\u001b[0m\u001b[0;34m\u001b[0m\u001b[0m\n",
      "\u001b[0;31mZeroDivisionError\u001b[0m: float division by zero"
     ]
    }
   ],
   "source": [
    "time = np.random.exponential(1/total_rate)\n",
    "time"
   ]
  },
  {
   "cell_type": "markdown",
   "metadata": {},
   "source": [
    "This is the way to manage correctly the divergence"
   ]
  },
  {
   "cell_type": "code",
   "execution_count": 55,
   "metadata": {},
   "outputs": [
    {
     "data": {
      "text/plain": [
       "inf"
      ]
     },
     "execution_count": 55,
     "metadata": {},
     "output_type": "execute_result"
    }
   ],
   "source": [
    "if total_rate>0:\n",
    "    time = np.random.exponential(1/total_rate)\n",
    "else:\n",
    "    time = np.inf\n",
    "time"
   ]
  },
  {
   "cell_type": "code",
   "execution_count": 56,
   "metadata": {},
   "outputs": [],
   "source": [
    "def simulation(starting_state, time_limit, transitions, transitions_names):\n",
    "    observed_states = []\n",
    "    state = starting_state\n",
    "    total_time = 0.0\n",
    "\n",
    "    while total_time < time_limit:\n",
    "        rates = [f(state) for f in transitions]\n",
    "        total_rate = sum(rates)\n",
    "        if total_rate>0:\n",
    "            time = np.random.exponential(1/total_rate)\n",
    "            event = rn.choices(transitions_names, weights=rates)[0]\n",
    "        else:\n",
    "            time = np.inf\n",
    "            event = Transition.ABSORPION\n",
    "            \n",
    "        observation = Observation(state, total_time, time, event)\n",
    "        observed_states.append(observation)\n",
    "\n",
    "        total_time += time\n",
    "\n",
    "        if event == Transition.INCREASE:\n",
    "            state += 1\n",
    "        elif event == Transition.DECREASE:\n",
    "            state -= 1\n",
    "        elif event == Transition.ABSORPION:\n",
    "            pass\n",
    "        else:\n",
    "            raise ValueError(\"transition not recognized\")\n",
    "    return observed_states"
   ]
  },
  {
   "cell_type": "code",
   "execution_count": 57,
   "metadata": {},
   "outputs": [],
   "source": [
    "result = simulation(5, time_limit=100,\n",
    "                    transitions=[removal_absorbing, increase_absorbing],\n",
    "                    transitions_names=[Transition.DECREASE, Transition.INCREASE])"
   ]
  },
  {
   "cell_type": "code",
   "execution_count": 121,
   "metadata": {},
   "outputs": [
    {
     "name": "stdout",
     "output_type": "stream",
     "text": [
      "Observation(state=5, time_of_observation=0.0, time_of_residency=0.014760107906818785, transition=<Transition.INCREASE: 'increase'>)\n",
      "\n",
      "Observation(state=6, time_of_observation=0.014760107906818785, time_of_residency=0.34645297467881225, transition=<Transition.INCREASE: 'increase'>)\n",
      "\n",
      "Observation(state=7, time_of_observation=0.36121308258563106, time_of_residency=0.08940911980667278, transition=<Transition.INCREASE: 'increase'>)\n",
      "\n",
      "Observation(state=8, time_of_observation=0.45062220239230383, time_of_residency=0.6242642432381098, transition=<Transition.INCREASE: 'increase'>)\n",
      "\n",
      "Observation(state=9, time_of_observation=1.0748864456304137, time_of_residency=0.26930070300537434, transition=<Transition.DECREASE: 'removal'>)\n",
      "\n",
      "Observation(state=8, time_of_observation=1.344187148635788, time_of_residency=0.03411033355500846, transition=<Transition.DECREASE: 'removal'>)\n",
      "\n",
      "Observation(state=7, time_of_observation=1.3782974821907963, time_of_residency=0.5227812301466597, transition=<Transition.INCREASE: 'increase'>)\n",
      "\n",
      "Observation(state=8, time_of_observation=1.901078712337456, time_of_residency=0.35196529314040853, transition=<Transition.INCREASE: 'increase'>)\n",
      "\n",
      "Observation(state=9, time_of_observation=2.2530440054778644, time_of_residency=0.09079171697100699, transition=<Transition.DECREASE: 'removal'>)\n",
      "\n",
      "Observation(state=8, time_of_observation=2.3438357224488713, time_of_residency=0.14065914280922856, transition=<Transition.INCREASE: 'increase'>)\n",
      "\n",
      "Observation(state=9, time_of_observation=2.4844948652581, time_of_residency=0.047303777695132825, transition=<Transition.DECREASE: 'removal'>)\n",
      "\n",
      "Observation(state=8, time_of_observation=2.5317986429532326, time_of_residency=0.009372291890946615, transition=<Transition.DECREASE: 'removal'>)\n",
      "\n",
      "Observation(state=7, time_of_observation=2.541170934844179, time_of_residency=0.031253089728217186, transition=<Transition.DECREASE: 'removal'>)\n",
      "\n",
      "Observation(state=6, time_of_observation=2.5724240245723964, time_of_residency=0.8543184493047116, transition=<Transition.DECREASE: 'removal'>)\n",
      "\n",
      "Observation(state=5, time_of_observation=3.426742473877108, time_of_residency=0.8126629372545452, transition=<Transition.INCREASE: 'increase'>)\n",
      "\n",
      "Observation(state=6, time_of_observation=4.239405411131654, time_of_residency=0.4609189906315315, transition=<Transition.DECREASE: 'removal'>)\n",
      "\n",
      "Observation(state=5, time_of_observation=4.7003244017631856, time_of_residency=0.09530179954596342, transition=<Transition.DECREASE: 'removal'>)\n",
      "\n",
      "Observation(state=4, time_of_observation=4.795626201309149, time_of_residency=0.25910122931198754, transition=<Transition.DECREASE: 'removal'>)\n",
      "\n",
      "Observation(state=3, time_of_observation=5.054727430621137, time_of_residency=0.2184613232769829, transition=<Transition.INCREASE: 'increase'>)\n",
      "\n",
      "Observation(state=4, time_of_observation=5.273188753898119, time_of_residency=0.027885728225367768, transition=<Transition.DECREASE: 'removal'>)\n",
      "\n",
      "Observation(state=3, time_of_observation=5.301074482123487, time_of_residency=0.8195673343740815, transition=<Transition.INCREASE: 'increase'>)\n",
      "\n",
      "Observation(state=4, time_of_observation=6.120641816497568, time_of_residency=0.009418145675269805, transition=<Transition.DECREASE: 'removal'>)\n",
      "\n",
      "Observation(state=3, time_of_observation=6.130059962172838, time_of_residency=0.09772581241588048, transition=<Transition.INCREASE: 'increase'>)\n",
      "\n",
      "Observation(state=4, time_of_observation=6.227785774588719, time_of_residency=0.021685505116213453, transition=<Transition.DECREASE: 'removal'>)\n",
      "\n",
      "Observation(state=3, time_of_observation=6.249471279704933, time_of_residency=0.520176493996978, transition=<Transition.INCREASE: 'increase'>)\n",
      "\n",
      "Observation(state=4, time_of_observation=6.7696477737019105, time_of_residency=0.11146953828373085, transition=<Transition.INCREASE: 'increase'>)\n",
      "\n",
      "Observation(state=5, time_of_observation=6.8811173119856415, time_of_residency=0.6912876601672897, transition=<Transition.DECREASE: 'removal'>)\n",
      "\n",
      "Observation(state=4, time_of_observation=7.572404972152931, time_of_residency=0.3107349000525029, transition=<Transition.INCREASE: 'increase'>)\n",
      "\n",
      "Observation(state=5, time_of_observation=7.883139872205434, time_of_residency=0.1777426343287667, transition=<Transition.DECREASE: 'removal'>)\n",
      "\n",
      "Observation(state=4, time_of_observation=8.0608825065342, time_of_residency=0.25284444289401664, transition=<Transition.DECREASE: 'removal'>)\n",
      "\n",
      "Observation(state=3, time_of_observation=8.313726949428217, time_of_residency=0.3472225309042112, transition=<Transition.DECREASE: 'removal'>)\n",
      "\n",
      "Observation(state=2, time_of_observation=8.660949480332429, time_of_residency=0.060456312277463634, transition=<Transition.INCREASE: 'increase'>)\n",
      "\n",
      "Observation(state=3, time_of_observation=8.721405792609891, time_of_residency=0.21990660601046963, transition=<Transition.DECREASE: 'removal'>)\n",
      "\n",
      "Observation(state=2, time_of_observation=8.941312398620362, time_of_residency=0.0030126876326184043, transition=<Transition.DECREASE: 'removal'>)\n",
      "\n",
      "Observation(state=1, time_of_observation=8.944325086252979, time_of_residency=1.1379722002819537, transition=<Transition.INCREASE: 'increase'>)\n",
      "\n",
      "Observation(state=2, time_of_observation=10.082297286534933, time_of_residency=0.5243577577752588, transition=<Transition.INCREASE: 'increase'>)\n",
      "\n",
      "Observation(state=3, time_of_observation=10.606655044310193, time_of_residency=0.07028874748507312, transition=<Transition.DECREASE: 'removal'>)\n",
      "\n",
      "Observation(state=2, time_of_observation=10.676943791795265, time_of_residency=0.19417836519926712, transition=<Transition.DECREASE: 'removal'>)\n",
      "\n",
      "Observation(state=1, time_of_observation=10.871122156994533, time_of_residency=0.5086572043750013, transition=<Transition.INCREASE: 'increase'>)\n",
      "\n",
      "Observation(state=2, time_of_observation=11.379779361369534, time_of_residency=0.06722731567836975, transition=<Transition.DECREASE: 'removal'>)\n",
      "\n",
      "Observation(state=1, time_of_observation=11.447006677047904, time_of_residency=0.07771902480911118, transition=<Transition.INCREASE: 'increase'>)\n",
      "\n",
      "Observation(state=2, time_of_observation=11.524725701857015, time_of_residency=0.07462882786960551, transition=<Transition.DECREASE: 'removal'>)\n",
      "\n",
      "Observation(state=1, time_of_observation=11.599354529726622, time_of_residency=0.10848204252589222, transition=<Transition.INCREASE: 'increase'>)\n",
      "\n",
      "Observation(state=2, time_of_observation=11.707836572252514, time_of_residency=0.4512087460423554, transition=<Transition.INCREASE: 'increase'>)\n",
      "\n",
      "Observation(state=3, time_of_observation=12.15904531829487, time_of_residency=0.5922902396646081, transition=<Transition.DECREASE: 'removal'>)\n",
      "\n",
      "Observation(state=2, time_of_observation=12.751335557959479, time_of_residency=0.44577931236216695, transition=<Transition.INCREASE: 'increase'>)\n",
      "\n",
      "Observation(state=3, time_of_observation=13.197114870321645, time_of_residency=1.7175190391663524, transition=<Transition.DECREASE: 'removal'>)\n",
      "\n",
      "Observation(state=2, time_of_observation=14.914633909487998, time_of_residency=0.3231082130505041, transition=<Transition.DECREASE: 'removal'>)\n",
      "\n",
      "Observation(state=1, time_of_observation=15.237742122538503, time_of_residency=0.2592651869709091, transition=<Transition.INCREASE: 'increase'>)\n",
      "\n",
      "Observation(state=2, time_of_observation=15.497007309509412, time_of_residency=0.04731569289677533, transition=<Transition.INCREASE: 'increase'>)\n",
      "\n",
      "Observation(state=3, time_of_observation=15.544323002406188, time_of_residency=0.162287346032718, transition=<Transition.INCREASE: 'increase'>)\n",
      "\n",
      "Observation(state=4, time_of_observation=15.706610348438906, time_of_residency=0.20675125891778814, transition=<Transition.DECREASE: 'removal'>)\n",
      "\n",
      "Observation(state=3, time_of_observation=15.913361607356693, time_of_residency=0.9893505903542243, transition=<Transition.DECREASE: 'removal'>)\n",
      "\n",
      "Observation(state=2, time_of_observation=16.90271219771092, time_of_residency=0.38747841158920965, transition=<Transition.DECREASE: 'removal'>)\n",
      "\n",
      "Observation(state=1, time_of_observation=17.29019060930013, time_of_residency=0.7851932832649837, transition=<Transition.INCREASE: 'increase'>)\n",
      "\n",
      "Observation(state=2, time_of_observation=18.075383892565114, time_of_residency=1.0918456639716805, transition=<Transition.INCREASE: 'increase'>)\n",
      "\n",
      "Observation(state=3, time_of_observation=19.167229556536796, time_of_residency=0.30424559576875887, transition=<Transition.DECREASE: 'removal'>)\n",
      "\n",
      "Observation(state=2, time_of_observation=19.471475152305555, time_of_residency=0.6173996314427876, transition=<Transition.INCREASE: 'increase'>)\n",
      "\n",
      "Observation(state=3, time_of_observation=20.08887478374834, time_of_residency=0.29389914820897606, transition=<Transition.DECREASE: 'removal'>)\n",
      "\n",
      "Observation(state=2, time_of_observation=20.382773931957317, time_of_residency=0.1920827068331656, transition=<Transition.INCREASE: 'increase'>)\n",
      "\n",
      "Observation(state=3, time_of_observation=20.574856638790482, time_of_residency=0.07889836270617118, transition=<Transition.INCREASE: 'increase'>)\n",
      "\n",
      "Observation(state=4, time_of_observation=20.653755001496652, time_of_residency=0.43680419833872564, transition=<Transition.DECREASE: 'removal'>)\n",
      "\n",
      "Observation(state=3, time_of_observation=21.09055919983538, time_of_residency=0.9486245663905324, transition=<Transition.DECREASE: 'removal'>)\n",
      "\n",
      "Observation(state=2, time_of_observation=22.03918376622591, time_of_residency=0.2006417682575756, transition=<Transition.INCREASE: 'increase'>)\n",
      "\n",
      "Observation(state=3, time_of_observation=22.239825534483487, time_of_residency=0.173747536260899, transition=<Transition.DECREASE: 'removal'>)\n",
      "\n",
      "Observation(state=2, time_of_observation=22.413573070744384, time_of_residency=0.17986298907558135, transition=<Transition.INCREASE: 'increase'>)\n",
      "\n",
      "Observation(state=3, time_of_observation=22.593436059819965, time_of_residency=0.47123528632621375, transition=<Transition.DECREASE: 'removal'>)\n",
      "\n",
      "Observation(state=2, time_of_observation=23.064671346146177, time_of_residency=0.6189064846342731, transition=<Transition.DECREASE: 'removal'>)\n",
      "\n",
      "Observation(state=1, time_of_observation=23.68357783078045, time_of_residency=0.2827514383552554, transition=<Transition.INCREASE: 'increase'>)\n",
      "\n",
      "Observation(state=2, time_of_observation=23.966329269135706, time_of_residency=1.9023531397375144, transition=<Transition.DECREASE: 'removal'>)\n",
      "\n",
      "Observation(state=1, time_of_observation=25.86868240887322, time_of_residency=0.347286308283568, transition=<Transition.DECREASE: 'removal'>)\n",
      "\n",
      "Observation(state=0, time_of_observation=26.215968717156787, time_of_residency=inf, transition=<Transition.ABSORPION: 'absorbed'>)\n",
      "\n"
     ]
    }
   ],
   "source": [
    "for observation in result:\n",
    "    print(observation)\n",
    "    print()"
   ]
  },
  {
   "cell_type": "markdown",
   "metadata": {},
   "source": [
    "## Fixed time events\n",
    "\n",
    "## [...]"
   ]
  },
  {
   "cell_type": "markdown",
   "metadata": {},
   "source": [
    "## Exercise\n",
    "\n",
    "there are still many things that can be done to implement this simulator:\n",
    "\n",
    "1. allow the user to specify the effect of the various transitions\n",
    "2. return the simulation not as a list, but as a dedicated objct that can :\n",
    "    * be sliced over time: my_simulation[0.5:100.0]\n",
    "    * have a plot function dedicated\n",
    "    * automatically estimate the distribution\n",
    "3. always include multiple runs of the simulation, an djoin this with point 2\n",
    "\n"
   ]
  },
  {
   "cell_type": "markdown",
   "metadata": {},
   "source": [
    "There is a site [reference for slicing](https://www.pythoncentral.io/how-to-slice-custom-objects-classes-in-python/) custom objects"
   ]
  },
  {
   "cell_type": "markdown",
   "metadata": {},
   "source": [
    "### This is a sliceable version of a Dictionaty\n",
    "It rounds all about an editing of the `__getitem__` method."
   ]
  },
  {
   "cell_type": "code",
   "execution_count": 80,
   "metadata": {},
   "outputs": [],
   "source": [
    "from collections.abc import Sequence\n",
    "class MyDictStructure(Sequence):\n",
    "    def __init__(self):\n",
    "        self.data = {}\n",
    " \n",
    "    def __len__(self):\n",
    "        return len(self.data)\n",
    " \n",
    "    def append(self, item):\n",
    "        self.data[len(self)] = item\n",
    " \n",
    "    def remove(self, item):\n",
    "        if item in self.data.values():\n",
    "            del self.data[item]\n",
    " \n",
    "    def __repr__(self):\n",
    "        return str(self.data)\n",
    " \n",
    "    def __getitem__(self, sliced):\n",
    "        print(sliced)\n",
    "        slicedkeys = list(self.data.keys())[sliced]\n",
    "        data = {k: self.data[k] for k in slicedkeys}        \n",
    "        return data"
   ]
  },
  {
   "cell_type": "code",
   "execution_count": 81,
   "metadata": {},
   "outputs": [
    {
     "data": {
      "text/plain": [
       "{0: 'First element', 1: 'Second element', 2: 'Third element'}"
      ]
     },
     "execution_count": 81,
     "metadata": {},
     "output_type": "execute_result"
    }
   ],
   "source": [
    "m = MyDictStructure()\n",
    "m.append('First element')\n",
    "m.append('Second element')\n",
    "m.append('Third element')\n",
    "m"
   ]
  },
  {
   "cell_type": "code",
   "execution_count": 82,
   "metadata": {},
   "outputs": [
    {
     "name": "stdout",
     "output_type": "stream",
     "text": [
      "slice(1, 3, None)\n"
     ]
    },
    {
     "data": {
      "text/plain": [
       "{1: 'Second element', 2: 'Third element'}"
      ]
     },
     "execution_count": 82,
     "metadata": {},
     "output_type": "execute_result"
    }
   ],
   "source": [
    "m[1:3]"
   ]
  },
  {
   "cell_type": "code",
   "execution_count": 87,
   "metadata": {},
   "outputs": [],
   "source": [
    "from collections.abc import Sequence\n",
    "class Sliceable_simulation(Sequence):\n",
    "    def __init__(self):\n",
    "        self.simulation = {}\n",
    " \n",
    "    def __len__(self):\n",
    "        return len(self.data)\n",
    " \n",
    "    def append(self, item):\n",
    "        self.data[len(self)] = item\n",
    " \n",
    "    def remove(self, item):\n",
    "        if item in self.data.values():\n",
    "            del self.data[item]\n",
    " \n",
    "    def __repr__(self):\n",
    "        return str(self.data)\n",
    " \n",
    "    def __getitem__(self, sliced):\n",
    "        print(sliced)\n",
    "        slicedkeys = list(self.data.keys())[sliced]\n",
    "        data = {k: self.data[k] for k in slicedkeys}        \n",
    "        return data\n",
    "    def update(dic):\n",
    "        self.data.update(dic)"
   ]
  },
  {
   "cell_type": "code",
   "execution_count": 92,
   "metadata": {},
   "outputs": [
    {
     "ename": "TypeError",
     "evalue": "update() takes 1 positional argument but 2 were given",
     "output_type": "error",
     "traceback": [
      "\u001b[0;31m---------------------------------------------------------------------------\u001b[0m",
      "\u001b[0;31mTypeError\u001b[0m                                 Traceback (most recent call last)",
      "\u001b[0;32m<ipython-input-92-1d83eca28e6c>\u001b[0m in \u001b[0;36m<module>\u001b[0;34m\u001b[0m\n\u001b[1;32m      1\u001b[0m \u001b[0msim1\u001b[0m \u001b[0;34m=\u001b[0m \u001b[0mSliceable_simulation\u001b[0m\u001b[0;34m(\u001b[0m\u001b[0;34m)\u001b[0m\u001b[0;34m\u001b[0m\u001b[0;34m\u001b[0m\u001b[0m\n\u001b[1;32m      2\u001b[0m \u001b[0mdic1\u001b[0m\u001b[0;34m=\u001b[0m\u001b[0;34m{\u001b[0m\u001b[0;36m0.0\u001b[0m \u001b[0;34m:\u001b[0m \u001b[0;34m'ciao'\u001b[0m\u001b[0;34m}\u001b[0m\u001b[0;34m\u001b[0m\u001b[0;34m\u001b[0m\u001b[0m\n\u001b[0;32m----> 3\u001b[0;31m \u001b[0msim1\u001b[0m\u001b[0;34m.\u001b[0m\u001b[0mupdate\u001b[0m\u001b[0;34m(\u001b[0m\u001b[0mdic1\u001b[0m\u001b[0;34m)\u001b[0m\u001b[0;34m\u001b[0m\u001b[0;34m\u001b[0m\u001b[0m\n\u001b[0m",
      "\u001b[0;31mTypeError\u001b[0m: update() takes 1 positional argument but 2 were given"
     ]
    }
   ],
   "source": [
    "sim1 = Sliceable_simulation()\n",
    "dic1={0.0 : 'ciao'}\n",
    "sim1.update(dic1)"
   ]
  },
  {
   "cell_type": "code",
   "execution_count": null,
   "metadata": {},
   "outputs": [],
   "source": []
  }
 ],
 "metadata": {
  "kernelspec": {
   "display_name": "Python 3",
   "language": "python",
   "name": "python3"
  },
  "language_info": {
   "codemirror_mode": {
    "name": "ipython",
    "version": 3
   },
   "file_extension": ".py",
   "mimetype": "text/x-python",
   "name": "python",
   "nbconvert_exporter": "python",
   "pygments_lexer": "ipython3",
   "version": "3.7.2"
  }
 },
 "nbformat": 4,
 "nbformat_minor": 2
}
