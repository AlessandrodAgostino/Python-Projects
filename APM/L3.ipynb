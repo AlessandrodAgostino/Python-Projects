{
 "cells": [
  {
   "cell_type": "markdown",
   "metadata": {},
   "source": [
    "# Lesson on Master Equation and Montecarlo Simulations"
   ]
  },
  {
   "cell_type": "code",
   "execution_count": 1,
   "metadata": {},
   "outputs": [],
   "source": [
    "import numpy as np\n",
    "import pylab as plt\n",
    "import random as rn"
   ]
  },
  {
   "cell_type": "code",
   "execution_count": 2,
   "metadata": {},
   "outputs": [],
   "source": [
    "#proportional destruction\n",
    "def removal(state):\n",
    "    return state*0.1\n",
    "\n",
    "#Constant creation \n",
    "def increase(state):\n",
    "    return 1\n",
    "\n",
    "transitions = [removal, increase]\n",
    "transitions_names = ['removal', 'increase']"
   ]
  },
  {
   "cell_type": "markdown",
   "metadata": {},
   "source": [
    "We expect a Poisson distribution ??? with an average 10????"
   ]
  },
  {
   "cell_type": "markdown",
   "metadata": {},
   "source": [
    "We define the initial state. We only need its current value we do not care of its history. Markovian system."
   ]
  },
  {
   "cell_type": "code",
   "execution_count": 3,
   "metadata": {},
   "outputs": [],
   "source": [
    "state = 5"
   ]
  },
  {
   "cell_type": "markdown",
   "metadata": {},
   "source": [
    "I evalue the rates for the different porcesses"
   ]
  },
  {
   "cell_type": "code",
   "execution_count": 4,
   "metadata": {},
   "outputs": [
    {
     "data": {
      "text/plain": [
       "[0.5, 1]"
      ]
     },
     "execution_count": 4,
     "metadata": {},
     "output_type": "execute_result"
    }
   ],
   "source": [
    "# I can fill a list with the output of a \n",
    "#list of function with the same input\n",
    "rates = [f(state) for f in transitions]\n",
    "rates"
   ]
  },
  {
   "cell_type": "code",
   "execution_count": 5,
   "metadata": {},
   "outputs": [
    {
     "data": {
      "text/plain": [
       "1.5"
      ]
     },
     "execution_count": 5,
     "metadata": {},
     "output_type": "execute_result"
    }
   ],
   "source": [
    "total_rate = sum(rates)\n",
    "total_rate"
   ]
  },
  {
   "cell_type": "code",
   "execution_count": 6,
   "metadata": {},
   "outputs": [
    {
     "data": {
      "text/plain": [
       "0.4467390925065969"
      ]
     },
     "execution_count": 6,
     "metadata": {},
     "output_type": "execute_result"
    }
   ],
   "source": [
    "time = np.random.exponential(1/total_rate) #numpy asks for the scale parameter so we need to invert it\n",
    "time"
   ]
  },
  {
   "cell_type": "markdown",
   "metadata": {},
   "source": [
    "In this way I get how much time I spend in the state. But I lost information about which proces I went through.\n",
    "In order to decide which proces execute we choice randomly between them using the rates as weights."
   ]
  },
  {
   "cell_type": "code",
   "execution_count": 7,
   "metadata": {},
   "outputs": [
    {
     "data": {
      "text/plain": [
       "['increase']"
      ]
     },
     "execution_count": 7,
     "metadata": {},
     "output_type": "execute_result"
    }
   ],
   "source": [
    "rn.choices(transitions_names, weights=rates)"
   ]
  },
  {
   "cell_type": "markdown",
   "metadata": {},
   "source": [
    "Choices always return a list-form output. We can extraxt the first element in order to get the effective process."
   ]
  },
  {
   "cell_type": "code",
   "execution_count": 8,
   "metadata": {},
   "outputs": [
    {
     "name": "stdout",
     "output_type": "stream",
     "text": [
      "removal\n"
     ]
    }
   ],
   "source": [
    "event = rn.choices(transitions_names, weights=rates)[0]\n",
    "print(event)"
   ]
  },
  {
   "cell_type": "markdown",
   "metadata": {},
   "source": [
    "Now we got to update the state of the system"
   ]
  },
  {
   "cell_type": "code",
   "execution_count": 9,
   "metadata": {},
   "outputs": [],
   "source": [
    "if event == 'increase':\n",
    "    state += 1\n",
    "elif event == 'removal':\n",
    "    state -= 1\n",
    "else:\n",
    "    raise ValueError(\"transition not recognized\")"
   ]
  },
  {
   "cell_type": "markdown",
   "metadata": {},
   "source": [
    "This is a rough version, but it works well for us and for now. We could complicate as we want this updating inserting any type of random effects.\n",
    "\n",
    "In order to create the complete simulation we need to take track of which proces happened and when, we also need to decide when to stop this simulation."
   ]
  },
  {
   "cell_type": "code",
   "execution_count": 10,
   "metadata": {},
   "outputs": [],
   "source": [
    "#To make it nicer we import these two modules\n",
    "#Make the code easier\n",
    "import typing\n",
    "from enum import Enum"
   ]
  },
  {
   "cell_type": "code",
   "execution_count": 11,
   "metadata": {},
   "outputs": [],
   "source": [
    "class Transition(Enum):\n",
    "    INCREASE = 'increase'\n",
    "    DECREASE = 'removal'\n",
    "\n",
    "class Observation(typing.NamedTuple):\n",
    "    state: typing.Any\n",
    "    time_of_observation: float\n",
    "    time_of_residency: float\n",
    "    transition: Transition"
   ]
  },
  {
   "cell_type": "markdown",
   "metadata": {},
   "source": [
    "Observation allow us to have a nicer interface."
   ]
  },
  {
   "cell_type": "markdown",
   "metadata": {},
   "source": [
    "Why we ask that transition is a `Transition` object and then we pass a string????"
   ]
  },
  {
   "cell_type": "code",
   "execution_count": 12,
   "metadata": {
    "scrolled": true
   },
   "outputs": [
    {
     "data": {
      "text/plain": [
       "Observation(state=5, time_of_observation=0.1, time_of_residency=0.33, transition=<Transition.DECREASE: 'removal'>)"
      ]
     },
     "execution_count": 12,
     "metadata": {},
     "output_type": "execute_result"
    }
   ],
   "source": [
    "Observation(5, 0.1, 0.33, Transition.DECREASE)"
   ]
  },
  {
   "cell_type": "code",
   "execution_count": 13,
   "metadata": {},
   "outputs": [],
   "source": [
    "transitions = [removal, increase] #list of function\n",
    "transitions_names = [Transition.DECREASE, Transition.INCREASE] #list of strings"
   ]
  },
  {
   "cell_type": "markdown",
   "metadata": {},
   "source": [
    "### Simulation:"
   ]
  },
  {
   "cell_type": "code",
   "execution_count": 14,
   "metadata": {},
   "outputs": [
    {
     "name": "stdout",
     "output_type": "stream",
     "text": [
      "Observation(state=5, time_of_observation=0.0, time_of_residency=0.4155369206581744, transition=<Transition.INCREASE: 'increase'>)\n",
      "Observation(state=6, time_of_observation=0.4155369206581744, time_of_residency=1.9641370369098332, transition=<Transition.INCREASE: 'increase'>)\n",
      "Observation(state=7, time_of_observation=2.3796739575680075, time_of_residency=0.4526182631713224, transition=<Transition.INCREASE: 'increase'>)\n",
      "Observation(state=8, time_of_observation=2.8322922207393297, time_of_residency=0.026922172064388256, transition=<Transition.INCREASE: 'increase'>)\n",
      "Observation(state=9, time_of_observation=2.859214392803718, time_of_residency=0.33723194548630836, transition=<Transition.DECREASE: 'removal'>)\n",
      "Observation(state=8, time_of_observation=3.1964463382900266, time_of_residency=1.2921391949220686, transition=<Transition.INCREASE: 'increase'>)\n",
      "Observation(state=9, time_of_observation=4.488585533212095, time_of_residency=1.2776397148538718, transition=<Transition.INCREASE: 'increase'>)\n"
     ]
    }
   ],
   "source": [
    "#Set up all the environment \n",
    "observed_states = []\n",
    "state = 5\n",
    "total_time = 0.0\n",
    "time_limit = 5.0\n",
    "\n",
    "#simulation loop:\n",
    "while total_time < time_limit:\n",
    "    rates = [f(state) for f in transitions] #Rates are updated according to the state every step\n",
    "    total_rate = sum(rates)\n",
    "    time = np.random.exponential(1/total_rate)#Extract the residence time\n",
    "    event = rn.choices(transitions_names, weights=rates)[0]#Extract which process will happen\n",
    "    \n",
    "    observation = Observation(state, total_time, time, event)\n",
    "    print(observation)\n",
    "    observed_states.append(observation)\n",
    "    \n",
    "    total_time += time\n",
    "    \n",
    "    if event == Transition.INCREASE:\n",
    "        state += 1\n",
    "    elif event == Transition.DECREASE:\n",
    "        state -= 1\n",
    "    else:\n",
    "        raise ValueError(\"transition not recognized\")"
   ]
  },
  {
   "cell_type": "markdown",
   "metadata": {},
   "source": [
    "We can transform the simulation in a function  that returns the list of events:"
   ]
  },
  {
   "cell_type": "code",
   "execution_count": 15,
   "metadata": {},
   "outputs": [],
   "source": [
    "def simulation(starting_state, time_limit):\n",
    "    observed_states = []\n",
    "    state = starting_state\n",
    "    total_time = 0.0\n",
    "\n",
    "    while total_time < time_limit:\n",
    "        rates = [f(state) for f in transitions]\n",
    "        total_rate = sum(rates)\n",
    "        time = np.random.exponential(1/total_rate)\n",
    "        event = rn.choices(transitions_names, weights=rates)[0]\n",
    "\n",
    "        observation = Observation(state, total_time, time, event)\n",
    "        observed_states.append(observation)\n",
    "\n",
    "        total_time += time\n",
    "\n",
    "        if event == Transition.INCREASE:\n",
    "            state += 1\n",
    "        elif event == Transition.DECREASE:\n",
    "            state -= 1\n",
    "        else:\n",
    "            raise ValueError(\"transition not recognized\")\n",
    "    return observed_states"
   ]
  },
  {
   "cell_type": "code",
   "execution_count": 16,
   "metadata": {
    "scrolled": true
   },
   "outputs": [],
   "source": [
    "time_limit = 100\n",
    "result = simulation(starting_state=5, time_limit=time_limit)"
   ]
  },
  {
   "cell_type": "code",
   "execution_count": 17,
   "metadata": {},
   "outputs": [
    {
     "data": {
      "text/plain": [
       "180"
      ]
     },
     "execution_count": 17,
     "metadata": {},
     "output_type": "execute_result"
    }
   ],
   "source": [
    "len(result)"
   ]
  },
  {
   "cell_type": "markdown",
   "metadata": {},
   "source": [
    "In order to make a  more precise simulation I should consider that the `Time_limit` is overshoot by a little bit."
   ]
  },
  {
   "cell_type": "markdown",
   "metadata": {},
   "source": [
    "If we want to make an ECDF we need to count how wuch time the system visited each state."
   ]
  },
  {
   "cell_type": "code",
   "execution_count": 18,
   "metadata": {},
   "outputs": [],
   "source": [
    "from collections import Counter"
   ]
  },
  {
   "cell_type": "code",
   "execution_count": 19,
   "metadata": {},
   "outputs": [],
   "source": [
    "Counter?"
   ]
  },
  {
   "cell_type": "code",
   "execution_count": 20,
   "metadata": {
    "scrolled": true
   },
   "outputs": [
    {
     "name": "stdout",
     "output_type": "stream",
     "text": [
      "Counter({7: 0.17452203193724145, 9: 0.16615766252419592, 10: 0.14712864733444117, 8: 0.1315492283012684, 6: 0.0898248471820398, 11: 0.07169074540511462, 12: 0.047954630433648365, 17: 0.03728501150681807, 14: 0.033467183451985676, 13: 0.029793511565163355, 5: 0.023973835013242017, 16: 0.021677412050292666, 15: 0.02033239347508852, 18: 0.005873929771882901})\n"
     ]
    }
   ],
   "source": [
    "distribution = Counter()\n",
    "for observation in result:\n",
    "    state = observation.state\n",
    "    residency_time = observation.time_of_residency\n",
    "    distribution[state] += residency_time/time_limit\n",
    "print(distribution)"
   ]
  },
  {
   "cell_type": "markdown",
   "metadata": {},
   "source": [
    "More correctly I should sum up all the residency times"
   ]
  },
  {
   "cell_type": "code",
   "execution_count": 21,
   "metadata": {},
   "outputs": [],
   "source": [
    "import scipy.stats as st"
   ]
  },
  {
   "cell_type": "code",
   "execution_count": 22,
   "metadata": {},
   "outputs": [
    {
     "data": {
      "text/plain": [
       "<BarContainer object of 20 artists>"
      ]
     },
     "execution_count": 22,
     "metadata": {},
     "output_type": "execute_result"
    },
    {
     "data": {
      "image/png": "[encoded data removed]",
      "text/plain": [
       "<Figure size 432x288 with 1 Axes>"
      ]
     },
     "metadata": {
      "needs_background": "light"
     },
     "output_type": "display_data"
    }
   ],
   "source": [
    "\n",
    "\n",
    "values = np.arange(20)\n",
    "pmf = st.poisson(10).pmf(values)\n",
    "ax.bar(values, pmf, alpha=0.5)"
   ]
  },
  {
   "cell_type": "markdown",
   "metadata": {},
   "source": [
    "We need a lot more of numbers to have a good cinvergence!"
   ]
  },
  {
   "cell_type": "code",
   "execution_count": 23,
   "metadata": {},
   "outputs": [],
   "source": [
    "def generate_distribution(observation_sequence):\n",
    "    distribution = Counter()\n",
    "    for observation in observation_sequence:\n",
    "        state = observation.state\n",
    "        residency_time = observation.time_of_residency\n",
    "        distribution[state] += residency_time\n",
    "    total_time_observed = sum(distribution.values())\n",
    "    for state in distribution:\n",
    "        distribution[state] /= total_time_observed #This is the right way\n",
    "    return distribution"
   ]
  },
  {
   "cell_type": "code",
   "execution_count": 24,
   "metadata": {},
   "outputs": [],
   "source": [
    "time_limit = 1_000\n",
    "result = simulation(starting_state=5, time_limit=time_limit)\n",
    "distribution = generate_distribution(result)"
   ]
  },
  {
   "cell_type": "markdown",
   "metadata": {},
   "source": [
    "Running the simulation for a longer time the convergence is far better"
   ]
  },
  {
   "cell_type": "code",
   "execution_count": 25,
   "metadata": {},
   "outputs": [
    {
     "data": {
      "text/plain": [
       "<BarContainer object of 20 artists>"
      ]
     },
     "execution_count": 25,
     "metadata": {},
     "output_type": "execute_result"
    },
    {
     "data": {
      "image/png": "[encoded data removed]",
      "text/plain": [
       "<Figure size 432x288 with 1 Axes>"
      ]
     },
     "metadata": {
      "needs_background": "light"
     },
     "output_type": "display_data"
    }
   ],
   "source": [
    "fig, ax = plt.subplots()\n",
    "ax.bar(distribution.keys(), distribution.values())\n",
    "\n",
    "values = np.arange(20)\n",
    "pmf = st.poisson(10).pmf(values)\n",
    "ax.bar(values, pmf, alpha=0.5)"
   ]
  },
  {
   "cell_type": "markdown",
   "metadata": {},
   "source": [
    "I should evaluate how the maximum square difference between the two cdf decrease over the increasing in number of tries. If it goes to zero it's good."
   ]
  },
  {
   "cell_type": "markdown",
   "metadata": {},
   "source": [
    "### Warn in period"
   ]
  },
  {
   "cell_type": "code",
   "execution_count": 26,
   "metadata": {},
   "outputs": [],
   "source": [
    "time_limit = 1_000\n",
    "result = simulation(starting_state=50, time_limit=time_limit)\n",
    "distribution = generate_distribution(result)"
   ]
  },
  {
   "cell_type": "code",
   "execution_count": 27,
   "metadata": {},
   "outputs": [
    {
     "data": {
      "text/plain": [
       "<BarContainer object of 20 artists>"
      ]
     },
     "execution_count": 27,
     "metadata": {},
     "output_type": "execute_result"
    },
    {
     "data": {
      "image/png": "[encoded data removed]",
      "text/plain": [
       "<Figure size 432x288 with 1 Axes>"
      ]
     },
     "metadata": {
      "needs_background": "light"
     },
     "output_type": "display_data"
    }
   ],
   "source": [
    "fig, ax = plt.subplots()\n",
    "ax.bar(distribution.keys(), distribution.values())\n",
    "\n",
    "values = np.arange(20)\n",
    "pmf = st.poisson(10).pmf(values)\n",
    "ax.bar(values, pmf, alpha=0.5)"
   ]
  },
  {
   "cell_type": "markdown",
   "metadata": {},
   "source": [
    "The distribution has become very skewed! because the starting state is way to high."
   ]
  },
  {
   "cell_type": "code",
   "execution_count": 28,
   "metadata": {},
   "outputs": [],
   "source": [
    "time_limit = 1_000\n",
    "result_1 = simulation(starting_state=50, time_limit=time_limit)\n",
    "result_2 = simulation(starting_state=50, time_limit=time_limit)\n",
    "result_3 = simulation(starting_state=50, time_limit=time_limit)"
   ]
  },
  {
   "cell_type": "code",
   "execution_count": 29,
   "metadata": {},
   "outputs": [],
   "source": [
    "def plot_observations(observation_sequence, ax=None):\n",
    "    if ax is None:\n",
    "        ax = plt.gca()\n",
    "    values = [obs.state for obs in observation_sequence]\n",
    "    times = [obs.time_of_observation for obs in observation_sequence]\n",
    "    ax.plot(times, values, linestyle='steps-post')"
   ]
  },
  {
   "cell_type": "code",
   "execution_count": 30,
   "metadata": {},
   "outputs": [
    {
     "data": {
      "image/png": "[encoded data removed]",
      "text/plain": [
       "<Figure size 432x288 with 1 Axes>"
      ]
     },
     "metadata": {
      "needs_background": "light"
     },
     "output_type": "display_data"
    }
   ],
   "source": [
    "fig, ax = plt.subplots()\n",
    "plot_observations(result_1)\n",
    "plot_observations(result_2)\n",
    "plot_observations(result_3)"
   ]
  },
  {
   "cell_type": "markdown",
   "metadata": {},
   "source": [
    "We see that we could drop the very first part of the simulation, that represents a drift phase in the evolution of the system"
   ]
  },
  {
   "cell_type": "markdown",
   "metadata": {},
   "source": [
    "## Absorbing states\n",
    "\n",
    "an absorbing state is one where the transition rates for all the possible transitions is equal to zero.\n",
    "\n",
    "When this happens, the expected residency time becomes infinite (the system is stuck there)\n",
    "\n",
    "let's rewrite our functions so that 0 is an absorbing state"
   ]
  },
  {
   "cell_type": "code",
   "execution_count": 31,
   "metadata": {},
   "outputs": [],
   "source": [
    "class Transition(Enum):\n",
    "    INCREASE = 'increase'\n",
    "    DECREASE = 'removal'\n",
    "    ABSORPION = 'absorbed'"
   ]
  },
  {
   "cell_type": "code",
   "execution_count": 32,
   "metadata": {},
   "outputs": [],
   "source": [
    "def removal_absorbing(state):\n",
    "    return state*0.5\n",
    "\n",
    "def increase_absorbing(state):\n",
    "    return 1 if state>0 else 0\n",
    "\n",
    "transitions = [removal_absorbing, increase_absorbing]\n",
    "transitions_names = [Transition.DECREASE, Transition.INCREASE]"
   ]
  },
  {
   "cell_type": "code",
   "execution_count": 33,
   "metadata": {},
   "outputs": [],
   "source": [
    "state = 0"
   ]
  },
  {
   "cell_type": "code",
   "execution_count": 34,
   "metadata": {},
   "outputs": [
    {
     "data": {
      "text/plain": [
       "[0.0, 0]"
      ]
     },
     "execution_count": 34,
     "metadata": {},
     "output_type": "execute_result"
    }
   ],
   "source": [
    "rates = [f(state) for f in transitions]\n",
    "rates"
   ]
  },
  {
   "cell_type": "code",
   "execution_count": 35,
   "metadata": {},
   "outputs": [
    {
     "data": {
      "text/plain": [
       "0.0"
      ]
     },
     "execution_count": 35,
     "metadata": {},
     "output_type": "execute_result"
    }
   ],
   "source": [
    "total_rate = sum(rates)\n",
    "total_rate"
   ]
  },
  {
   "cell_type": "markdown",
   "metadata": {},
   "source": [
    "The residency time __diverges__!!"
   ]
  },
  {
   "cell_type": "code",
   "execution_count": 36,
   "metadata": {},
   "outputs": [
    {
     "ename": "ZeroDivisionError",
     "evalue": "float division by zero",
     "output_type": "error",
     "traceback": [
      "\u001b[0;31m---------------------------------------------------------------------------\u001b[0m",
      "\u001b[0;31mZeroDivisionError\u001b[0m                         Traceback (most recent call last)",
      "\u001b[0;32m<ipython-input-36-f1dc34eada48>\u001b[0m in \u001b[0;36m<module>\u001b[0;34m\u001b[0m\n\u001b[0;32m----> 1\u001b[0;31m \u001b[0mtime\u001b[0m \u001b[0;34m=\u001b[0m \u001b[0mnp\u001b[0m\u001b[0;34m.\u001b[0m\u001b[0mrandom\u001b[0m\u001b[0;34m.\u001b[0m\u001b[0mexponential\u001b[0m\u001b[0;34m(\u001b[0m\u001b[0;36m1\u001b[0m\u001b[0;34m/\u001b[0m\u001b[0mtotal_rate\u001b[0m\u001b[0;34m)\u001b[0m\u001b[0;34m\u001b[0m\u001b[0;34m\u001b[0m\u001b[0m\n\u001b[0m\u001b[1;32m      2\u001b[0m \u001b[0mtime\u001b[0m\u001b[0;34m\u001b[0m\u001b[0;34m\u001b[0m\u001b[0m\n",
      "\u001b[0;31mZeroDivisionError\u001b[0m: float division by zero"
     ]
    }
   ],
   "source": [
    "time = np.random.exponential(1/total_rate)\n",
    "time"
   ]
  },
  {
   "cell_type": "markdown",
   "metadata": {},
   "source": [
    "This is the way to manage correctly the divergence"
   ]
  },
  {
   "cell_type": "code",
   "execution_count": null,
   "metadata": {},
   "outputs": [],
   "source": [
    "if total_rate>0:\n",
    "    time = np.random.exponential(1/total_rate)\n",
    "else:\n",
    "    time = np.inf\n",
    "time"
   ]
  },
  {
   "cell_type": "code",
   "execution_count": null,
   "metadata": {},
   "outputs": [],
   "source": [
    "def simulation(starting_state, time_limit, transitions, transitions_names):\n",
    "    observed_states = []\n",
    "    state = starting_state\n",
    "    total_time = 0.0\n",
    "\n",
    "    while total_time < time_limit:\n",
    "        rates = [f(state) for f in transitions]\n",
    "        total_rate = sum(rates)\n",
    "        if total_rate>0:\n",
    "            time = np.random.exponential(1/total_rate)\n",
    "            event = rn.choices(transitions_names, weights=rates)[0]\n",
    "        else:\n",
    "            time = np.inf\n",
    "            event = Transition.ABSORPION\n",
    "            \n",
    "        observation = Observation(state, total_time, time, event)\n",
    "        observed_states.append(observation)\n",
    "\n",
    "        total_time += time\n",
    "\n",
    "        if event == Transition.INCREASE:\n",
    "            state += 1\n",
    "        elif event == Transition.DECREASE:\n",
    "            state -= 1\n",
    "        elif event == Transition.ABSORPION:\n",
    "            pass\n",
    "        else:\n",
    "            raise ValueError(\"transition not recognized\")\n",
    "    return observed_states"
   ]
  },
  {
   "cell_type": "code",
   "execution_count": 37,
   "metadata": {},
   "outputs": [
    {
     "ename": "TypeError",
     "evalue": "simulation() got an unexpected keyword argument 'transitions'",
     "output_type": "error",
     "traceback": [
      "\u001b[0;31m---------------------------------------------------------------------------\u001b[0m",
      "\u001b[0;31mTypeError\u001b[0m                                 Traceback (most recent call last)",
      "\u001b[0;32m<ipython-input-37-081bc2d6dc7c>\u001b[0m in \u001b[0;36m<module>\u001b[0;34m\u001b[0m\n\u001b[1;32m      1\u001b[0m result = simulation(5, time_limit=100,\n\u001b[1;32m      2\u001b[0m                     \u001b[0mtransitions\u001b[0m\u001b[0;34m=\u001b[0m\u001b[0;34m[\u001b[0m\u001b[0mremoval_absorbing\u001b[0m\u001b[0;34m,\u001b[0m \u001b[0mincrease_absorbing\u001b[0m\u001b[0;34m]\u001b[0m\u001b[0;34m,\u001b[0m\u001b[0;34m\u001b[0m\u001b[0;34m\u001b[0m\u001b[0m\n\u001b[0;32m----> 3\u001b[0;31m                     transitions_names=[Transition.DECREASE, Transition.INCREASE])\n\u001b[0m",
      "\u001b[0;31mTypeError\u001b[0m: simulation() got an unexpected keyword argument 'transitions'"
     ]
    }
   ],
   "source": [
    "result = simulation(5, time_limit=100,\n",
    "                    transitions=[removal_absorbing, increase_absorbing],\n",
    "                    transitions_names=[Transition.DECREASE, Transition.INCREASE])"
   ]
  },
  {
   "cell_type": "code",
   "execution_count": null,
   "metadata": {},
   "outputs": [],
   "source": [
    "for observation in result:\n",
    "    print(observation)\n",
    "    print()"
   ]
  },
  {
   "cell_type": "markdown",
   "metadata": {},
   "source": [
    "## Fixed time events\n",
    "\n",
    "## [...]"
   ]
  },
  {
   "cell_type": "markdown",
   "metadata": {},
   "source": [
    "## Exercise\n",
    "\n",
    "there are still many things that can be done to implement this simulator:\n",
    "\n",
    "1. allow the user to specify the effect of the various transitions\n",
    "2. return the simulation not as a list, but as a dedicated objct that can :\n",
    "    * be sliced over time: my_simulation[0.5:100.0]\n",
    "    * have a plot function dedicated\n",
    "    * automatically estimate the distribution\n",
    "3. always include multiple runs of the simulation, an djoin this with point 2\n",
    "\n"
   ]
  },
  {
   "cell_type": "markdown",
   "metadata": {},
   "source": [
    "There is a site [reference for slicing](https://www.pythoncentral.io/how-to-slice-custom-objects-classes-in-python/) custom objects"
   ]
  },
  {
   "cell_type": "markdown",
   "metadata": {},
   "source": [
    "### This is a sliceable version of a Dictionaty\n",
    "It rounds all about an editing of the `__getitem__` method."
   ]
  },
  {
   "cell_type": "code",
   "execution_count": 69,
   "metadata": {},
   "outputs": [],
   "source": [
    "from collections.abc import Sequence\n",
    "class MyDictStructure(Sequence):\n",
    "    def __init__(self):\n",
    "        self.data = {}\n",
    " \n",
    "    def __len__(self):\n",
    "        return len(self.data)\n",
    " \n",
    "    def append(self, item):\n",
    "        self.data[len(self)] = item\n",
    " \n",
    "    def remove(self, item):\n",
    "        if item in self.data.values():\n",
    "            del self.data[item]\n",
    " \n",
    "    def __repr__(self):\n",
    "        return str(self.data)\n",
    " \n",
    "    def __getitem__(self, sliced):\n",
    "        start_time = sliced.start\n",
    "        print(bisect.bisect_left(start_time, self.data))\n",
    "        slicedkeys = list(self.data.keys())[sliced]\n",
    "        data = {k: self.data[k] for k in slicedkeys}        \n",
    "        return data"
   ]
  },
  {
   "cell_type": "code",
   "execution_count": 70,
   "metadata": {},
   "outputs": [
    {
     "data": {
      "text/plain": [
       "{0: 'First element', 1: 'Second element', 2: 'Third element'}"
      ]
     },
     "execution_count": 70,
     "metadata": {},
     "output_type": "execute_result"
    }
   ],
   "source": [
    "m = MyDictStructure()\n",
    "m.append('First element')\n",
    "m.append('Second element')\n",
    "m.append('Third element')\n",
    "m"
   ]
  },
  {
   "cell_type": "code",
   "execution_count": 71,
   "metadata": {},
   "outputs": [
    {
     "name": "stdout",
     "output_type": "stream",
     "text": [
      "3\n"
     ]
    },
    {
     "data": {
      "text/plain": [
       "{1: 'Second element', 2: 'Third element'}"
      ]
     },
     "execution_count": 71,
     "metadata": {},
     "output_type": "execute_result"
    }
   ],
   "source": [
    "m[1:3]"
   ]
  },
  {
   "cell_type": "markdown",
   "metadata": {},
   "source": [
    "#### Sliceable over time simulation "
   ]
  },
  {
   "cell_type": "code",
   "execution_count": 148,
   "metadata": {},
   "outputs": [],
   "source": [
    "from collections.abc import Sequence\n",
    "import bisect\n",
    "\n",
    "class Sliceable_simulation(Sequence):\n",
    "    def __init__(self):\n",
    "        self.simulation = {}\n",
    " \n",
    "    def __len__(self):\n",
    "        return len(self.data)\n",
    " \n",
    "    def append(self, item):\n",
    "        self.simulation[len(self)] = item\n",
    " \n",
    "    def remove(self, item):\n",
    "        if item in self.simulation.values():\n",
    "            del self.simulation[item]\n",
    " \n",
    "    def __repr__(self):\n",
    "        return str(self.simulation)\n",
    " \n",
    "    def __getitem__(self, sliced):\n",
    "        start_time, stop_time = sliced.start, sliced.stop\n",
    "        list_of_keys = list(self.simulation.keys())\n",
    "    \n",
    "        if start_time!=None:\n",
    "            slice_start = bisect.bisect_left(list_of_keys,start_time)\n",
    "        else: slice_start = 0\n",
    "        \n",
    "        if stop_time!=None:\n",
    "            slice_stop = bisect.bisect_right(list_of_keys,stop_time)  \n",
    "        else: slice_stop=len(list_of_keys)\n",
    "        \n",
    "        slicedkeys = list_of_keys[slice(slice_start, slice_stop)]\n",
    "        slice_sim = {k: self.simulation[k] for k in slicedkeys}        \n",
    "        \n",
    "        return slice_sim\n",
    "    \n",
    "    def update(self, dic = {}):\n",
    "        self.simulation.update(dic)\n",
    "    \n",
    "    def items(self):\n",
    "        return self.simulation.items()\n",
    "    \n",
    "    def plot_vs_time(self, ax=None):\n",
    "        if ax is None:\n",
    "            ax = plt.gca()\n",
    "        times = list(self.simulation.keys())\n",
    "        values = [self.simulation[t].state for t in times]\n",
    "        ax.plot(times, values, linestyle='steps-post')\n",
    "        \n",
    "    def plot_hist(self, ax=None):\n",
    "        if ax is None:\n",
    "            ax = plt.gca()\n",
    "        times = list(self.simulation.keys())\n",
    "        values = [self.simulation[t].state for t in times]\n",
    "        ax.bar(times, values)"
   ]
  },
  {
   "cell_type": "code",
   "execution_count": 149,
   "metadata": {},
   "outputs": [],
   "source": [
    "def simulation(starting_state, time_limit, transitions, transitions_names):\n",
    "    observed_states = Sliceable_simulation()\n",
    "    state = starting_state\n",
    "    total_time = 0.0\n",
    "\n",
    "    while total_time < time_limit:\n",
    "        rates = [f(state) for f in transitions]\n",
    "        total_rate = sum(rates)\n",
    "        if total_rate>0:\n",
    "            time = np.random.exponential(1/total_rate)\n",
    "            event = rn.choices(transitions_names, weights=rates)[0]\n",
    "        else:\n",
    "            time = np.inf\n",
    "            event = Transition.ABSORPION\n",
    "            \n",
    "        observation = Observation(state, total_time, time, event)\n",
    "        observed_states.update({total_time : observation}) #I add the observation at the correspondent time \n",
    "\n",
    "        total_time += time\n",
    "\n",
    "        if event == Transition.INCREASE:\n",
    "            state += 1\n",
    "        elif event == Transition.DECREASE:\n",
    "            state -= 1\n",
    "        elif event == Transition.ABSORPION:\n",
    "            pass\n",
    "        else:\n",
    "            raise ValueError(\"transition not recognized\")\n",
    "    return observed_states"
   ]
  },
  {
   "cell_type": "code",
   "execution_count": 150,
   "metadata": {},
   "outputs": [],
   "source": [
    "result = simulation(50, time_limit=1000,\n",
    "                    transitions=[removal_absorbing, increase_absorbing],\n",
    "                    transitions_names=[Transition.DECREASE, Transition.INCREASE])"
   ]
  },
  {
   "cell_type": "code",
   "execution_count": 151,
   "metadata": {},
   "outputs": [
    {
     "data": {
      "image/png": "[encoded data removed]",
      "text/plain": [
       "<Figure size 432x288 with 1 Axes>"
      ]
     },
     "metadata": {
      "needs_background": "light"
     },
     "output_type": "display_data"
    }
   ],
   "source": [
    "result.plot_vs_time()"
   ]
  },
  {
   "cell_type": "code",
   "execution_count": 152,
   "metadata": {},
   "outputs": [
    {
     "data": {
      "image/png": "[encoded data removed]",
      "text/plain": [
       "<Figure size 432x288 with 1 Axes>"
      ]
     },
     "metadata": {
      "needs_background": "light"
     },
     "output_type": "display_data"
    }
   ],
   "source": [
    "result.plot_hist()"
   ]
  },
  {
   "cell_type": "code",
   "execution_count": null,
   "metadata": {},
   "outputs": [],
   "source": []
  }
 ],
 "metadata": {
  "kernelspec": {
   "display_name": "Python 3",
   "language": "python",
   "name": "python3"
  },
  "language_info": {
   "codemirror_mode": {
    "name": "ipython",
    "version": 3
   },
   "file_extension": ".py",
   "mimetype": "text/x-python",
   "name": "python",
   "nbconvert_exporter": "python",
   "pygments_lexer": "ipython3",
   "version": "3.7.2"
  }
 },
 "nbformat": 4,
 "nbformat_minor": 2
}
