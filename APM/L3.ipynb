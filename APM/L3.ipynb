{
 "cells": [
  {
   "cell_type": "markdown",
   "metadata": {},
   "source": [
    "# Lesson on Master Equation and Montecarlo Simulations"
   ]
  },
  {
   "cell_type": "code",
   "execution_count": 66,
   "metadata": {},
   "outputs": [],
   "source": [
    "import numpy as np\n",
    "import pylab as plt\n",
    "import random as rn"
   ]
  },
  {
   "cell_type": "code",
   "execution_count": 67,
   "metadata": {},
   "outputs": [],
   "source": [
    "#proportional destruction\n",
    "def removal(state):\n",
    "    return state*0.1\n",
    "\n",
    "#Constant creation \n",
    "def increase(state):\n",
    "    return 1\n",
    "\n",
    "transitions = [removal, increase]\n",
    "transitions_names = ['removal', 'increase']"
   ]
  },
  {
   "cell_type": "markdown",
   "metadata": {},
   "source": [
    "We expect a Poisson distribution ??? with an average 10????"
   ]
  },
  {
   "cell_type": "markdown",
   "metadata": {},
   "source": [
    "We define the initial state. We only need its current value we do not care of its history. Markovian system."
   ]
  },
  {
   "cell_type": "code",
   "execution_count": 68,
   "metadata": {},
   "outputs": [],
   "source": [
    "state = 5"
   ]
  },
  {
   "cell_type": "markdown",
   "metadata": {},
   "source": [
    "I evalue the rates for the different porcesses"
   ]
  },
  {
   "cell_type": "code",
   "execution_count": 69,
   "metadata": {},
   "outputs": [
    {
     "data": {
      "text/plain": [
       "[0.5, 1]"
      ]
     },
     "execution_count": 69,
     "metadata": {},
     "output_type": "execute_result"
    }
   ],
   "source": [
    "# I can fill a list with the output of a \n",
    "#list of function with the same input\n",
    "rates = [f(state) for f in transitions]\n",
    "rates"
   ]
  },
  {
   "cell_type": "code",
   "execution_count": 70,
   "metadata": {},
   "outputs": [
    {
     "data": {
      "text/plain": [
       "1.5"
      ]
     },
     "execution_count": 70,
     "metadata": {},
     "output_type": "execute_result"
    }
   ],
   "source": [
    "total_rate = sum(rates)\n",
    "total_rate"
   ]
  },
  {
   "cell_type": "code",
   "execution_count": 71,
   "metadata": {},
   "outputs": [
    {
     "data": {
      "text/plain": [
       "2.7341067911868624"
      ]
     },
     "execution_count": 71,
     "metadata": {},
     "output_type": "execute_result"
    }
   ],
   "source": [
    "time = np.random.exponential(1/total_rate) #numpy asks for the scale parameter so we need to invert it\n",
    "time"
   ]
  },
  {
   "cell_type": "markdown",
   "metadata": {},
   "source": [
    "In this way I get how much time I spend in the state. But I lost information about which proces I went through.\n",
    "In order to decide which proces execute we choice randomly between them using the rates as weights."
   ]
  },
  {
   "cell_type": "code",
   "execution_count": 72,
   "metadata": {},
   "outputs": [
    {
     "data": {
      "text/plain": [
       "['increase']"
      ]
     },
     "execution_count": 72,
     "metadata": {},
     "output_type": "execute_result"
    }
   ],
   "source": [
    "rn.choices(transitions_names, weights=rates)"
   ]
  },
  {
   "cell_type": "markdown",
   "metadata": {},
   "source": [
    "Choices always return a list-form output. We can extraxt the first element in order to get the effective process."
   ]
  },
  {
   "cell_type": "code",
   "execution_count": 73,
   "metadata": {},
   "outputs": [
    {
     "name": "stdout",
     "output_type": "stream",
     "text": [
      "increase\n"
     ]
    }
   ],
   "source": [
    "event = rn.choices(transitions_names, weights=rates)[0]\n",
    "print(event)"
   ]
  },
  {
   "cell_type": "markdown",
   "metadata": {},
   "source": [
    "Now we got to update the state of the system"
   ]
  },
  {
   "cell_type": "code",
   "execution_count": 74,
   "metadata": {},
   "outputs": [],
   "source": [
    "if event == 'increase':\n",
    "    state += 1\n",
    "elif event == 'removal':\n",
    "    state -= 1\n",
    "else:\n",
    "    raise ValueError(\"transition not recognized\")"
   ]
  },
  {
   "cell_type": "markdown",
   "metadata": {},
   "source": [
    "This is a rough version, but it works well for us and for now. We could complicate as we want this updating inserting any type of random effects.\n",
    "\n",
    "In order to create the complete simulation we need to take track of which proces happened and when, we also need to decide when to stop this simulation."
   ]
  },
  {
   "cell_type": "code",
   "execution_count": 75,
   "metadata": {},
   "outputs": [],
   "source": [
    "#To make it nicer we import these two modules\n",
    "#Make the code easier\n",
    "import typing\n",
    "from enum import Enum"
   ]
  },
  {
   "cell_type": "code",
   "execution_count": 76,
   "metadata": {},
   "outputs": [],
   "source": [
    "class Transition(Enum):\n",
    "    INCREASE = 'increase'\n",
    "    DECREASE = 'removal'\n",
    "\n",
    "class Observation(typing.NamedTuple):\n",
    "    state: typing.Any\n",
    "    time_of_observation: float\n",
    "    time_of_residency: float\n",
    "    transition: Transition"
   ]
  },
  {
   "cell_type": "markdown",
   "metadata": {},
   "source": [
    "Observation allow us to have a nicer interface."
   ]
  },
  {
   "cell_type": "markdown",
   "metadata": {},
   "source": [
    "Why we ask that transition is a `Transition` object and then we pass a string????"
   ]
  },
  {
   "cell_type": "code",
   "execution_count": 77,
   "metadata": {
    "scrolled": true
   },
   "outputs": [
    {
     "data": {
      "text/plain": [
       "Observation(state=5, time_of_observation=0.1, time_of_residency=0.33, transition=<Transition.DECREASE: 'removal'>)"
      ]
     },
     "execution_count": 77,
     "metadata": {},
     "output_type": "execute_result"
    }
   ],
   "source": [
    "Observation(5, 0.1, 0.33, Transition.DECREASE)"
   ]
  },
  {
   "cell_type": "code",
   "execution_count": 78,
   "metadata": {},
   "outputs": [],
   "source": [
    "transitions = [removal, increase] #list of function\n",
    "transitions_names = [Transition.DECREASE, Transition.INCREASE] #list of strings"
   ]
  },
  {
   "cell_type": "markdown",
   "metadata": {},
   "source": [
    "### Simulation:"
   ]
  },
  {
   "cell_type": "code",
   "execution_count": 79,
   "metadata": {},
   "outputs": [
    {
     "name": "stdout",
     "output_type": "stream",
     "text": [
      "Observation(state=5, time_of_observation=0.0, time_of_residency=1.4921335143540664, transition=<Transition.INCREASE: 'increase'>)\n",
      "Observation(state=6, time_of_observation=1.4921335143540664, time_of_residency=0.14150989252387497, transition=<Transition.INCREASE: 'increase'>)\n",
      "Observation(state=7, time_of_observation=1.6336434068779413, time_of_residency=0.8824643725755924, transition=<Transition.DECREASE: 'removal'>)\n",
      "Observation(state=6, time_of_observation=2.5161077794535336, time_of_residency=0.08611816569428662, transition=<Transition.INCREASE: 'increase'>)\n",
      "Observation(state=7, time_of_observation=2.6022259451478202, time_of_residency=0.9209176445690704, transition=<Transition.DECREASE: 'removal'>)\n",
      "Observation(state=6, time_of_observation=3.5231435897168906, time_of_residency=0.634916843352778, transition=<Transition.INCREASE: 'increase'>)\n",
      "Observation(state=7, time_of_observation=4.158060433069669, time_of_residency=0.4945181842731587, transition=<Transition.INCREASE: 'increase'>)\n",
      "Observation(state=8, time_of_observation=4.652578617342828, time_of_residency=0.09552651159997695, transition=<Transition.DECREASE: 'removal'>)\n",
      "Observation(state=7, time_of_observation=4.748105128942805, time_of_residency=0.03532479842739821, transition=<Transition.INCREASE: 'increase'>)\n",
      "Observation(state=8, time_of_observation=4.783429927370203, time_of_residency=0.5151495718465351, transition=<Transition.DECREASE: 'removal'>)\n"
     ]
    }
   ],
   "source": [
    "#Set up all the environment \n",
    "observed_states = []\n",
    "state = 5\n",
    "total_time = 0.0\n",
    "time_limit = 5.0\n",
    "\n",
    "#simulation loop:\n",
    "while total_time < time_limit:\n",
    "    rates = [f(state) for f in transitions] #Rates are updated according to the state every step\n",
    "    total_rate = sum(rates)\n",
    "    time = np.random.exponential(1/total_rate)#Extract the residence time\n",
    "    event = rn.choices(transitions_names, weights=rates)[0]#Extract which process will happen\n",
    "    \n",
    "    observation = Observation(state, total_time, time, event)\n",
    "    print(observation)\n",
    "    observed_states.append(observation)\n",
    "    \n",
    "    total_time += time\n",
    "    \n",
    "    if event == Transition.INCREASE:\n",
    "        state += 1\n",
    "    elif event == Transition.DECREASE:\n",
    "        state -= 1\n",
    "    else:\n",
    "        raise ValueError(\"transition not recognized\")"
   ]
  },
  {
   "cell_type": "markdown",
   "metadata": {},
   "source": [
    "We can transform the simulation in a function  that returns the list of events:"
   ]
  },
  {
   "cell_type": "code",
   "execution_count": 80,
   "metadata": {},
   "outputs": [],
   "source": [
    "def simulation(starting_state, time_limit):\n",
    "    observed_states = []\n",
    "    state = starting_state\n",
    "    total_time = 0.0\n",
    "\n",
    "    while total_time < time_limit:\n",
    "        rates = [f(state) for f in transitions]\n",
    "        total_rate = sum(rates)\n",
    "        time = np.random.exponential(1/total_rate)\n",
    "        event = rn.choices(transitions_names, weights=rates)[0]\n",
    "\n",
    "        observation = Observation(state, total_time, time, event)\n",
    "        observed_states.append(observation)\n",
    "\n",
    "        total_time += time\n",
    "\n",
    "        if event == Transition.INCREASE:\n",
    "            state += 1\n",
    "        elif event == Transition.DECREASE:\n",
    "            state -= 1\n",
    "        else:\n",
    "            raise ValueError(\"transition not recognized\")\n",
    "    return observed_states"
   ]
  },
  {
   "cell_type": "code",
   "execution_count": 81,
   "metadata": {
    "scrolled": true
   },
   "outputs": [],
   "source": [
    "time_limit = 100\n",
    "result = simulation(starting_state=5, time_limit=time_limit)"
   ]
  },
  {
   "cell_type": "code",
   "execution_count": 82,
   "metadata": {},
   "outputs": [
    {
     "data": {
      "text/plain": [
       "187"
      ]
     },
     "execution_count": 82,
     "metadata": {},
     "output_type": "execute_result"
    }
   ],
   "source": [
    "len(result)"
   ]
  },
  {
   "cell_type": "markdown",
   "metadata": {},
   "source": [
    "In order to make a  more precise simulation I should consider that the `Time_limit` is overshoot by a little bit."
   ]
  },
  {
   "cell_type": "markdown",
   "metadata": {},
   "source": [
    "If we want to make an ECDF we need to count how wuch time the system visited each state."
   ]
  },
  {
   "cell_type": "code",
   "execution_count": 83,
   "metadata": {},
   "outputs": [],
   "source": [
    "from collections import Counter"
   ]
  },
  {
   "cell_type": "code",
   "execution_count": 84,
   "metadata": {},
   "outputs": [],
   "source": [
    "Counter?"
   ]
  },
  {
   "cell_type": "code",
   "execution_count": 85,
   "metadata": {
    "scrolled": true
   },
   "outputs": [
    {
     "name": "stdout",
     "output_type": "stream",
     "text": [
      "Counter({9: 0.23451386883363146, 10: 0.2215002453514003, 8: 0.15825862392990578, 11: 0.13750365798070682, 12: 0.07637152504336502, 13: 0.05907734805609844, 6: 0.0544514617358841, 7: 0.04518273217003348, 5: 0.00989428123033831, 14: 0.0038376795642769863})\n"
     ]
    }
   ],
   "source": [
    "distribution = Counter()\n",
    "for observation in result:\n",
    "    state = observation.state\n",
    "    residency_time = observation.time_of_residency\n",
    "    distribution[state] += residency_time/time_limit\n",
    "print(distribution)"
   ]
  },
  {
   "cell_type": "markdown",
   "metadata": {},
   "source": [
    "More correctly I should sum up all the residency times"
   ]
  },
  {
   "cell_type": "code",
   "execution_count": 86,
   "metadata": {},
   "outputs": [],
   "source": [
    "import scipy.stats as st"
   ]
  },
  {
   "cell_type": "code",
   "execution_count": 87,
   "metadata": {},
   "outputs": [
    {
     "data": {
      "text/plain": [
       "<BarContainer object of 20 artists>"
      ]
     },
     "execution_count": 87,
     "metadata": {},
     "output_type": "execute_result"
    },
    {
     "data": {
      "image/png": "[encoded data removed]",
      "text/plain": [
       "<Figure size 432x288 with 1 Axes>"
      ]
     },
     "metadata": {
      "needs_background": "light"
     },
     "output_type": "display_data"
    }
   ],
   "source": [
    "fig, ax = plt.subplots()\n",
    "ax.bar(distribution.keys(), distribution.values())\n",
    "\n",
    "values = np.arange(20)\n",
    "pmf = st.poisson(10).pmf(values)\n",
    "ax.bar(values, pmf, alpha=0.5)"
   ]
  },
  {
   "cell_type": "markdown",
   "metadata": {},
   "source": [
    "We need a lot more of numbers to have a good cinvergence!"
   ]
  },
  {
   "cell_type": "code",
   "execution_count": 88,
   "metadata": {},
   "outputs": [],
   "source": [
    "def generate_distribution(observation_sequence):\n",
    "    distribution = Counter()\n",
    "    for observation in observation_sequence:\n",
    "        state = observation.state\n",
    "        residency_time = observation.time_of_residency\n",
    "        distribution[state] += residency_time\n",
    "    total_time_observed = sum(distribution.values())\n",
    "    for state in distribution:\n",
    "        distribution[state] /= total_time_observed #This is the right way\n",
    "    return distribution"
   ]
  },
  {
   "cell_type": "code",
   "execution_count": 89,
   "metadata": {},
   "outputs": [],
   "source": [
    "time_limit = 1_000\n",
    "result = simulation(starting_state=5, time_limit=time_limit)\n",
    "distribution = generate_distribution(result)"
   ]
  },
  {
   "cell_type": "markdown",
   "metadata": {},
   "source": [
    "Running the simulation for a longer time the convergence is far better"
   ]
  },
  {
   "cell_type": "code",
   "execution_count": 90,
   "metadata": {},
   "outputs": [
    {
     "data": {
      "text/plain": [
       "<BarContainer object of 20 artists>"
      ]
     },
     "execution_count": 90,
     "metadata": {},
     "output_type": "execute_result"
    },
    {
     "data": {
      "image/png": "[encoded data removed]",
      "text/plain": [
       "<Figure size 432x288 with 1 Axes>"
      ]
     },
     "metadata": {
      "needs_background": "light"
     },
     "output_type": "display_data"
    }
   ],
   "source": [
    "fig, ax = plt.subplots()\n",
    "ax.bar(distribution.keys(), distribution.values())\n",
    "\n",
    "values = np.arange(20)\n",
    "pmf = st.poisson(10).pmf(values)\n",
    "ax.bar(values, pmf, alpha=0.5)"
   ]
  },
  {
   "cell_type": "markdown",
   "metadata": {},
   "source": [
    "I should evaluate how the maximum square difference between the two cdf decrease over the increasing in number of tries. If it goes to zero it's good."
   ]
  },
  {
   "cell_type": "markdown",
   "metadata": {},
   "source": [
    "### Warn in period"
   ]
  },
  {
   "cell_type": "code",
   "execution_count": 91,
   "metadata": {},
   "outputs": [],
   "source": [
    "time_limit = 1_000\n",
    "result = simulation(starting_state=50, time_limit=time_limit)\n",
    "distribution = generate_distribution(result)"
   ]
  },
  {
   "cell_type": "code",
   "execution_count": 92,
   "metadata": {},
   "outputs": [
    {
     "data": {
      "text/plain": [
       "<BarContainer object of 20 artists>"
      ]
     },
     "execution_count": 92,
     "metadata": {},
     "output_type": "execute_result"
    },
    {
     "data": {
      "image/png": "[encoded data removed]",
      "text/plain": [
       "<Figure size 432x288 with 1 Axes>"
      ]
     },
     "metadata": {
      "needs_background": "light"
     },
     "output_type": "display_data"
    }
   ],
   "source": [
    "fig, ax = plt.subplots()\n",
    "ax.bar(distribution.keys(), distribution.values())\n",
    "\n",
    "values = np.arange(20)\n",
    "pmf = st.poisson(10).pmf(values)\n",
    "ax.bar(values, pmf, alpha=0.5)"
   ]
  },
  {
   "cell_type": "markdown",
   "metadata": {},
   "source": [
    "The distribution has become very skewed! because the starting state is way to high."
   ]
  },
  {
   "cell_type": "code",
   "execution_count": 93,
   "metadata": {},
   "outputs": [],
   "source": [
    "time_limit = 1_000\n",
    "result_1 = simulation(starting_state=50, time_limit=time_limit)\n",
    "result_2 = simulation(starting_state=50, time_limit=time_limit)\n",
    "result_3 = simulation(starting_state=50, time_limit=time_limit)"
   ]
  },
  {
   "cell_type": "code",
   "execution_count": 94,
   "metadata": {},
   "outputs": [],
   "source": [
    "def plot_observations(observation_sequence, ax=None):\n",
    "    if ax is None:\n",
    "        ax = plt.gca()\n",
    "    values = [obs.state for obs in observation_sequence]\n",
    "    times = [obs.time_of_observation for obs in observation_sequence]\n",
    "    ax.plot(times, values, linestyle='steps-post')"
   ]
  },
  {
   "cell_type": "code",
   "execution_count": 95,
   "metadata": {},
   "outputs": [
    {
     "data": {
      "image/png": "[encoded data removed]",
      "text/plain": [
       "<Figure size 432x288 with 1 Axes>"
      ]
     },
     "metadata": {
      "needs_background": "light"
     },
     "output_type": "display_data"
    }
   ],
   "source": [
    "fig, ax = plt.subplots()\n",
    "plot_observations(result_1)\n",
    "plot_observations(result_2)\n",
    "plot_observations(result_3)"
   ]
  },
  {
   "cell_type": "markdown",
   "metadata": {},
   "source": [
    "We see that we could drop the very first part of the simulation, that represents a drift phase in the evolution of the system"
   ]
  },
  {
   "cell_type": "markdown",
   "metadata": {},
   "source": [
    "## Absorbing states\n",
    "\n",
    "an absorbing state is one where the transition rates for all the possible transitions is equal to zero.\n",
    "\n",
    "When this happens, the expected residency time becomes infinite (the system is stuck there)\n",
    "\n",
    "let's rewrite our functions so that 0 is an absorbing state"
   ]
  },
  {
   "cell_type": "code",
   "execution_count": 96,
   "metadata": {},
   "outputs": [],
   "source": [
    "class Transition(Enum):\n",
    "    INCREASE = 'increase'\n",
    "    DECREASE = 'removal'\n",
    "    ABSORPION = 'absorbed'"
   ]
  },
  {
   "cell_type": "code",
   "execution_count": 97,
   "metadata": {},
   "outputs": [],
   "source": [
    "def removal_absorbing(state):\n",
    "    return state*0.5\n",
    "\n",
    "def increase_absorbing(state):\n",
    "    return 1 if state>0 else 0\n",
    "\n",
    "transitions = [removal_absorbing, increase_absorbing]\n",
    "transitions_names = [Transition.DECREASE, Transition.INCREASE]"
   ]
  },
  {
   "cell_type": "code",
   "execution_count": 98,
   "metadata": {},
   "outputs": [],
   "source": [
    "state = 0"
   ]
  },
  {
   "cell_type": "code",
   "execution_count": 99,
   "metadata": {},
   "outputs": [
    {
     "data": {
      "text/plain": [
       "[0.0, 0]"
      ]
     },
     "execution_count": 99,
     "metadata": {},
     "output_type": "execute_result"
    }
   ],
   "source": [
    "rates = [f(state) for f in transitions]\n",
    "rates"
   ]
  },
  {
   "cell_type": "code",
   "execution_count": 100,
   "metadata": {},
   "outputs": [
    {
     "data": {
      "text/plain": [
       "0.0"
      ]
     },
     "execution_count": 100,
     "metadata": {},
     "output_type": "execute_result"
    }
   ],
   "source": [
    "total_rate = sum(rates)\n",
    "total_rate"
   ]
  },
  {
   "cell_type": "markdown",
   "metadata": {},
   "source": [
    "The residency time __diverges__!!"
   ]
  },
  {
   "cell_type": "code",
   "execution_count": 101,
   "metadata": {},
   "outputs": [
    {
     "ename": "ZeroDivisionError",
     "evalue": "float division by zero",
     "output_type": "error",
     "traceback": [
      "\u001b[0;31m---------------------------------------------------------------------------\u001b[0m",
      "\u001b[0;31mZeroDivisionError\u001b[0m                         Traceback (most recent call last)",
      "\u001b[0;32m<ipython-input-101-f1dc34eada48>\u001b[0m in \u001b[0;36m<module>\u001b[0;34m\u001b[0m\n\u001b[0;32m----> 1\u001b[0;31m \u001b[0mtime\u001b[0m \u001b[0;34m=\u001b[0m \u001b[0mnp\u001b[0m\u001b[0;34m.\u001b[0m\u001b[0mrandom\u001b[0m\u001b[0;34m.\u001b[0m\u001b[0mexponential\u001b[0m\u001b[0;34m(\u001b[0m\u001b[0;36m1\u001b[0m\u001b[0;34m/\u001b[0m\u001b[0mtotal_rate\u001b[0m\u001b[0;34m)\u001b[0m\u001b[0;34m\u001b[0m\u001b[0;34m\u001b[0m\u001b[0m\n\u001b[0m\u001b[1;32m      2\u001b[0m \u001b[0mtime\u001b[0m\u001b[0;34m\u001b[0m\u001b[0;34m\u001b[0m\u001b[0m\n",
      "\u001b[0;31mZeroDivisionError\u001b[0m: float division by zero"
     ]
    }
   ],
   "source": [
    "time = np.random.exponential(1/total_rate)\n",
    "time"
   ]
  },
  {
   "cell_type": "markdown",
   "metadata": {},
   "source": [
    "This is the way to manage correctly the divergence"
   ]
  },
  {
   "cell_type": "code",
   "execution_count": null,
   "metadata": {},
   "outputs": [],
   "source": [
    "if total_rate>0:\n",
    "    time = np.random.exponential(1/total_rate)\n",
    "else:\n",
    "    time = np.inf\n",
    "time"
   ]
  },
  {
   "cell_type": "code",
   "execution_count": null,
   "metadata": {},
   "outputs": [],
   "source": [
    "def simulation(starting_state, time_limit, transitions, transitions_names):\n",
    "    observed_states = []\n",
    "    state = starting_state\n",
    "    total_time = 0.0\n",
    "\n",
    "    while total_time < time_limit:\n",
    "        rates = [f(state) for f in transitions]\n",
    "        total_rate = sum(rates)\n",
    "        if total_rate>0:\n",
    "            time = np.random.exponential(1/total_rate)\n",
    "            event = rn.choices(transitions_names, weights=rates)[0]\n",
    "        else:\n",
    "            time = np.inf\n",
    "            event = Transition.ABSORPION\n",
    "            \n",
    "        observation = Observation(state, total_time, time, event)\n",
    "        observed_states.append(observation)\n",
    "\n",
    "        total_time += time\n",
    "\n",
    "        if event == Transition.INCREASE:\n",
    "            state += 1\n",
    "        elif event == Transition.DECREASE:\n",
    "            state -= 1\n",
    "        elif event == Transition.ABSORPION:\n",
    "            pass\n",
    "        else:\n",
    "            raise ValueError(\"transition not recognized\")\n",
    "    return observed_states"
   ]
  },
  {
   "cell_type": "code",
   "execution_count": null,
   "metadata": {},
   "outputs": [],
   "source": [
    "result = simulation(5, time_limit=100,\n",
    "                    transitions=[removal_absorbing, increase_absorbing],\n",
    "                    transitions_names=[Transition.DECREASE, Transition.INCREASE])"
   ]
  },
  {
   "cell_type": "code",
   "execution_count": null,
   "metadata": {},
   "outputs": [],
   "source": [
    "for observation in result:\n",
    "    print(observation)\n",
    "    print()"
   ]
  },
  {
   "cell_type": "markdown",
   "metadata": {},
   "source": [
    "## Fixed time events\n",
    "\n",
    "## [...]"
   ]
  },
  {
   "cell_type": "markdown",
   "metadata": {},
   "source": [
    "## Exercise\n",
    "\n",
    "there are still many things that can be done to implement this simulator:\n",
    "\n",
    "1. allow the user to specify the effect of the various transitions\n",
    "2. return the simulation not as a list, but as a dedicated objct that can :\n",
    "    * be sliced over time: my_simulation[0.5:100.0]\n",
    "    * have a plot function dedicated\n",
    "    * automatically estimate the distribution\n",
    "3. always include multiple runs of the simulation, an djoin this with point 2\n",
    "\n"
   ]
  },
  {
   "cell_type": "markdown",
   "metadata": {},
   "source": [
    "There is a site [reference for slicing](https://www.pythoncentral.io/how-to-slice-custom-objects-classes-in-python/) custom objects"
   ]
  },
  {
   "cell_type": "markdown",
   "metadata": {},
   "source": [
    "### This is a sliceable version of a Dictionaty\n",
    "It rounds all about an editing of the `__getitem__` method."
   ]
  },
  {
   "cell_type": "code",
   "execution_count": null,
   "metadata": {},
   "outputs": [],
   "source": [
    "from collections.abc import Sequence\n",
    "class MyDictStructure(Sequence):\n",
    "    def __init__(self):\n",
    "        self.data = {}\n",
    " \n",
    "    def __len__(self):\n",
    "        return len(self.data)\n",
    " \n",
    "    def append(self, item):\n",
    "        self.data[len(self)] = item\n",
    " \n",
    "    def remove(self, item):\n",
    "        if item in self.data.values():\n",
    "            del self.data[item]\n",
    " \n",
    "    def __repr__(self):\n",
    "        return str(self.data)\n",
    " \n",
    "    def __getitem__(self, sliced):\n",
    "        print(sliced)\n",
    "        slicedkeys = list(self.data.keys())[sliced]\n",
    "        data = {k: self.data[k] for k in slicedkeys}        \n",
    "        return data"
   ]
  },
  {
   "cell_type": "code",
   "execution_count": null,
   "metadata": {},
   "outputs": [],
   "source": [
    "m = MyDictStructure()\n",
    "m.append('First element')\n",
    "m.append('Second element')\n",
    "m.append('Third element')\n",
    "m"
   ]
  },
  {
   "cell_type": "code",
   "execution_count": null,
   "metadata": {},
   "outputs": [],
   "source": [
    "m[1:3]"
   ]
  },
  {
   "cell_type": "code",
   "execution_count": 142,
   "metadata": {},
   "outputs": [],
   "source": [
    "from collections.abc import Sequence\n",
    "class Sliceable_simulation(Sequence):\n",
    "    def __init__(self):\n",
    "        self.simulation = {}\n",
    " \n",
    "    def __len__(self):\n",
    "        return len(self.data)\n",
    " \n",
    "    def append(self, item):\n",
    "        self.simulation[len(self)] = item\n",
    " \n",
    "    def remove(self, item):\n",
    "        if item in self.simulation.values():\n",
    "            del self.simulation[item]\n",
    " \n",
    "    def __repr__(self):\n",
    "        return str(self.simulation)\n",
    " \n",
    "    def __getitem__(self, sliced):\n",
    "        print(sliced)\n",
    "        slicedkeys = list(self.simulation.keys())[sliced]\n",
    "        simulation = {k: self.simulation[k] for k in slicedkeys}        \n",
    "        return simulation\n",
    "    \n",
    "    def update(self, dic = {}):\n",
    "        self.simulation.update(dic)\n",
    "    \n",
    "    def items(self):\n",
    "        return self.simulation.items()"
   ]
  },
  {
   "cell_type": "code",
   "execution_count": 143,
   "metadata": {},
   "outputs": [],
   "source": [
    "sim1 = Sliceable_simulation()\n",
    "dic1={-1.0 : 'ciao'}\n",
    "sim1.update(dic1)"
   ]
  },
  {
   "cell_type": "code",
   "execution_count": 144,
   "metadata": {},
   "outputs": [],
   "source": [
    "fake_times= np.linspace(0,1,2**7+1)\n",
    "fake_strings = ['ciao' for _ in range(1000)]\n",
    "dic2 = {k: v for k,v in zip(fake_times, fake_strings) }"
   ]
  },
  {
   "cell_type": "code",
   "execution_count": 145,
   "metadata": {},
   "outputs": [],
   "source": [
    "sim1.update(dic2)"
   ]
  },
  {
   "cell_type": "code",
   "execution_count": 146,
   "metadata": {},
   "outputs": [],
   "source": [
    "def simulation(starting_state, time_limit, transitions, transitions_names):\n",
    "    observed_states = Sliceable_simulation()\n",
    "    state = starting_state\n",
    "    total_time = 0.0\n",
    "\n",
    "    while total_time < time_limit:\n",
    "        rates = [f(state) for f in transitions]\n",
    "        total_rate = sum(rates)\n",
    "        if total_rate>0:\n",
    "            time = np.random.exponential(1/total_rate)\n",
    "            event = rn.choices(transitions_names, weights=rates)[0]\n",
    "        else:\n",
    "            time = np.inf\n",
    "            event = Transition.ABSORPION\n",
    "            \n",
    "        observation = Observation(state, total_time, time, event)\n",
    "        observed_states.update({total_time : observation})\n",
    "\n",
    "        total_time += time\n",
    "\n",
    "        if event == Transition.INCREASE:\n",
    "            state += 1\n",
    "        elif event == Transition.DECREASE:\n",
    "            state -= 1\n",
    "        elif event == Transition.ABSORPION:\n",
    "            pass\n",
    "        else:\n",
    "            raise ValueError(\"transition not recognized\")\n",
    "    return observed_states"
   ]
  },
  {
   "cell_type": "code",
   "execution_count": 147,
   "metadata": {},
   "outputs": [],
   "source": [
    "result = simulation(5, time_limit=100,\n",
    "                    transitions=[removal_absorbing, increase_absorbing],\n",
    "                    transitions_names=[Transition.DECREASE, Transition.INCREASE])"
   ]
  },
  {
   "cell_type": "code",
   "execution_count": 148,
   "metadata": {},
   "outputs": [
    {
     "name": "stdout",
     "output_type": "stream",
     "text": [
      "0.0\n",
      "Observation(state=5, time_of_observation=0.0, time_of_residency=0.01940516847112916, transition=<Transition.INCREASE: 'increase'>)\n",
      "0.01940516847112916\n",
      "Observation(state=6, time_of_observation=0.01940516847112916, time_of_residency=0.8256955078121384, transition=<Transition.DECREASE: 'removal'>)\n",
      "0.8451006762832676\n",
      "Observation(state=5, time_of_observation=0.8451006762832676, time_of_residency=0.09683812150671052, transition=<Transition.DECREASE: 'removal'>)\n",
      "0.9419387977899781\n",
      "Observation(state=4, time_of_observation=0.9419387977899781, time_of_residency=0.2747762569629815, transition=<Transition.DECREASE: 'removal'>)\n",
      "1.2167150547529597\n",
      "Observation(state=3, time_of_observation=1.2167150547529597, time_of_residency=1.1924935908690089, transition=<Transition.DECREASE: 'removal'>)\n",
      "2.409208645621969\n",
      "Observation(state=2, time_of_observation=2.409208645621969, time_of_residency=0.2663904398821048, transition=<Transition.INCREASE: 'increase'>)\n",
      "2.6755990855040737\n",
      "Observation(state=3, time_of_observation=2.6755990855040737, time_of_residency=2.3811830510772594, transition=<Transition.DECREASE: 'removal'>)\n",
      "5.056782136581333\n",
      "Observation(state=2, time_of_observation=5.056782136581333, time_of_residency=0.25219021047704615, transition=<Transition.DECREASE: 'removal'>)\n",
      "5.308972347058379\n",
      "Observation(state=1, time_of_observation=5.308972347058379, time_of_residency=0.9595575926934476, transition=<Transition.DECREASE: 'removal'>)\n",
      "6.268529939751827\n",
      "Observation(state=0, time_of_observation=6.268529939751827, time_of_residency=inf, transition=<Transition.ABSORPION: 'absorbed'>)\n"
     ]
    }
   ],
   "source": [
    "for k,v in result.items():\n",
    "    print(k)\n",
    "    print(v)"
   ]
  },
  {
   "cell_type": "raw",
   "metadata": {},
   "source": [
    " print(result[0:2]) ???????"
   ]
  },
  {
   "cell_type": "code",
   "execution_count": null,
   "metadata": {},
   "outputs": [],
   "source": []
  },
  {
   "cell_type": "code",
   "execution_count": null,
   "metadata": {},
   "outputs": [],
   "source": []
  }
 ],
 "metadata": {
  "kernelspec": {
   "display_name": "Python 3",
   "language": "python",
   "name": "python3"
  },
  "language_info": {
   "codemirror_mode": {
    "name": "ipython",
    "version": 3
   },
   "file_extension": ".py",
   "mimetype": "text/x-python",
   "name": "python",
   "nbconvert_exporter": "python",
   "pygments_lexer": "ipython3",
   "version": "3.7.2"
  }
 },
 "nbformat": 4,
 "nbformat_minor": 2
}
