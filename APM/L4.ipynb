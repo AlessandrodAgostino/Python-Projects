{
 "cells": [
  {
   "cell_type": "markdown",
   "metadata": {},
   "source": [
    "## Live-Coding lesson on Markov chains"
   ]
  },
  {
   "cell_type": "markdown",
   "metadata": {},
   "source": [
    "We'll apply to text generation"
   ]
  },
  {
   "cell_type": "code",
   "execution_count": 2,
   "metadata": {},
   "outputs": [],
   "source": [
    "text_file = \"./divinacommedia_cleaned.txt\""
   ]
  },
  {
   "cell_type": "markdown",
   "metadata": {},
   "source": [
    "## Familiarize with data"
   ]
  },
  {
   "cell_type": "code",
   "execution_count": 6,
   "metadata": {},
   "outputs": [],
   "source": [
    "with open(text_file, 'r', encoding='utf8') as infile:\n",
    "    for line in infile:\n",
    "        pass"
   ]
  },
  {
   "cell_type": "markdown",
   "metadata": {},
   "source": [
    "How many words I find in my file?\n",
    "How many couples I need?\n",
    "\n",
    "I have 30 characters possible( 26 letters + space, newline, full stop, exlamation point)"
   ]
  },
  {
   "cell_type": "code",
   "execution_count": 7,
   "metadata": {},
   "outputs": [
    {
     "data": {
      "text/plain": [
       "900"
      ]
     },
     "execution_count": 7,
     "metadata": {},
     "output_type": "execute_result"
    }
   ],
   "source": [
    "#First order Chain\n",
    "30**2"
   ]
  },
  {
   "cell_type": "code",
   "execution_count": 8,
   "metadata": {},
   "outputs": [
    {
     "data": {
      "text/plain": [
       "27000"
      ]
     },
     "execution_count": 8,
     "metadata": {},
     "output_type": "execute_result"
    }
   ],
   "source": [
    "#Second order Chain\n",
    "30**3"
   ]
  },
  {
   "cell_type": "code",
   "execution_count": 9,
   "metadata": {},
   "outputs": [
    {
     "data": {
      "text/plain": [
       "810000"
      ]
     },
     "execution_count": 9,
     "metadata": {},
     "output_type": "execute_result"
    }
   ],
   "source": [
    "#third order Chain\n",
    "30**4"
   ]
  },
  {
   "cell_type": "markdown",
   "metadata": {},
   "source": [
    "I need at leat 10e7 characters to make a good estimations of that order"
   ]
  },
  {
   "cell_type": "markdown",
   "metadata": {},
   "source": [
    "In our corpus we have .ca 5e5 characters: we can't do a good 2nd order estimation. But we know that not every combination is spread equally, some compbination doesn't occur at all!!! Most of the combination won't appear"
   ]
  },
  {
   "cell_type": "code",
   "execution_count": 10,
   "metadata": {},
   "outputs": [
    {
     "name": "stdout",
     "output_type": "stream",
     "text": [
      "529771\n"
     ]
    }
   ],
   "source": [
    "letters=0\n",
    "with open(text_file, 'r', encoding='utf8') as infile:\n",
    "    for line in infile:\n",
    "        for letter in line:\n",
    "            letters +=1\n",
    "print(letters)"
   ]
  },
  {
   "cell_type": "code",
   "execution_count": 15,
   "metadata": {},
   "outputs": [],
   "source": [
    "# How many and which letters I actually have in my text\n",
    "from collections import Counter\n",
    "observed = Counter()\n",
    "with open(text_file, 'r', encoding='utf-8-sig') as infile:\n",
    "    for line in infile:\n",
    "        for letter in line:\n",
    "            observed[letter] += 1"
   ]
  },
  {
   "cell_type": "code",
   "execution_count": 16,
   "metadata": {
    "scrolled": true
   },
   "outputs": [
    {
     "data": {
      "text/plain": [
       "Counter({'N': 258,\n",
       "         'e': 46094,\n",
       "         'l': 23087,\n",
       "         ' ': 83019,\n",
       "         'm': 11681,\n",
       "         'z': 1848,\n",
       "         'o': 37254,\n",
       "         'd': 14599,\n",
       "         'c': 20267,\n",
       "         'a': 42035,\n",
       "         'i': 39200,\n",
       "         'n': 26229,\n",
       "         's': 22188,\n",
       "         't': 22478,\n",
       "         'r': 25805,\n",
       "         'v': 7946,\n",
       "         '\\n': 19054,\n",
       "         'p': 10790,\n",
       "         'u': 13408,\n",
       "         ',': 8513,\n",
       "         'h': 7109,\n",
       "         'é': 903,\n",
       "         '.': 3275,\n",
       "         'A': 377,\n",
       "         'q': 3025,\n",
       "         'è': 925,\n",
       "         'g': 7121,\n",
       "         'f': 4947,\n",
       "         '!': 232,\n",
       "         'T': 283,\n",
       "         '’': 7623,\n",
       "         'ù': 1080,\n",
       "         ';': 1628,\n",
       "         'b': 2758,\n",
       "         'ò': 938,\n",
       "         'I': 359,\n",
       "         'M': 405,\n",
       "         'à': 855,\n",
       "         'E': 586,\n",
       "         'ì': 1383,\n",
       "         'P': 473,\n",
       "         'Q': 328,\n",
       "         '«': 1062,\n",
       "         '»': 1062,\n",
       "         'R': 117,\n",
       "         ':': 988,\n",
       "         'ï': 427,\n",
       "         'ó': 30,\n",
       "         '?': 278,\n",
       "         'O': 356,\n",
       "         'V': 222,\n",
       "         'D': 407,\n",
       "         'C': 554,\n",
       "         'L': 411,\n",
       "         'S': 443,\n",
       "         'ë': 83,\n",
       "         '“': 51,\n",
       "         'B': 223,\n",
       "         '”': 51,\n",
       "         '—': 18,\n",
       "         '‘': 109,\n",
       "         'G': 199,\n",
       "         'F': 180,\n",
       "         'Z': 7,\n",
       "         'ü': 55,\n",
       "         'U': 43,\n",
       "         'H': 2,\n",
       "         'ö': 1,\n",
       "         'ä': 8,\n",
       "         'x': 3,\n",
       "         'y': 1,\n",
       "         '(': 3,\n",
       "         ')': 3,\n",
       "         'È': 2,\n",
       "         'j': 2,\n",
       "         'Ë': 2,\n",
       "         'Ï': 1,\n",
       "         '-': 1})"
      ]
     },
     "execution_count": 16,
     "metadata": {},
     "output_type": "execute_result"
    }
   ],
   "source": [
    "observed"
   ]
  },
  {
   "cell_type": "markdown",
   "metadata": {},
   "source": [
    "We can treat this wierd data as they are, or we can replace them in a certain way.\n",
    "We make a manual normalization"
   ]
  },
  {
   "cell_type": "code",
   "execution_count": 29,
   "metadata": {},
   "outputs": [],
   "source": [
    "to_replace = {'Ë':'E', 'Ï':'I',\n",
    "              'ö':'o', 'ä':'a',\n",
    "              'ü':'u', 'ë':'e',\n",
    "              'ï':'i' }\n",
    "\n",
    "def letter_normalization_naive(letter):\n",
    "    if letter in to_replace:\n",
    "        return to_replace[letter]\n",
    "    return letter\n",
    " \n",
    "def letter_normalization_short(letter):\n",
    "    return to_replace.get(letter, letter)    \n",
    "    "
   ]
  },
  {
   "cell_type": "code",
   "execution_count": 22,
   "metadata": {},
   "outputs": [
    {
     "data": {
      "text/plain": [
       "'E'"
      ]
     },
     "execution_count": 22,
     "metadata": {},
     "output_type": "execute_result"
    }
   ],
   "source": [
    "letter_normalization_naive('Ë')"
   ]
  },
  {
   "cell_type": "code",
   "execution_count": 23,
   "metadata": {},
   "outputs": [
    {
     "data": {
      "text/plain": [
       "'E'"
      ]
     },
     "execution_count": 23,
     "metadata": {},
     "output_type": "execute_result"
    }
   ],
   "source": [
    "letter_normalization_short('Ë')"
   ]
  },
  {
   "cell_type": "code",
   "execution_count": 24,
   "metadata": {},
   "outputs": [
    {
     "name": "stdout",
     "output_type": "stream",
     "text": [
      "110 ns ± 4.04 ns per loop (mean ± std. dev. of 7 runs, 10000000 loops each)\n"
     ]
    }
   ],
   "source": [
    "%timeit letter_normalization_naive('Ë')"
   ]
  },
  {
   "cell_type": "code",
   "execution_count": 25,
   "metadata": {},
   "outputs": [
    {
     "name": "stdout",
     "output_type": "stream",
     "text": [
      "122 ns ± 0.361 ns per loop (mean ± std. dev. of 7 runs, 10000000 loops each)\n"
     ]
    }
   ],
   "source": [
    "%timeit letter_normalization_short('Ë')"
   ]
  },
  {
   "cell_type": "markdown",
   "metadata": {},
   "source": [
    "It's slightly faster the naive version!"
   ]
  },
  {
   "cell_type": "code",
   "execution_count": 26,
   "metadata": {},
   "outputs": [],
   "source": [
    "letter_normalization = letter_normalization_naive"
   ]
  },
  {
   "cell_type": "code",
   "execution_count": 27,
   "metadata": {},
   "outputs": [],
   "source": [
    "# How many and which letters I actually have in my text\n",
    "from collections import Counter\n",
    "observed = Counter()\n",
    "with open(text_file, 'r', encoding='utf-8-sig') as infile:\n",
    "    for line in infile:\n",
    "        for letter in line:\n",
    "            modified_letter = letter_normalization(letter)\n",
    "            observed[modified_letter] += 1"
   ]
  },
  {
   "cell_type": "code",
   "execution_count": 30,
   "metadata": {},
   "outputs": [],
   "source": [
    "from random import choices"
   ]
  },
  {
   "cell_type": "markdown",
   "metadata": {},
   "source": [
    "completely random selection!!!"
   ]
  },
  {
   "cell_type": "code",
   "execution_count": 51,
   "metadata": {},
   "outputs": [
    {
     "name": "stdout",
     "output_type": "stream",
     "text": [
      "qmpao \n",
      "i\n",
      "ml rato\n",
      "m v\n"
     ]
    }
   ],
   "source": [
    "letters = list(observed.keys())\n",
    "occurences = list(observed.values())\n",
    "generated = choices(letters, occurences, k =20 )\n",
    "\n",
    "collated = \"\".join(generated)\n",
    "print(collated)"
   ]
  },
  {
   "cell_type": "markdown",
   "metadata": {},
   "source": [
    "# First order markov chain"
   ]
  },
  {
   "cell_type": "markdown",
   "metadata": {},
   "source": [
    "We need to take letters in couples.\n",
    "\n",
    "\"home\" -> (h,o), (o,m), (m,e)"
   ]
  },
  {
   "cell_type": "code",
   "execution_count": 54,
   "metadata": {},
   "outputs": [
    {
     "data": {
      "text/plain": [
       "[('h', 'o'), ('o', 'm'), ('m', 'e')]"
      ]
     },
     "execution_count": 54,
     "metadata": {},
     "output_type": "execute_result"
    }
   ],
   "source": [
    "def couples_from_seq(seq):\n",
    "    \"\"\"`seq` is a list of characters\"\"\"\n",
    "    return zip(seq, seq[1:])\n",
    "\n",
    "list(couples_from_seq('home'))"
   ]
  },
  {
   "cell_type": "markdown",
   "metadata": {},
   "source": [
    "Let's pick up all the divina commedia as a single string:\n",
    "\n",
    "### NOT MEMORY FRIENDLY!!!!"
   ]
  },
  {
   "cell_type": "code",
   "execution_count": 60,
   "metadata": {},
   "outputs": [],
   "source": [
    "with open(text_file, 'r', encoding='utf-8-sig') as infile:\n",
    "    whole_text = \"\".join(line for line in infile)"
   ]
  },
  {
   "cell_type": "code",
   "execution_count": 64,
   "metadata": {},
   "outputs": [
    {
     "name": "stdout",
     "output_type": "stream",
     "text": [
      "Nel mezzo del cammin di nostra vita\n",
      "mi ritrovai per una selva oscura,\n",
      "ché la diritta via era smarrita.\n",
      "\n",
      "Ahi quanto a dir\n"
     ]
    }
   ],
   "source": [
    "print(whole_text[:120])"
   ]
  },
  {
   "cell_type": "code",
   "execution_count": 65,
   "metadata": {},
   "outputs": [],
   "source": [
    "all_couples = list(couples_from_seq(whole_text))"
   ]
  },
  {
   "cell_type": "code",
   "execution_count": 66,
   "metadata": {},
   "outputs": [
    {
     "data": {
      "text/plain": [
       "[('N', 'e'),\n",
       " ('e', 'l'),\n",
       " ('l', ' '),\n",
       " (' ', 'm'),\n",
       " ('m', 'e'),\n",
       " ('e', 'z'),\n",
       " ('z', 'z'),\n",
       " ('z', 'o'),\n",
       " ('o', ' '),\n",
       " (' ', 'd')]"
      ]
     },
     "execution_count": 66,
     "metadata": {},
     "output_type": "execute_result"
    }
   ],
   "source": [
    "all_couples[:10]"
   ]
  },
  {
   "cell_type": "code",
   "execution_count": 142,
   "metadata": {},
   "outputs": [],
   "source": [
    "from collections import defaultdict\n",
    "# Counter -= defaultdict(int)\n",
    "#I think it's like a counter of counters\n",
    "couples_counter = defaultdict(Counter)\n",
    "for first_letter, second_letter in all_couples:\n",
    "    couples_counter[first_letter][second_letter] +=1"
   ]
  },
  {
   "cell_type": "code",
   "execution_count": 77,
   "metadata": {},
   "outputs": [
    {
     "data": {
      "text/plain": [
       "Counter({'a': 1, 'c': 1})"
      ]
     },
     "execution_count": 77,
     "metadata": {},
     "output_type": "execute_result"
    }
   ],
   "source": [
    "foo = defaultdict(Counter)\n",
    "foo['b']['a'] += 1\n",
    "foo['b']['c'] += 1\n",
    "\n",
    "#Is like:\n",
    "if 'c' not in foo:\n",
    "    foo['c'] = Counter()\n",
    "foo['c']['a'] += 1\n",
    "\n",
    "foo\n",
    "\n",
    "foo['b']"
   ]
  },
  {
   "cell_type": "markdown",
   "metadata": {},
   "source": [
    "How many actual couples did we observe:"
   ]
  },
  {
   "cell_type": "code",
   "execution_count": 79,
   "metadata": {},
   "outputs": [
    {
     "data": {
      "text/plain": [
       "529770"
      ]
     },
     "execution_count": 79,
     "metadata": {},
     "output_type": "execute_result"
    }
   ],
   "source": [
    "sum(sum(counts.values()) for counts in couples_counter.values())"
   ]
  },
  {
   "cell_type": "code",
   "execution_count": 130,
   "metadata": {},
   "outputs": [
    {
     "data": {
      "text/plain": [
       "'o'"
      ]
     },
     "execution_count": 130,
     "metadata": {},
     "output_type": "execute_result"
    }
   ],
   "source": [
    "letter = 'N'\n",
    "possible_letters = list(couples_counter[letter].keys())\n",
    "counts = list(couples_counter[letter].values())\n",
    "choices(possible_letters, counts)[0]"
   ]
  },
  {
   "cell_type": "markdown",
   "metadata": {},
   "source": [
    "In order to make the simulation I need to repeat this procedure replacing the starting letter"
   ]
  },
  {
   "cell_type": "code",
   "execution_count": 131,
   "metadata": {},
   "outputs": [],
   "source": [
    "text = ['N']"
   ]
  },
  {
   "cell_type": "code",
   "execution_count": 133,
   "metadata": {},
   "outputs": [
    {
     "name": "stdout",
     "output_type": "stream",
     "text": [
      "No! ra ll sera isso\n",
      "Ma l’un so datali viarl’li delo\n",
      "Quador oneachediria s’n mme soltono,\n",
      "va cialtto.\n",
      "e Pe velua condi ure me lorolalosivi fi pi: mal ne, ’ l’lagn bo usorimmico ltrvastivïe,\n",
      "\n",
      "Inta;\n",
      "eme chisuido.\n",
      "\n",
      "esticheror\n"
     ]
    }
   ],
   "source": [
    "for i in range(200):\n",
    "    last_letter = text[-1]\n",
    "    possible_letters = list(couples_counter[last_letter].keys())\n",
    "    counts = list(couples_counter[last_letter].values())\n",
    "    next_letter = choices(possible_letters, counts)[0]\n",
    "    text.append(next_letter)\n",
    "print(\"\".join(text))"
   ]
  },
  {
   "cell_type": "markdown",
   "metadata": {},
   "source": [
    "## Second order Markov Chain"
   ]
  },
  {
   "cell_type": "code",
   "execution_count": 134,
   "metadata": {},
   "outputs": [],
   "source": [
    "with open(text_file, 'r', encoding='utf-8-sig') as infile:\n",
    "    whole_text = \"\".join(line for line in infile)"
   ]
  },
  {
   "cell_type": "code",
   "execution_count": 266,
   "metadata": {},
   "outputs": [],
   "source": [
    "def triplets_from_seq(seq):\n",
    "    \"\"\"`seq` is a list of characters\"\"\"\n",
    "    return zip(seq, seq[1:], seq[2:])"
   ]
  },
  {
   "cell_type": "code",
   "execution_count": 267,
   "metadata": {},
   "outputs": [],
   "source": [
    "all_triplets = list(triplets_from_seq(whole_text))"
   ]
  },
  {
   "cell_type": "code",
   "execution_count": 268,
   "metadata": {},
   "outputs": [
    {
     "data": {
      "text/plain": [
       "[('N', 'e', 'l'),\n",
       " ('e', 'l', ' '),\n",
       " ('l', ' ', 'm'),\n",
       " (' ', 'm', 'e'),\n",
       " ('m', 'e', 'z'),\n",
       " ('e', 'z', 'z'),\n",
       " ('z', 'z', 'o'),\n",
       " ('z', 'o', ' '),\n",
       " ('o', ' ', 'd'),\n",
       " (' ', 'd', 'e')]"
      ]
     },
     "execution_count": 268,
     "metadata": {},
     "output_type": "execute_result"
    }
   ],
   "source": [
    "all_triplets[:10]"
   ]
  },
  {
   "cell_type": "code",
   "execution_count": 199,
   "metadata": {},
   "outputs": [],
   "source": [
    "from collections import defaultdict\n",
    "# Counter -= defaultdict(int)\n",
    "#I think it's like a counter of counters\n",
    "triplets_counter = defaultdict(Counter)\n",
    "for first_letter, second_letter, third_letter in all_triplets:\n",
    "    triplets_counter[(first_letter,second_letter)][third_letter] +=1"
   ]
  },
  {
   "cell_type": "code",
   "execution_count": 235,
   "metadata": {},
   "outputs": [
    {
     "data": {
      "text/plain": [
       "'t'"
      ]
     },
     "execution_count": 235,
     "metadata": {},
     "output_type": "execute_result"
    }
   ],
   "source": [
    "letters = tuple('Ne')\n",
    "possible_letters = list(triplets_counter[letters].keys())\n",
    "counts = list(triplets_counter[letters].values())\n",
    "choices(possible_letters, counts)[0]"
   ]
  },
  {
   "cell_type": "code",
   "execution_count": 236,
   "metadata": {},
   "outputs": [
    {
     "data": {
      "text/plain": [
       "('e', 'l')"
      ]
     },
     "execution_count": 236,
     "metadata": {},
     "output_type": "execute_result"
    }
   ],
   "source": [
    "text = ['N', 'e', 'l']\n",
    "tuple(text[-2:])"
   ]
  },
  {
   "cell_type": "code",
   "execution_count": 250,
   "metadata": {},
   "outputs": [
    {
     "data": {
      "text/plain": [
       "' '"
      ]
     },
     "execution_count": 250,
     "metadata": {},
     "output_type": "execute_result"
    }
   ],
   "source": [
    "text = ['N', 'e', 'l']\n",
    "tuple(text[-2:])\n",
    "last_letters = tuple(text[-2:])\n",
    "possible_letters = list(triplets_counter[last_letters].keys())\n",
    "counts = list(triplets_counter[last_letters].values())\n",
    "choices(possible_letters, counts)[0]"
   ]
  },
  {
   "cell_type": "code",
   "execution_count": 270,
   "metadata": {},
   "outputs": [
    {
     "name": "stdout",
     "output_type": "stream",
     "text": [
      "Nestuando\n",
      "co caccome s’adrataza,\n",
      "fia so sar prio oma vidime la l’aggide so a ger che pienziel ch’io congentorso se:\n",
      "on Dio;\n",
      "e gi».\n",
      "\n",
      "sette volto ch’alt’ a acquel Fio: «Ala alta illorso la e sti sond’uni.\n"
     ]
    }
   ],
   "source": [
    "text = ['N', 'e']\n",
    "for i in range(200):\n",
    "    last_letters = tuple(text[-2:])\n",
    "    possible_letters = list(triplets_counter[last_letters].keys())\n",
    "    counts = list(triplets_counter[last_letters].values())\n",
    "    next_letter = choices(possible_letters, counts)[0]\n",
    "    text.append(next_letter)\n",
    "print(\"\".join(text))"
   ]
  },
  {
   "cell_type": "markdown",
   "metadata": {},
   "source": [
    "# Markovian chain of order N"
   ]
  },
  {
   "cell_type": "code",
   "execution_count": 6,
   "metadata": {
    "scrolled": false
   },
   "outputs": [
    {
     "name": "stdout",
     "output_type": "stream",
     "text": [
      "Nel suo seggiata poco suon vòlti.\n",
      "\n",
      "Io son so de le ne la femminati, letizia, erete ov’ io,\n",
      "falso i Roma ch’io vogliel vissimo d’ingegnon tutto lume aiuta mone», disio che vuo’ sarebbe e ’l corpo di foss’ io qui piè de l’aere va d’un né Poluce, fu l’uno scempie,\n",
      "l’universone al maestro a quante.\n",
      "\n",
      "«La princi vider ver’ lo stimo gran da l’univer novello ciglia\n",
      "qual, se piene dissi sdegno.\n",
      "\n",
      "È Bëatria, o convieni\n",
      "si fatto mescarca;\n",
      "\n",
      "e quel mondo mai;\n",
      "ma podestra.\n",
      "\n",
      "Sì mirra rossa e là digresso un poco;\n",
      "ma lui che mi diparte diviso rivesti non si vaneti o nodo tutto l’aere e sotto scosse ’l grazia e cose Sorgando è tuoi:\n",
      "ecco fuor che siete\n",
      "al qual si pur sofferse.\n",
      "\n",
      "Questa\n",
      "s’io per carcati,\n",
      "ma tirando il late.\n",
      "\n",
      "Pensa\n",
      "in che, là dove piace\n",
      "come udi’: «Dolce guardo me terza al dentro al nomero da il quant’ i son l’altri fia gran quella lui, «non ti smarranni a dice.\n",
      "\n",
      "Vien risposto mi diceva\n",
      "pur non più per aiuta la pensi.\n",
      "\n",
      "L’esser cupe\n",
      "quanto de li ragion fu nobile a che tanto che l’aula più grando\n"
     ]
    }
   ],
   "source": [
    "from collections import Counter, defaultdict\n",
    "from random import choices\n",
    "\n",
    "text_file = \"./divinacommedia_cleaned.txt\"\n",
    "with open(text_file, 'r', encoding='utf-8-sig') as infile:\n",
    "    whole_text = \"\".join(line for line in infile)\n",
    "    \n",
    "def n_tuples_from_seq(n, seq): \n",
    "    tuple_of_seq = tuple(seq[i:] for i in range(n))\n",
    "    return zip(*tuple_of_seq)\n",
    "\n",
    "#Scelgo la lunghezza della memoria\n",
    "n=5\n",
    "all_tuples = list(n_tuples_from_seq(n,whole_text))\n",
    "\n",
    "tuples_counter = defaultdict(Counter)\n",
    "for key_tuple in all_tuples:\n",
    "    tuples_counter[key_tuple[:-1]][key_tuple[-1]] +=1\n",
    "    \n",
    "text = list(whole_text[:n-1])\n",
    "for i in range(1000):\n",
    "    last_letters = tuple(text[-(n-1):])\n",
    "    possible_letters = list(tuples_counter[last_letters].keys())\n",
    "    counts = list(tuples_counter[last_letters].values())\n",
    "    next_letter = choices(possible_letters, counts)[0]\n",
    "    text.append(next_letter)\n",
    "print(\"\".join(text))"
   ]
  },
  {
   "cell_type": "code",
   "execution_count": 12,
   "metadata": {},
   "outputs": [],
   "source": [
    "import requests\n",
    "url_base = (\"https://raw.githubusercontent.com/UniboDIFABiophysics\"+\n",
    "                \"/programmingCourseDIFA/master/divine_comedy/\")\n",
    "filename = \"divinacommedia_cleaned.txt\"\n",
    "response = requests.get(url_base + filename)    \n",
    "response.raise_for_status()    \n",
    "with open(filename, 'wb') as handle:\n",
    "    handle.write(response.content)"
   ]
  }
 ],
 "metadata": {
  "kernelspec": {
   "display_name": "Python 3",
   "language": "python",
   "name": "python3"
  },
  "language_info": {
   "codemirror_mode": {
    "name": "ipython",
    "version": 3
   },
   "file_extension": ".py",
   "mimetype": "text/x-python",
   "name": "python",
   "nbconvert_exporter": "python",
   "pygments_lexer": "ipython3",
   "version": "3.7.2"
  }
 },
 "nbformat": 4,
 "nbformat_minor": 2
}
